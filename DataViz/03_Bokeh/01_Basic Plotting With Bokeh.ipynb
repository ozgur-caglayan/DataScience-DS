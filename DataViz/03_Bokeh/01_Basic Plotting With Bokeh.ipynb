{
 "cells": [
  {
   "cell_type": "markdown",
   "metadata": {},
   "source": [
    "# Interactive Visualization With BOKEH\n",
    "\n",
    "# Basic Plotting With Bokeh"
   ]
  },
  {
   "cell_type": "markdown",
   "metadata": {},
   "source": [
    "https://www.datacamp.com/courses/interactive-data-visualization-with-bokeh"
   ]
  },
  {
   "cell_type": "markdown",
   "metadata": {},
   "source": [
    "## Importing Libraries and Dataset"
   ]
  },
  {
   "cell_type": "code",
   "execution_count": 1,
   "metadata": {},
   "outputs": [],
   "source": [
    "% matplotlib inline\n",
    "import pandas as pd\n",
    "import numpy as np\n",
    "\n",
    "from bokeh.plotting import figure\n",
    "from bokeh.io import output_file, show\n",
    "from bokeh.io import output_notebook   # To display the plot in jupyter inline\n",
    "from bokeh.models import ColumnDataSource"
   ]
  },
  {
   "cell_type": "markdown",
   "metadata": {},
   "source": [
    "## Plotting First Plot"
   ]
  },
  {
   "cell_type": "code",
   "execution_count": 2,
   "metadata": {},
   "outputs": [
    {
     "data": {
      "text/html": [
       "\n",
       "    <div class=\"bk-root\">\n",
       "        <a href=\"https://bokeh.pydata.org\" target=\"_blank\" class=\"bk-logo bk-logo-small bk-logo-notebook\"></a>\n",
       "        <span id=\"6f173b39-3832-42e8-b172-10bcc930de28\">Loading BokehJS ...</span>\n",
       "    </div>"
      ]
     },
     "metadata": {},
     "output_type": "display_data"
    },
    {
     "data": {
      "application/javascript": [
       "\n",
       "(function(root) {\n",
       "  function now() {\n",
       "    return new Date();\n",
       "  }\n",
       "\n",
       "  var force = true;\n",
       "\n",
       "  if (typeof (root._bokeh_onload_callbacks) === \"undefined\" || force === true) {\n",
       "    root._bokeh_onload_callbacks = [];\n",
       "    root._bokeh_is_loading = undefined;\n",
       "  }\n",
       "\n",
       "  var JS_MIME_TYPE = 'application/javascript';\n",
       "  var HTML_MIME_TYPE = 'text/html';\n",
       "  var EXEC_MIME_TYPE = 'application/vnd.bokehjs_exec.v0+json';\n",
       "  var CLASS_NAME = 'output_bokeh rendered_html';\n",
       "\n",
       "  /**\n",
       "   * Render data to the DOM node\n",
       "   */\n",
       "  function render(props, node) {\n",
       "    var script = document.createElement(\"script\");\n",
       "    node.appendChild(script);\n",
       "  }\n",
       "\n",
       "  /**\n",
       "   * Handle when an output is cleared or removed\n",
       "   */\n",
       "  function handleClearOutput(event, handle) {\n",
       "    var cell = handle.cell;\n",
       "\n",
       "    var id = cell.output_area._bokeh_element_id;\n",
       "    var server_id = cell.output_area._bokeh_server_id;\n",
       "    // Clean up Bokeh references\n",
       "    if (id != null && id in Bokeh.index) {\n",
       "      Bokeh.index[id].model.document.clear();\n",
       "      delete Bokeh.index[id];\n",
       "    }\n",
       "\n",
       "    if (server_id !== undefined) {\n",
       "      // Clean up Bokeh references\n",
       "      var cmd = \"from bokeh.io.state import curstate; print(curstate().uuid_to_server['\" + server_id + \"'].get_sessions()[0].document.roots[0]._id)\";\n",
       "      cell.notebook.kernel.execute(cmd, {\n",
       "        iopub: {\n",
       "          output: function(msg) {\n",
       "            var id = msg.content.text.trim();\n",
       "            if (id in Bokeh.index) {\n",
       "              Bokeh.index[id].model.document.clear();\n",
       "              delete Bokeh.index[id];\n",
       "            }\n",
       "          }\n",
       "        }\n",
       "      });\n",
       "      // Destroy server and session\n",
       "      var cmd = \"import bokeh.io.notebook as ion; ion.destroy_server('\" + server_id + \"')\";\n",
       "      cell.notebook.kernel.execute(cmd);\n",
       "    }\n",
       "  }\n",
       "\n",
       "  /**\n",
       "   * Handle when a new output is added\n",
       "   */\n",
       "  function handleAddOutput(event, handle) {\n",
       "    var output_area = handle.output_area;\n",
       "    var output = handle.output;\n",
       "\n",
       "    // limit handleAddOutput to display_data with EXEC_MIME_TYPE content only\n",
       "    if ((output.output_type != \"display_data\") || (!output.data.hasOwnProperty(EXEC_MIME_TYPE))) {\n",
       "      return\n",
       "    }\n",
       "\n",
       "    var toinsert = output_area.element.find(\".\" + CLASS_NAME.split(' ')[0]);\n",
       "\n",
       "    if (output.metadata[EXEC_MIME_TYPE][\"id\"] !== undefined) {\n",
       "      toinsert[toinsert.length - 1].firstChild.textContent = output.data[JS_MIME_TYPE];\n",
       "      // store reference to embed id on output_area\n",
       "      output_area._bokeh_element_id = output.metadata[EXEC_MIME_TYPE][\"id\"];\n",
       "    }\n",
       "    if (output.metadata[EXEC_MIME_TYPE][\"server_id\"] !== undefined) {\n",
       "      var bk_div = document.createElement(\"div\");\n",
       "      bk_div.innerHTML = output.data[HTML_MIME_TYPE];\n",
       "      var script_attrs = bk_div.children[0].attributes;\n",
       "      for (var i = 0; i < script_attrs.length; i++) {\n",
       "        toinsert[toinsert.length - 1].firstChild.setAttribute(script_attrs[i].name, script_attrs[i].value);\n",
       "      }\n",
       "      // store reference to server id on output_area\n",
       "      output_area._bokeh_server_id = output.metadata[EXEC_MIME_TYPE][\"server_id\"];\n",
       "    }\n",
       "  }\n",
       "\n",
       "  function register_renderer(events, OutputArea) {\n",
       "\n",
       "    function append_mime(data, metadata, element) {\n",
       "      // create a DOM node to render to\n",
       "      var toinsert = this.create_output_subarea(\n",
       "        metadata,\n",
       "        CLASS_NAME,\n",
       "        EXEC_MIME_TYPE\n",
       "      );\n",
       "      this.keyboard_manager.register_events(toinsert);\n",
       "      // Render to node\n",
       "      var props = {data: data, metadata: metadata[EXEC_MIME_TYPE]};\n",
       "      render(props, toinsert[toinsert.length - 1]);\n",
       "      element.append(toinsert);\n",
       "      return toinsert\n",
       "    }\n",
       "\n",
       "    /* Handle when an output is cleared or removed */\n",
       "    events.on('clear_output.CodeCell', handleClearOutput);\n",
       "    events.on('delete.Cell', handleClearOutput);\n",
       "\n",
       "    /* Handle when a new output is added */\n",
       "    events.on('output_added.OutputArea', handleAddOutput);\n",
       "\n",
       "    /**\n",
       "     * Register the mime type and append_mime function with output_area\n",
       "     */\n",
       "    OutputArea.prototype.register_mime_type(EXEC_MIME_TYPE, append_mime, {\n",
       "      /* Is output safe? */\n",
       "      safe: true,\n",
       "      /* Index of renderer in `output_area.display_order` */\n",
       "      index: 0\n",
       "    });\n",
       "  }\n",
       "\n",
       "  // register the mime type if in Jupyter Notebook environment and previously unregistered\n",
       "  if (root.Jupyter !== undefined) {\n",
       "    var events = require('base/js/events');\n",
       "    var OutputArea = require('notebook/js/outputarea').OutputArea;\n",
       "\n",
       "    if (OutputArea.prototype.mime_types().indexOf(EXEC_MIME_TYPE) == -1) {\n",
       "      register_renderer(events, OutputArea);\n",
       "    }\n",
       "  }\n",
       "\n",
       "  \n",
       "  if (typeof (root._bokeh_timeout) === \"undefined\" || force === true) {\n",
       "    root._bokeh_timeout = Date.now() + 5000;\n",
       "    root._bokeh_failed_load = false;\n",
       "  }\n",
       "\n",
       "  var NB_LOAD_WARNING = {'data': {'text/html':\n",
       "     \"<div style='background-color: #fdd'>\\n\"+\n",
       "     \"<p>\\n\"+\n",
       "     \"BokehJS does not appear to have successfully loaded. If loading BokehJS from CDN, this \\n\"+\n",
       "     \"may be due to a slow or bad network connection. Possible fixes:\\n\"+\n",
       "     \"</p>\\n\"+\n",
       "     \"<ul>\\n\"+\n",
       "     \"<li>re-rerun `output_notebook()` to attempt to load from CDN again, or</li>\\n\"+\n",
       "     \"<li>use INLINE resources instead, as so:</li>\\n\"+\n",
       "     \"</ul>\\n\"+\n",
       "     \"<code>\\n\"+\n",
       "     \"from bokeh.resources import INLINE\\n\"+\n",
       "     \"output_notebook(resources=INLINE)\\n\"+\n",
       "     \"</code>\\n\"+\n",
       "     \"</div>\"}};\n",
       "\n",
       "  function display_loaded() {\n",
       "    var el = document.getElementById(\"6f173b39-3832-42e8-b172-10bcc930de28\");\n",
       "    if (el != null) {\n",
       "      el.textContent = \"BokehJS is loading...\";\n",
       "    }\n",
       "    if (root.Bokeh !== undefined) {\n",
       "      if (el != null) {\n",
       "        el.textContent = \"BokehJS \" + root.Bokeh.version + \" successfully loaded.\";\n",
       "      }\n",
       "    } else if (Date.now() < root._bokeh_timeout) {\n",
       "      setTimeout(display_loaded, 100)\n",
       "    }\n",
       "  }\n",
       "\n",
       "\n",
       "  function run_callbacks() {\n",
       "    try {\n",
       "      root._bokeh_onload_callbacks.forEach(function(callback) { callback() });\n",
       "    }\n",
       "    finally {\n",
       "      delete root._bokeh_onload_callbacks\n",
       "    }\n",
       "    console.info(\"Bokeh: all callbacks have finished\");\n",
       "  }\n",
       "\n",
       "  function load_libs(js_urls, callback) {\n",
       "    root._bokeh_onload_callbacks.push(callback);\n",
       "    if (root._bokeh_is_loading > 0) {\n",
       "      console.log(\"Bokeh: BokehJS is being loaded, scheduling callback at\", now());\n",
       "      return null;\n",
       "    }\n",
       "    if (js_urls == null || js_urls.length === 0) {\n",
       "      run_callbacks();\n",
       "      return null;\n",
       "    }\n",
       "    console.log(\"Bokeh: BokehJS not loaded, scheduling load and callback at\", now());\n",
       "    root._bokeh_is_loading = js_urls.length;\n",
       "    for (var i = 0; i < js_urls.length; i++) {\n",
       "      var url = js_urls[i];\n",
       "      var s = document.createElement('script');\n",
       "      s.src = url;\n",
       "      s.async = false;\n",
       "      s.onreadystatechange = s.onload = function() {\n",
       "        root._bokeh_is_loading--;\n",
       "        if (root._bokeh_is_loading === 0) {\n",
       "          console.log(\"Bokeh: all BokehJS libraries loaded\");\n",
       "          run_callbacks()\n",
       "        }\n",
       "      };\n",
       "      s.onerror = function() {\n",
       "        console.warn(\"failed to load library \" + url);\n",
       "      };\n",
       "      console.log(\"Bokeh: injecting script tag for BokehJS library: \", url);\n",
       "      document.getElementsByTagName(\"head\")[0].appendChild(s);\n",
       "    }\n",
       "  };var element = document.getElementById(\"6f173b39-3832-42e8-b172-10bcc930de28\");\n",
       "  if (element == null) {\n",
       "    console.log(\"Bokeh: ERROR: autoload.js configured with elementid '6f173b39-3832-42e8-b172-10bcc930de28' but no matching script tag was found. \")\n",
       "    return false;\n",
       "  }\n",
       "\n",
       "  var js_urls = [\"https://cdn.pydata.org/bokeh/release/bokeh-0.13.0.min.js\", \"https://cdn.pydata.org/bokeh/release/bokeh-widgets-0.13.0.min.js\", \"https://cdn.pydata.org/bokeh/release/bokeh-tables-0.13.0.min.js\", \"https://cdn.pydata.org/bokeh/release/bokeh-gl-0.13.0.min.js\"];\n",
       "\n",
       "  var inline_js = [\n",
       "    function(Bokeh) {\n",
       "      Bokeh.set_log_level(\"info\");\n",
       "    },\n",
       "    \n",
       "    function(Bokeh) {\n",
       "      \n",
       "    },\n",
       "    function(Bokeh) {\n",
       "      console.log(\"Bokeh: injecting CSS: https://cdn.pydata.org/bokeh/release/bokeh-0.13.0.min.css\");\n",
       "      Bokeh.embed.inject_css(\"https://cdn.pydata.org/bokeh/release/bokeh-0.13.0.min.css\");\n",
       "      console.log(\"Bokeh: injecting CSS: https://cdn.pydata.org/bokeh/release/bokeh-widgets-0.13.0.min.css\");\n",
       "      Bokeh.embed.inject_css(\"https://cdn.pydata.org/bokeh/release/bokeh-widgets-0.13.0.min.css\");\n",
       "      console.log(\"Bokeh: injecting CSS: https://cdn.pydata.org/bokeh/release/bokeh-tables-0.13.0.min.css\");\n",
       "      Bokeh.embed.inject_css(\"https://cdn.pydata.org/bokeh/release/bokeh-tables-0.13.0.min.css\");\n",
       "    }\n",
       "  ];\n",
       "\n",
       "  function run_inline_js() {\n",
       "    \n",
       "    if ((root.Bokeh !== undefined) || (force === true)) {\n",
       "      for (var i = 0; i < inline_js.length; i++) {\n",
       "        inline_js[i].call(root, root.Bokeh);\n",
       "      }if (force === true) {\n",
       "        display_loaded();\n",
       "      }} else if (Date.now() < root._bokeh_timeout) {\n",
       "      setTimeout(run_inline_js, 100);\n",
       "    } else if (!root._bokeh_failed_load) {\n",
       "      console.log(\"Bokeh: BokehJS failed to load within specified timeout.\");\n",
       "      root._bokeh_failed_load = true;\n",
       "    } else if (force !== true) {\n",
       "      var cell = $(document.getElementById(\"6f173b39-3832-42e8-b172-10bcc930de28\")).parents('.cell').data().cell;\n",
       "      cell.output_area.append_execute_result(NB_LOAD_WARNING)\n",
       "    }\n",
       "\n",
       "  }\n",
       "\n",
       "  if (root._bokeh_is_loading === 0) {\n",
       "    console.log(\"Bokeh: BokehJS loaded, going straight to plotting\");\n",
       "    run_inline_js();\n",
       "  } else {\n",
       "    load_libs(js_urls, function() {\n",
       "      console.log(\"Bokeh: BokehJS plotting callback run at\", now());\n",
       "      run_inline_js();\n",
       "    });\n",
       "  }\n",
       "}(window));"
      ],
      "application/vnd.bokehjs_load.v0+json": "\n(function(root) {\n  function now() {\n    return new Date();\n  }\n\n  var force = true;\n\n  if (typeof (root._bokeh_onload_callbacks) === \"undefined\" || force === true) {\n    root._bokeh_onload_callbacks = [];\n    root._bokeh_is_loading = undefined;\n  }\n\n  \n\n  \n  if (typeof (root._bokeh_timeout) === \"undefined\" || force === true) {\n    root._bokeh_timeout = Date.now() + 5000;\n    root._bokeh_failed_load = false;\n  }\n\n  var NB_LOAD_WARNING = {'data': {'text/html':\n     \"<div style='background-color: #fdd'>\\n\"+\n     \"<p>\\n\"+\n     \"BokehJS does not appear to have successfully loaded. If loading BokehJS from CDN, this \\n\"+\n     \"may be due to a slow or bad network connection. Possible fixes:\\n\"+\n     \"</p>\\n\"+\n     \"<ul>\\n\"+\n     \"<li>re-rerun `output_notebook()` to attempt to load from CDN again, or</li>\\n\"+\n     \"<li>use INLINE resources instead, as so:</li>\\n\"+\n     \"</ul>\\n\"+\n     \"<code>\\n\"+\n     \"from bokeh.resources import INLINE\\n\"+\n     \"output_notebook(resources=INLINE)\\n\"+\n     \"</code>\\n\"+\n     \"</div>\"}};\n\n  function display_loaded() {\n    var el = document.getElementById(\"6f173b39-3832-42e8-b172-10bcc930de28\");\n    if (el != null) {\n      el.textContent = \"BokehJS is loading...\";\n    }\n    if (root.Bokeh !== undefined) {\n      if (el != null) {\n        el.textContent = \"BokehJS \" + root.Bokeh.version + \" successfully loaded.\";\n      }\n    } else if (Date.now() < root._bokeh_timeout) {\n      setTimeout(display_loaded, 100)\n    }\n  }\n\n\n  function run_callbacks() {\n    try {\n      root._bokeh_onload_callbacks.forEach(function(callback) { callback() });\n    }\n    finally {\n      delete root._bokeh_onload_callbacks\n    }\n    console.info(\"Bokeh: all callbacks have finished\");\n  }\n\n  function load_libs(js_urls, callback) {\n    root._bokeh_onload_callbacks.push(callback);\n    if (root._bokeh_is_loading > 0) {\n      console.log(\"Bokeh: BokehJS is being loaded, scheduling callback at\", now());\n      return null;\n    }\n    if (js_urls == null || js_urls.length === 0) {\n      run_callbacks();\n      return null;\n    }\n    console.log(\"Bokeh: BokehJS not loaded, scheduling load and callback at\", now());\n    root._bokeh_is_loading = js_urls.length;\n    for (var i = 0; i < js_urls.length; i++) {\n      var url = js_urls[i];\n      var s = document.createElement('script');\n      s.src = url;\n      s.async = false;\n      s.onreadystatechange = s.onload = function() {\n        root._bokeh_is_loading--;\n        if (root._bokeh_is_loading === 0) {\n          console.log(\"Bokeh: all BokehJS libraries loaded\");\n          run_callbacks()\n        }\n      };\n      s.onerror = function() {\n        console.warn(\"failed to load library \" + url);\n      };\n      console.log(\"Bokeh: injecting script tag for BokehJS library: \", url);\n      document.getElementsByTagName(\"head\")[0].appendChild(s);\n    }\n  };var element = document.getElementById(\"6f173b39-3832-42e8-b172-10bcc930de28\");\n  if (element == null) {\n    console.log(\"Bokeh: ERROR: autoload.js configured with elementid '6f173b39-3832-42e8-b172-10bcc930de28' but no matching script tag was found. \")\n    return false;\n  }\n\n  var js_urls = [\"https://cdn.pydata.org/bokeh/release/bokeh-0.13.0.min.js\", \"https://cdn.pydata.org/bokeh/release/bokeh-widgets-0.13.0.min.js\", \"https://cdn.pydata.org/bokeh/release/bokeh-tables-0.13.0.min.js\", \"https://cdn.pydata.org/bokeh/release/bokeh-gl-0.13.0.min.js\"];\n\n  var inline_js = [\n    function(Bokeh) {\n      Bokeh.set_log_level(\"info\");\n    },\n    \n    function(Bokeh) {\n      \n    },\n    function(Bokeh) {\n      console.log(\"Bokeh: injecting CSS: https://cdn.pydata.org/bokeh/release/bokeh-0.13.0.min.css\");\n      Bokeh.embed.inject_css(\"https://cdn.pydata.org/bokeh/release/bokeh-0.13.0.min.css\");\n      console.log(\"Bokeh: injecting CSS: https://cdn.pydata.org/bokeh/release/bokeh-widgets-0.13.0.min.css\");\n      Bokeh.embed.inject_css(\"https://cdn.pydata.org/bokeh/release/bokeh-widgets-0.13.0.min.css\");\n      console.log(\"Bokeh: injecting CSS: https://cdn.pydata.org/bokeh/release/bokeh-tables-0.13.0.min.css\");\n      Bokeh.embed.inject_css(\"https://cdn.pydata.org/bokeh/release/bokeh-tables-0.13.0.min.css\");\n    }\n  ];\n\n  function run_inline_js() {\n    \n    if ((root.Bokeh !== undefined) || (force === true)) {\n      for (var i = 0; i < inline_js.length; i++) {\n        inline_js[i].call(root, root.Bokeh);\n      }if (force === true) {\n        display_loaded();\n      }} else if (Date.now() < root._bokeh_timeout) {\n      setTimeout(run_inline_js, 100);\n    } else if (!root._bokeh_failed_load) {\n      console.log(\"Bokeh: BokehJS failed to load within specified timeout.\");\n      root._bokeh_failed_load = true;\n    } else if (force !== true) {\n      var cell = $(document.getElementById(\"6f173b39-3832-42e8-b172-10bcc930de28\")).parents('.cell').data().cell;\n      cell.output_area.append_execute_result(NB_LOAD_WARNING)\n    }\n\n  }\n\n  if (root._bokeh_is_loading === 0) {\n    console.log(\"Bokeh: BokehJS loaded, going straight to plotting\");\n    run_inline_js();\n  } else {\n    load_libs(js_urls, function() {\n      console.log(\"Bokeh: BokehJS plotting callback run at\", now());\n      run_inline_js();\n    });\n  }\n}(window));"
     },
     "metadata": {},
     "output_type": "display_data"
    }
   ],
   "source": [
    "output_notebook()"
   ]
  },
  {
   "cell_type": "code",
   "execution_count": 3,
   "metadata": {},
   "outputs": [
    {
     "data": {
      "text/html": [
       "\n",
       "\n",
       "\n",
       "\n",
       "\n",
       "\n",
       "  <div class=\"bk-root\" id=\"33e68b6d-e919-4416-b167-1024bb4c8e86\"></div>\n"
      ]
     },
     "metadata": {},
     "output_type": "display_data"
    },
    {
     "data": {
      "application/javascript": [
       "(function(root) {\n",
       "  function embed_document(root) {\n",
       "    \n",
       "  var docs_json = {\"df5144cc-b921-4298-abe8-5cbc330d29c1\":{\"roots\":{\"references\":[{\"attributes\":{\"data_source\":{\"id\":\"193f0bfa-5597-4a8c-9412-55a9abd673dd\",\"type\":\"ColumnDataSource\"},\"glyph\":{\"id\":\"cd66ea7a-960a-4d52-a017-9f0fcd98f85a\",\"type\":\"Circle\"},\"hover_glyph\":null,\"muted_glyph\":null,\"nonselection_glyph\":{\"id\":\"23967578-d37b-48b0-806f-1d1bd2c92f8d\",\"type\":\"Circle\"},\"selection_glyph\":null,\"view\":{\"id\":\"0f1a5809-3b12-44be-a062-2ca56cdc7d72\",\"type\":\"CDSView\"}},\"id\":\"c6354945-66ff-487c-a8cf-6edffd558c81\",\"type\":\"GlyphRenderer\"},{\"attributes\":{\"formatter\":{\"id\":\"7412e722-8076-4e2f-9c6d-5e65b34911c2\",\"type\":\"BasicTickFormatter\"},\"plot\":{\"id\":\"a02c590e-2192-4f6d-a48e-bbd193032f23\",\"subtype\":\"Figure\",\"type\":\"Plot\"},\"ticker\":{\"id\":\"2cbfdccb-dfc0-43df-a777-dcdecef81b99\",\"type\":\"BasicTicker\"}},\"id\":\"35e84c94-c45a-4ef2-999a-0046caa33c47\",\"type\":\"LinearAxis\"},{\"attributes\":{\"fill_color\":{\"value\":\"#1f77b4\"},\"line_color\":{\"value\":\"#1f77b4\"},\"x\":{\"field\":\"x\"},\"y\":{\"field\":\"y\"}},\"id\":\"cd66ea7a-960a-4d52-a017-9f0fcd98f85a\",\"type\":\"Circle\"},{\"attributes\":{\"bottom_units\":\"screen\",\"fill_alpha\":{\"value\":0.5},\"fill_color\":{\"value\":\"lightgrey\"},\"left_units\":\"screen\",\"level\":\"overlay\",\"line_alpha\":{\"value\":1.0},\"line_color\":{\"value\":\"black\"},\"line_dash\":[4,4],\"line_width\":{\"value\":2},\"plot\":null,\"render_mode\":\"css\",\"right_units\":\"screen\",\"top_units\":\"screen\"},\"id\":\"b0995d4b-865a-4d29-b8a9-7ddf59b7ed33\",\"type\":\"BoxAnnotation\"},{\"attributes\":{},\"id\":\"ede33d06-8d7b-45f4-acc7-1e053044b3a9\",\"type\":\"BasicTickFormatter\"},{\"attributes\":{},\"id\":\"2cbfdccb-dfc0-43df-a777-dcdecef81b99\",\"type\":\"BasicTicker\"},{\"attributes\":{\"plot\":{\"id\":\"a02c590e-2192-4f6d-a48e-bbd193032f23\",\"subtype\":\"Figure\",\"type\":\"Plot\"},\"ticker\":{\"id\":\"2cbfdccb-dfc0-43df-a777-dcdecef81b99\",\"type\":\"BasicTicker\"}},\"id\":\"65a35dce-8b03-4068-a74b-bfd3ac073f0a\",\"type\":\"Grid\"},{\"attributes\":{\"formatter\":{\"id\":\"ede33d06-8d7b-45f4-acc7-1e053044b3a9\",\"type\":\"BasicTickFormatter\"},\"plot\":{\"id\":\"a02c590e-2192-4f6d-a48e-bbd193032f23\",\"subtype\":\"Figure\",\"type\":\"Plot\"},\"ticker\":{\"id\":\"672d12e3-613e-4d40-8164-8a18c1484ac1\",\"type\":\"BasicTicker\"}},\"id\":\"63fe8ab1-0c9f-4b9c-b1b0-4b2a954cfc28\",\"type\":\"LinearAxis\"},{\"attributes\":{\"plot\":null,\"text\":\"\"},\"id\":\"89b4d549-6933-4ae0-b33f-a12e3f649e49\",\"type\":\"Title\"},{\"attributes\":{},\"id\":\"672d12e3-613e-4d40-8164-8a18c1484ac1\",\"type\":\"BasicTicker\"},{\"attributes\":{\"dimension\":1,\"plot\":{\"id\":\"a02c590e-2192-4f6d-a48e-bbd193032f23\",\"subtype\":\"Figure\",\"type\":\"Plot\"},\"ticker\":{\"id\":\"672d12e3-613e-4d40-8164-8a18c1484ac1\",\"type\":\"BasicTicker\"}},\"id\":\"e2929817-c094-4f1a-9ec3-0110b37229b6\",\"type\":\"Grid\"},{\"attributes\":{\"callback\":null,\"data\":{\"x\":[1,2,3,4,5],\"y\":[8,6,5,2,3]},\"selected\":{\"id\":\"5e3aa86d-d905-41e9-ac41-6ed38c711626\",\"type\":\"Selection\"},\"selection_policy\":{\"id\":\"beef86b2-23d0-42ee-bc9c-b3415be6a77f\",\"type\":\"UnionRenderers\"}},\"id\":\"193f0bfa-5597-4a8c-9412-55a9abd673dd\",\"type\":\"ColumnDataSource\"},{\"attributes\":{\"overlay\":{\"id\":\"b0995d4b-865a-4d29-b8a9-7ddf59b7ed33\",\"type\":\"BoxAnnotation\"}},\"id\":\"4bcabea2-c412-432a-8abd-8a1ea9d08a02\",\"type\":\"BoxZoomTool\"},{\"attributes\":{},\"id\":\"8b4a2a36-56a1-49b4-9472-00c8c823d9e6\",\"type\":\"PanTool\"},{\"attributes\":{\"below\":[{\"id\":\"35e84c94-c45a-4ef2-999a-0046caa33c47\",\"type\":\"LinearAxis\"}],\"left\":[{\"id\":\"63fe8ab1-0c9f-4b9c-b1b0-4b2a954cfc28\",\"type\":\"LinearAxis\"}],\"plot_width\":400,\"renderers\":[{\"id\":\"35e84c94-c45a-4ef2-999a-0046caa33c47\",\"type\":\"LinearAxis\"},{\"id\":\"65a35dce-8b03-4068-a74b-bfd3ac073f0a\",\"type\":\"Grid\"},{\"id\":\"63fe8ab1-0c9f-4b9c-b1b0-4b2a954cfc28\",\"type\":\"LinearAxis\"},{\"id\":\"e2929817-c094-4f1a-9ec3-0110b37229b6\",\"type\":\"Grid\"},{\"id\":\"b0995d4b-865a-4d29-b8a9-7ddf59b7ed33\",\"type\":\"BoxAnnotation\"},{\"id\":\"c6354945-66ff-487c-a8cf-6edffd558c81\",\"type\":\"GlyphRenderer\"}],\"title\":{\"id\":\"89b4d549-6933-4ae0-b33f-a12e3f649e49\",\"type\":\"Title\"},\"toolbar\":{\"id\":\"485df106-b1a0-467e-8553-a9ce05477cb0\",\"type\":\"Toolbar\"},\"x_range\":{\"id\":\"ef282aee-e61d-4627-8545-176492835bce\",\"type\":\"DataRange1d\"},\"x_scale\":{\"id\":\"4ae0eddd-7fa6-43c4-aa22-4712048aa9b2\",\"type\":\"LinearScale\"},\"y_range\":{\"id\":\"c24ea691-1d21-472b-822a-68ac03de5baf\",\"type\":\"DataRange1d\"},\"y_scale\":{\"id\":\"5b68d339-d28e-4728-b442-67b1efe55b82\",\"type\":\"LinearScale\"}},\"id\":\"a02c590e-2192-4f6d-a48e-bbd193032f23\",\"subtype\":\"Figure\",\"type\":\"Plot\"},{\"attributes\":{},\"id\":\"5e3aa86d-d905-41e9-ac41-6ed38c711626\",\"type\":\"Selection\"},{\"attributes\":{},\"id\":\"beef86b2-23d0-42ee-bc9c-b3415be6a77f\",\"type\":\"UnionRenderers\"},{\"attributes\":{\"fill_alpha\":{\"value\":0.1},\"fill_color\":{\"value\":\"#1f77b4\"},\"line_alpha\":{\"value\":0.1},\"line_color\":{\"value\":\"#1f77b4\"},\"x\":{\"field\":\"x\"},\"y\":{\"field\":\"y\"}},\"id\":\"23967578-d37b-48b0-806f-1d1bd2c92f8d\",\"type\":\"Circle\"},{\"attributes\":{\"active_drag\":\"auto\",\"active_inspect\":\"auto\",\"active_multi\":null,\"active_scroll\":\"auto\",\"active_tap\":\"auto\",\"tools\":[{\"id\":\"8b4a2a36-56a1-49b4-9472-00c8c823d9e6\",\"type\":\"PanTool\"},{\"id\":\"4bcabea2-c412-432a-8abd-8a1ea9d08a02\",\"type\":\"BoxZoomTool\"}]},\"id\":\"485df106-b1a0-467e-8553-a9ce05477cb0\",\"type\":\"Toolbar\"},{\"attributes\":{\"source\":{\"id\":\"193f0bfa-5597-4a8c-9412-55a9abd673dd\",\"type\":\"ColumnDataSource\"}},\"id\":\"0f1a5809-3b12-44be-a062-2ca56cdc7d72\",\"type\":\"CDSView\"},{\"attributes\":{},\"id\":\"7412e722-8076-4e2f-9c6d-5e65b34911c2\",\"type\":\"BasicTickFormatter\"},{\"attributes\":{\"callback\":null},\"id\":\"ef282aee-e61d-4627-8545-176492835bce\",\"type\":\"DataRange1d\"},{\"attributes\":{},\"id\":\"5b68d339-d28e-4728-b442-67b1efe55b82\",\"type\":\"LinearScale\"},{\"attributes\":{\"callback\":null},\"id\":\"c24ea691-1d21-472b-822a-68ac03de5baf\",\"type\":\"DataRange1d\"},{\"attributes\":{},\"id\":\"4ae0eddd-7fa6-43c4-aa22-4712048aa9b2\",\"type\":\"LinearScale\"}],\"root_ids\":[\"a02c590e-2192-4f6d-a48e-bbd193032f23\"]},\"title\":\"Bokeh Application\",\"version\":\"0.13.0\"}};\n",
       "  var render_items = [{\"docid\":\"df5144cc-b921-4298-abe8-5cbc330d29c1\",\"roots\":{\"a02c590e-2192-4f6d-a48e-bbd193032f23\":\"33e68b6d-e919-4416-b167-1024bb4c8e86\"}}];\n",
       "  root.Bokeh.embed.embed_items_notebook(docs_json, render_items);\n",
       "\n",
       "  }\n",
       "  if (root.Bokeh !== undefined) {\n",
       "    embed_document(root);\n",
       "  } else {\n",
       "    var attempts = 0;\n",
       "    var timer = setInterval(function(root) {\n",
       "      if (root.Bokeh !== undefined) {\n",
       "        embed_document(root);\n",
       "        clearInterval(timer);\n",
       "      }\n",
       "      attempts++;\n",
       "      if (attempts > 100) {\n",
       "        console.log(\"Bokeh: ERROR: Unable to run BokehJS code because BokehJS library is missing\")\n",
       "        clearInterval(timer);\n",
       "      }\n",
       "    }, 10, root)\n",
       "  }\n",
       "})(window);"
      ],
      "application/vnd.bokehjs_exec.v0+json": ""
     },
     "metadata": {
      "application/vnd.bokehjs_exec.v0+json": {
       "id": "a02c590e-2192-4f6d-a48e-bbd193032f23"
      }
     },
     "output_type": "display_data"
    }
   ],
   "source": [
    "plot = figure(plot_width=400, tools='pan,box_zoom') \n",
    "plot.circle([1,2,3,4,5], [8,6,5,2,3]) \n",
    "output_file('circle.html') \n",
    "show(plot)"
   ]
  },
  {
   "cell_type": "markdown",
   "metadata": {},
   "source": [
    "## Plotting A Simple Line "
   ]
  },
  {
   "cell_type": "code",
   "execution_count": 4,
   "metadata": {
    "scrolled": false
   },
   "outputs": [
    {
     "data": {
      "text/html": [
       "\n",
       "\n",
       "\n",
       "\n",
       "\n",
       "\n",
       "  <div class=\"bk-root\" id=\"71d09a9a-12e9-4d0c-a4b2-0251dfa7c9fb\"></div>\n"
      ]
     },
     "metadata": {},
     "output_type": "display_data"
    },
    {
     "data": {
      "application/javascript": [
       "(function(root) {\n",
       "  function embed_document(root) {\n",
       "    \n",
       "  var docs_json = {\"6e59e48c-1273-45da-8186-2d7a8c2d8b21\":{\"roots\":{\"references\":[{\"attributes\":{},\"id\":\"236ec80a-db7d-4223-bd12-958785a464a6\",\"type\":\"BasicTicker\"},{\"attributes\":{\"overlay\":{\"id\":\"d0b82a9e-4d4b-4617-9403-8a1dc183296f\",\"type\":\"BoxAnnotation\"}},\"id\":\"061269f0-c439-4c1a-9f49-72d0149d8c7e\",\"type\":\"BoxZoomTool\"},{\"attributes\":{\"data_source\":{\"id\":\"a948b776-9a31-49b9-9eaa-57bb53806613\",\"type\":\"ColumnDataSource\"},\"glyph\":{\"id\":\"a36c60ee-ef1e-4497-bb89-e402e7b06340\",\"type\":\"Line\"},\"hover_glyph\":null,\"muted_glyph\":null,\"nonselection_glyph\":{\"id\":\"93306063-0d27-4557-9063-6f4354395ece\",\"type\":\"Line\"},\"selection_glyph\":null,\"view\":{\"id\":\"e4a52f30-12b5-410f-896a-ef59a1fd000b\",\"type\":\"CDSView\"}},\"id\":\"451f9721-609a-4c0d-975a-72280938bf5a\",\"type\":\"GlyphRenderer\"},{\"attributes\":{\"callback\":null,\"data\":{\"x\":[1,2,3,4,5],\"y\":[8,6,5,2,3]},\"selected\":{\"id\":\"62b58a7d-7835-49fa-b53e-022e711f8041\",\"type\":\"Selection\"},\"selection_policy\":{\"id\":\"f20ea88c-e0e7-46b2-8679-db8eb4ec510d\",\"type\":\"UnionRenderers\"}},\"id\":\"a948b776-9a31-49b9-9eaa-57bb53806613\",\"type\":\"ColumnDataSource\"},{\"attributes\":{},\"id\":\"a5f67ae8-2064-4d32-bbad-5116f5bcc4f9\",\"type\":\"ResetTool\"},{\"attributes\":{\"plot\":null,\"text\":\"\"},\"id\":\"8bfa1901-aa97-4d7d-b4f4-81ac1eeea81c\",\"type\":\"Title\"},{\"attributes\":{\"bottom_units\":\"screen\",\"fill_alpha\":{\"value\":0.5},\"fill_color\":{\"value\":\"lightgrey\"},\"left_units\":\"screen\",\"level\":\"overlay\",\"line_alpha\":{\"value\":1.0},\"line_color\":{\"value\":\"black\"},\"line_dash\":[4,4],\"line_width\":{\"value\":2},\"plot\":null,\"render_mode\":\"css\",\"right_units\":\"screen\",\"top_units\":\"screen\"},\"id\":\"d0b82a9e-4d4b-4617-9403-8a1dc183296f\",\"type\":\"BoxAnnotation\"},{\"attributes\":{\"below\":[{\"id\":\"1e925dec-be1d-4093-8518-3ddaab051a7e\",\"type\":\"LinearAxis\"}],\"left\":[{\"id\":\"a403b47e-9e19-4335-b2b1-8d042653021a\",\"type\":\"LinearAxis\"}],\"renderers\":[{\"id\":\"1e925dec-be1d-4093-8518-3ddaab051a7e\",\"type\":\"LinearAxis\"},{\"id\":\"5e44e750-b3a0-40ad-b18c-8ccf5d2ff725\",\"type\":\"Grid\"},{\"id\":\"a403b47e-9e19-4335-b2b1-8d042653021a\",\"type\":\"LinearAxis\"},{\"id\":\"76ea3970-72dc-4c28-84a9-64a4c916d0f6\",\"type\":\"Grid\"},{\"id\":\"d0b82a9e-4d4b-4617-9403-8a1dc183296f\",\"type\":\"BoxAnnotation\"},{\"id\":\"451f9721-609a-4c0d-975a-72280938bf5a\",\"type\":\"GlyphRenderer\"}],\"title\":{\"id\":\"8bfa1901-aa97-4d7d-b4f4-81ac1eeea81c\",\"type\":\"Title\"},\"toolbar\":{\"id\":\"646e7528-0ccb-4205-ba75-bb4fc135db82\",\"type\":\"Toolbar\"},\"x_range\":{\"id\":\"6288aab0-21aa-48cc-9eec-05430d2aa362\",\"type\":\"DataRange1d\"},\"x_scale\":{\"id\":\"39b578fd-c47b-4715-ba75-58d7ab11f45c\",\"type\":\"LinearScale\"},\"y_range\":{\"id\":\"ebe23f9e-766f-4099-8fd7-32f46ca74ea2\",\"type\":\"DataRange1d\"},\"y_scale\":{\"id\":\"980b243f-3b67-4f4f-afaf-3e430e785e40\",\"type\":\"LinearScale\"}},\"id\":\"06249b43-dc68-4f11-8828-5e48b0ee126a\",\"subtype\":\"Figure\",\"type\":\"Plot\"},{\"attributes\":{},\"id\":\"9e796c2a-378e-4bc9-9c81-5e635874169e\",\"type\":\"BasicTicker\"},{\"attributes\":{},\"id\":\"f20ea88c-e0e7-46b2-8679-db8eb4ec510d\",\"type\":\"UnionRenderers\"},{\"attributes\":{},\"id\":\"a65fb48d-89a6-43fe-b84a-f82cea510d1b\",\"type\":\"WheelZoomTool\"},{\"attributes\":{\"formatter\":{\"id\":\"8826a07f-b3e1-4382-be1d-1476702c6bc8\",\"type\":\"BasicTickFormatter\"},\"plot\":{\"id\":\"06249b43-dc68-4f11-8828-5e48b0ee126a\",\"subtype\":\"Figure\",\"type\":\"Plot\"},\"ticker\":{\"id\":\"236ec80a-db7d-4223-bd12-958785a464a6\",\"type\":\"BasicTicker\"}},\"id\":\"a403b47e-9e19-4335-b2b1-8d042653021a\",\"type\":\"LinearAxis\"},{\"attributes\":{},\"id\":\"8826a07f-b3e1-4382-be1d-1476702c6bc8\",\"type\":\"BasicTickFormatter\"},{\"attributes\":{},\"id\":\"62b58a7d-7835-49fa-b53e-022e711f8041\",\"type\":\"Selection\"},{\"attributes\":{\"source\":{\"id\":\"a948b776-9a31-49b9-9eaa-57bb53806613\",\"type\":\"ColumnDataSource\"}},\"id\":\"e4a52f30-12b5-410f-896a-ef59a1fd000b\",\"type\":\"CDSView\"},{\"attributes\":{\"active_drag\":\"auto\",\"active_inspect\":\"auto\",\"active_multi\":null,\"active_scroll\":\"auto\",\"active_tap\":\"auto\",\"tools\":[{\"id\":\"41dfbe34-20b9-404b-a977-22692b659d6d\",\"type\":\"PanTool\"},{\"id\":\"a65fb48d-89a6-43fe-b84a-f82cea510d1b\",\"type\":\"WheelZoomTool\"},{\"id\":\"061269f0-c439-4c1a-9f49-72d0149d8c7e\",\"type\":\"BoxZoomTool\"},{\"id\":\"20077742-0d80-4182-9602-7a0c69846271\",\"type\":\"SaveTool\"},{\"id\":\"a5f67ae8-2064-4d32-bbad-5116f5bcc4f9\",\"type\":\"ResetTool\"},{\"id\":\"f99344f8-4b0c-47cf-b3f1-b678b4f35370\",\"type\":\"HelpTool\"}]},\"id\":\"646e7528-0ccb-4205-ba75-bb4fc135db82\",\"type\":\"Toolbar\"},{\"attributes\":{},\"id\":\"41dfbe34-20b9-404b-a977-22692b659d6d\",\"type\":\"PanTool\"},{\"attributes\":{},\"id\":\"980b243f-3b67-4f4f-afaf-3e430e785e40\",\"type\":\"LinearScale\"},{\"attributes\":{},\"id\":\"643ba3de-0bf3-4e86-b69c-cec70e940b03\",\"type\":\"BasicTickFormatter\"},{\"attributes\":{\"line_color\":\"#1f77b4\",\"line_width\":3,\"x\":{\"field\":\"x\"},\"y\":{\"field\":\"y\"}},\"id\":\"a36c60ee-ef1e-4497-bb89-e402e7b06340\",\"type\":\"Line\"},{\"attributes\":{\"callback\":null},\"id\":\"6288aab0-21aa-48cc-9eec-05430d2aa362\",\"type\":\"DataRange1d\"},{\"attributes\":{\"line_alpha\":0.1,\"line_color\":\"#1f77b4\",\"line_width\":3,\"x\":{\"field\":\"x\"},\"y\":{\"field\":\"y\"}},\"id\":\"93306063-0d27-4557-9063-6f4354395ece\",\"type\":\"Line\"},{\"attributes\":{},\"id\":\"f99344f8-4b0c-47cf-b3f1-b678b4f35370\",\"type\":\"HelpTool\"},{\"attributes\":{\"plot\":{\"id\":\"06249b43-dc68-4f11-8828-5e48b0ee126a\",\"subtype\":\"Figure\",\"type\":\"Plot\"},\"ticker\":{\"id\":\"9e796c2a-378e-4bc9-9c81-5e635874169e\",\"type\":\"BasicTicker\"}},\"id\":\"5e44e750-b3a0-40ad-b18c-8ccf5d2ff725\",\"type\":\"Grid\"},{\"attributes\":{\"callback\":null},\"id\":\"ebe23f9e-766f-4099-8fd7-32f46ca74ea2\",\"type\":\"DataRange1d\"},{\"attributes\":{},\"id\":\"20077742-0d80-4182-9602-7a0c69846271\",\"type\":\"SaveTool\"},{\"attributes\":{\"formatter\":{\"id\":\"643ba3de-0bf3-4e86-b69c-cec70e940b03\",\"type\":\"BasicTickFormatter\"},\"plot\":{\"id\":\"06249b43-dc68-4f11-8828-5e48b0ee126a\",\"subtype\":\"Figure\",\"type\":\"Plot\"},\"ticker\":{\"id\":\"9e796c2a-378e-4bc9-9c81-5e635874169e\",\"type\":\"BasicTicker\"}},\"id\":\"1e925dec-be1d-4093-8518-3ddaab051a7e\",\"type\":\"LinearAxis\"},{\"attributes\":{},\"id\":\"39b578fd-c47b-4715-ba75-58d7ab11f45c\",\"type\":\"LinearScale\"},{\"attributes\":{\"dimension\":1,\"plot\":{\"id\":\"06249b43-dc68-4f11-8828-5e48b0ee126a\",\"subtype\":\"Figure\",\"type\":\"Plot\"},\"ticker\":{\"id\":\"236ec80a-db7d-4223-bd12-958785a464a6\",\"type\":\"BasicTicker\"}},\"id\":\"76ea3970-72dc-4c28-84a9-64a4c916d0f6\",\"type\":\"Grid\"}],\"root_ids\":[\"06249b43-dc68-4f11-8828-5e48b0ee126a\"]},\"title\":\"Bokeh Application\",\"version\":\"0.13.0\"}};\n",
       "  var render_items = [{\"docid\":\"6e59e48c-1273-45da-8186-2d7a8c2d8b21\",\"roots\":{\"06249b43-dc68-4f11-8828-5e48b0ee126a\":\"71d09a9a-12e9-4d0c-a4b2-0251dfa7c9fb\"}}];\n",
       "  root.Bokeh.embed.embed_items_notebook(docs_json, render_items);\n",
       "\n",
       "  }\n",
       "  if (root.Bokeh !== undefined) {\n",
       "    embed_document(root);\n",
       "  } else {\n",
       "    var attempts = 0;\n",
       "    var timer = setInterval(function(root) {\n",
       "      if (root.Bokeh !== undefined) {\n",
       "        embed_document(root);\n",
       "        clearInterval(timer);\n",
       "      }\n",
       "      attempts++;\n",
       "      if (attempts > 100) {\n",
       "        console.log(\"Bokeh: ERROR: Unable to run BokehJS code because BokehJS library is missing\")\n",
       "        clearInterval(timer);\n",
       "      }\n",
       "    }, 10, root)\n",
       "  }\n",
       "})(window);"
      ],
      "application/vnd.bokehjs_exec.v0+json": ""
     },
     "metadata": {
      "application/vnd.bokehjs_exec.v0+json": {
       "id": "06249b43-dc68-4f11-8828-5e48b0ee126a"
      }
     },
     "output_type": "display_data"
    }
   ],
   "source": [
    "x = [1,2,3,4,5] \n",
    "y = [8,6,5,2,3] \n",
    "plot = figure() \n",
    "plot.line(x, y, line_width=3) \n",
    "output_file('line.html') \n",
    "show(plot)"
   ]
  },
  {
   "cell_type": "markdown",
   "metadata": {},
   "source": [
    "## Lines and Markers Together"
   ]
  },
  {
   "cell_type": "code",
   "execution_count": 5,
   "metadata": {
    "scrolled": false
   },
   "outputs": [
    {
     "data": {
      "text/html": [
       "\n",
       "\n",
       "\n",
       "\n",
       "\n",
       "\n",
       "  <div class=\"bk-root\" id=\"ee07d67f-e4f0-4ebe-9b6d-8080b51d7133\"></div>\n"
      ]
     },
     "metadata": {},
     "output_type": "display_data"
    },
    {
     "data": {
      "application/javascript": [
       "(function(root) {\n",
       "  function embed_document(root) {\n",
       "    \n",
       "  var docs_json = {\"f54a1d42-4a96-4d9e-a4fc-f518993b34f0\":{\"roots\":{\"references\":[{\"attributes\":{},\"id\":\"1335b717-4231-47af-9a98-9556ee31feea\",\"type\":\"LinearScale\"},{\"attributes\":{\"fill_alpha\":{\"value\":0.1},\"fill_color\":{\"value\":\"#1f77b4\"},\"line_alpha\":{\"value\":0.1},\"line_color\":{\"value\":\"#1f77b4\"},\"size\":{\"units\":\"screen\",\"value\":10},\"x\":{\"field\":\"x\"},\"y\":{\"field\":\"y\"}},\"id\":\"375d96eb-f8f6-44a2-ae2f-e8c84997e710\",\"type\":\"Circle\"},{\"attributes\":{\"callback\":null},\"id\":\"0837a078-60b7-40e9-8864-96b7f91e862e\",\"type\":\"DataRange1d\"},{\"attributes\":{\"callback\":null,\"data\":{\"x\":[1,2,3,4,5],\"y\":[8,6,5,2,3]},\"selected\":{\"id\":\"0fd376be-3f16-4551-8c39-1d3988c43625\",\"type\":\"Selection\"},\"selection_policy\":{\"id\":\"81dc4a9a-97bf-4e80-991e-3863753a94eb\",\"type\":\"UnionRenderers\"}},\"id\":\"e6b37d49-0020-42de-bd83-4e816e05fb77\",\"type\":\"ColumnDataSource\"},{\"attributes\":{\"bottom_units\":\"screen\",\"fill_alpha\":{\"value\":0.5},\"fill_color\":{\"value\":\"lightgrey\"},\"left_units\":\"screen\",\"level\":\"overlay\",\"line_alpha\":{\"value\":1.0},\"line_color\":{\"value\":\"black\"},\"line_dash\":[4,4],\"line_width\":{\"value\":2},\"plot\":null,\"render_mode\":\"css\",\"right_units\":\"screen\",\"top_units\":\"screen\"},\"id\":\"1afab09e-f6bb-4bcb-9821-825787644bc6\",\"type\":\"BoxAnnotation\"},{\"attributes\":{},\"id\":\"24e3fbe8-6a30-4fb2-82f1-860e7a9ccc7f\",\"type\":\"BasicTickFormatter\"},{\"attributes\":{\"active_drag\":\"auto\",\"active_inspect\":\"auto\",\"active_multi\":null,\"active_scroll\":\"auto\",\"active_tap\":\"auto\",\"tools\":[{\"id\":\"f3c084fc-820a-47b2-91e0-f02c711171e1\",\"type\":\"PanTool\"},{\"id\":\"c428a45f-7cfc-419e-98b0-ad24d6003ec3\",\"type\":\"WheelZoomTool\"},{\"id\":\"c2e4a5a3-bf34-46ed-8c8d-a754826b9952\",\"type\":\"BoxZoomTool\"},{\"id\":\"0c0c0ba4-9547-402d-b062-d0fc3e0918b0\",\"type\":\"SaveTool\"},{\"id\":\"fd95023b-3a54-4fe4-a564-2c0ddddc9939\",\"type\":\"ResetTool\"},{\"id\":\"76606d94-687b-4e0a-bc90-9fb076673ab7\",\"type\":\"HelpTool\"}]},\"id\":\"4b5022da-f721-4c50-8d73-2df3a9bbec40\",\"type\":\"Toolbar\"},{\"attributes\":{},\"id\":\"06183f89-d31c-451a-8d32-65ac2f8999e6\",\"type\":\"UnionRenderers\"},{\"attributes\":{},\"id\":\"521dc06f-8a6d-4486-b8b7-1e65c76bc4b8\",\"type\":\"BasicTickFormatter\"},{\"attributes\":{},\"id\":\"6e3b6839-a0b9-43ff-a06d-b618a293b6bc\",\"type\":\"BasicTicker\"},{\"attributes\":{\"plot\":{\"id\":\"5861c257-b6e9-475d-9faa-4f249b4016ac\",\"subtype\":\"Figure\",\"type\":\"Plot\"},\"ticker\":{\"id\":\"4db7c152-ecfa-44d1-99ac-ba1ec78d32e7\",\"type\":\"BasicTicker\"}},\"id\":\"5775d89c-90bd-4804-a8c0-de7f25dc122c\",\"type\":\"Grid\"},{\"attributes\":{},\"id\":\"c428a45f-7cfc-419e-98b0-ad24d6003ec3\",\"type\":\"WheelZoomTool\"},{\"attributes\":{},\"id\":\"0fd376be-3f16-4551-8c39-1d3988c43625\",\"type\":\"Selection\"},{\"attributes\":{\"source\":{\"id\":\"e6b37d49-0020-42de-bd83-4e816e05fb77\",\"type\":\"ColumnDataSource\"}},\"id\":\"a77e4697-bf70-4a77-90fb-1b34c9ec3b8e\",\"type\":\"CDSView\"},{\"attributes\":{\"fill_color\":{\"value\":\"white\"},\"line_color\":{\"value\":\"#1f77b4\"},\"size\":{\"units\":\"screen\",\"value\":10},\"x\":{\"field\":\"x\"},\"y\":{\"field\":\"y\"}},\"id\":\"90b0ed0e-be3a-49f7-b45c-bcba5f1db19c\",\"type\":\"Circle\"},{\"attributes\":{},\"id\":\"76606d94-687b-4e0a-bc90-9fb076673ab7\",\"type\":\"HelpTool\"},{\"attributes\":{},\"id\":\"c4758ab7-18d4-4f0d-aedc-022068828bbb\",\"type\":\"Selection\"},{\"attributes\":{},\"id\":\"fd95023b-3a54-4fe4-a564-2c0ddddc9939\",\"type\":\"ResetTool\"},{\"attributes\":{\"plot\":null,\"text\":\"\"},\"id\":\"c5f2abb4-2889-4bfe-b525-c7e0dfbc6e66\",\"type\":\"Title\"},{\"attributes\":{\"formatter\":{\"id\":\"24e3fbe8-6a30-4fb2-82f1-860e7a9ccc7f\",\"type\":\"BasicTickFormatter\"},\"plot\":{\"id\":\"5861c257-b6e9-475d-9faa-4f249b4016ac\",\"subtype\":\"Figure\",\"type\":\"Plot\"},\"ticker\":{\"id\":\"4db7c152-ecfa-44d1-99ac-ba1ec78d32e7\",\"type\":\"BasicTicker\"}},\"id\":\"c0a2dfcb-f22f-4617-ae98-bdb529d5f942\",\"type\":\"LinearAxis\"},{\"attributes\":{},\"id\":\"23fb79de-1022-42a3-b2ca-9feaa74255d7\",\"type\":\"LinearScale\"},{\"attributes\":{\"overlay\":{\"id\":\"1afab09e-f6bb-4bcb-9821-825787644bc6\",\"type\":\"BoxAnnotation\"}},\"id\":\"c2e4a5a3-bf34-46ed-8c8d-a754826b9952\",\"type\":\"BoxZoomTool\"},{\"attributes\":{\"callback\":null,\"data\":{\"x\":[1,2,3,4,5],\"y\":[8,6,5,2,3]},\"selected\":{\"id\":\"c4758ab7-18d4-4f0d-aedc-022068828bbb\",\"type\":\"Selection\"},\"selection_policy\":{\"id\":\"06183f89-d31c-451a-8d32-65ac2f8999e6\",\"type\":\"UnionRenderers\"}},\"id\":\"49351029-b97c-4a8b-af10-b8768d5c63d2\",\"type\":\"ColumnDataSource\"},{\"attributes\":{\"source\":{\"id\":\"49351029-b97c-4a8b-af10-b8768d5c63d2\",\"type\":\"ColumnDataSource\"}},\"id\":\"22b76efd-9c49-4ba7-9093-3954179153a1\",\"type\":\"CDSView\"},{\"attributes\":{},\"id\":\"0c0c0ba4-9547-402d-b062-d0fc3e0918b0\",\"type\":\"SaveTool\"},{\"attributes\":{\"line_color\":\"#1f77b4\",\"line_width\":2,\"x\":{\"field\":\"x\"},\"y\":{\"field\":\"y\"}},\"id\":\"75502523-6266-486a-be2f-c1f903a00ee6\",\"type\":\"Line\"},{\"attributes\":{\"callback\":null},\"id\":\"a7da2421-0530-4460-8b60-cf34ee323f3d\",\"type\":\"DataRange1d\"},{\"attributes\":{\"data_source\":{\"id\":\"49351029-b97c-4a8b-af10-b8768d5c63d2\",\"type\":\"ColumnDataSource\"},\"glyph\":{\"id\":\"75502523-6266-486a-be2f-c1f903a00ee6\",\"type\":\"Line\"},\"hover_glyph\":null,\"muted_glyph\":null,\"nonselection_glyph\":{\"id\":\"7733009d-370a-4d5d-bde0-f3d1133db05e\",\"type\":\"Line\"},\"selection_glyph\":null,\"view\":{\"id\":\"22b76efd-9c49-4ba7-9093-3954179153a1\",\"type\":\"CDSView\"}},\"id\":\"8397e59c-ef5d-4de5-8e0b-bcc4dfda4e93\",\"type\":\"GlyphRenderer\"},{\"attributes\":{\"dimension\":1,\"plot\":{\"id\":\"5861c257-b6e9-475d-9faa-4f249b4016ac\",\"subtype\":\"Figure\",\"type\":\"Plot\"},\"ticker\":{\"id\":\"6e3b6839-a0b9-43ff-a06d-b618a293b6bc\",\"type\":\"BasicTicker\"}},\"id\":\"84fa0bd8-70d3-40e9-a984-91bf7ebd0854\",\"type\":\"Grid\"},{\"attributes\":{\"formatter\":{\"id\":\"521dc06f-8a6d-4486-b8b7-1e65c76bc4b8\",\"type\":\"BasicTickFormatter\"},\"plot\":{\"id\":\"5861c257-b6e9-475d-9faa-4f249b4016ac\",\"subtype\":\"Figure\",\"type\":\"Plot\"},\"ticker\":{\"id\":\"6e3b6839-a0b9-43ff-a06d-b618a293b6bc\",\"type\":\"BasicTicker\"}},\"id\":\"c03f0e71-c3b0-457d-8e15-d074c29941a1\",\"type\":\"LinearAxis\"},{\"attributes\":{\"line_alpha\":0.1,\"line_color\":\"#1f77b4\",\"line_width\":2,\"x\":{\"field\":\"x\"},\"y\":{\"field\":\"y\"}},\"id\":\"7733009d-370a-4d5d-bde0-f3d1133db05e\",\"type\":\"Line\"},{\"attributes\":{\"below\":[{\"id\":\"c0a2dfcb-f22f-4617-ae98-bdb529d5f942\",\"type\":\"LinearAxis\"}],\"left\":[{\"id\":\"c03f0e71-c3b0-457d-8e15-d074c29941a1\",\"type\":\"LinearAxis\"}],\"renderers\":[{\"id\":\"c0a2dfcb-f22f-4617-ae98-bdb529d5f942\",\"type\":\"LinearAxis\"},{\"id\":\"5775d89c-90bd-4804-a8c0-de7f25dc122c\",\"type\":\"Grid\"},{\"id\":\"c03f0e71-c3b0-457d-8e15-d074c29941a1\",\"type\":\"LinearAxis\"},{\"id\":\"84fa0bd8-70d3-40e9-a984-91bf7ebd0854\",\"type\":\"Grid\"},{\"id\":\"1afab09e-f6bb-4bcb-9821-825787644bc6\",\"type\":\"BoxAnnotation\"},{\"id\":\"8397e59c-ef5d-4de5-8e0b-bcc4dfda4e93\",\"type\":\"GlyphRenderer\"},{\"id\":\"142e03b8-874f-41e7-9dba-733eaa011326\",\"type\":\"GlyphRenderer\"}],\"title\":{\"id\":\"c5f2abb4-2889-4bfe-b525-c7e0dfbc6e66\",\"type\":\"Title\"},\"toolbar\":{\"id\":\"4b5022da-f721-4c50-8d73-2df3a9bbec40\",\"type\":\"Toolbar\"},\"x_range\":{\"id\":\"0837a078-60b7-40e9-8864-96b7f91e862e\",\"type\":\"DataRange1d\"},\"x_scale\":{\"id\":\"1335b717-4231-47af-9a98-9556ee31feea\",\"type\":\"LinearScale\"},\"y_range\":{\"id\":\"a7da2421-0530-4460-8b60-cf34ee323f3d\",\"type\":\"DataRange1d\"},\"y_scale\":{\"id\":\"23fb79de-1022-42a3-b2ca-9feaa74255d7\",\"type\":\"LinearScale\"}},\"id\":\"5861c257-b6e9-475d-9faa-4f249b4016ac\",\"subtype\":\"Figure\",\"type\":\"Plot\"},{\"attributes\":{},\"id\":\"4db7c152-ecfa-44d1-99ac-ba1ec78d32e7\",\"type\":\"BasicTicker\"},{\"attributes\":{},\"id\":\"81dc4a9a-97bf-4e80-991e-3863753a94eb\",\"type\":\"UnionRenderers\"},{\"attributes\":{\"data_source\":{\"id\":\"e6b37d49-0020-42de-bd83-4e816e05fb77\",\"type\":\"ColumnDataSource\"},\"glyph\":{\"id\":\"90b0ed0e-be3a-49f7-b45c-bcba5f1db19c\",\"type\":\"Circle\"},\"hover_glyph\":null,\"muted_glyph\":null,\"nonselection_glyph\":{\"id\":\"375d96eb-f8f6-44a2-ae2f-e8c84997e710\",\"type\":\"Circle\"},\"selection_glyph\":null,\"view\":{\"id\":\"a77e4697-bf70-4a77-90fb-1b34c9ec3b8e\",\"type\":\"CDSView\"}},\"id\":\"142e03b8-874f-41e7-9dba-733eaa011326\",\"type\":\"GlyphRenderer\"},{\"attributes\":{},\"id\":\"f3c084fc-820a-47b2-91e0-f02c711171e1\",\"type\":\"PanTool\"}],\"root_ids\":[\"5861c257-b6e9-475d-9faa-4f249b4016ac\"]},\"title\":\"Bokeh Application\",\"version\":\"0.13.0\"}};\n",
       "  var render_items = [{\"docid\":\"f54a1d42-4a96-4d9e-a4fc-f518993b34f0\",\"roots\":{\"5861c257-b6e9-475d-9faa-4f249b4016ac\":\"ee07d67f-e4f0-4ebe-9b6d-8080b51d7133\"}}];\n",
       "  root.Bokeh.embed.embed_items_notebook(docs_json, render_items);\n",
       "\n",
       "  }\n",
       "  if (root.Bokeh !== undefined) {\n",
       "    embed_document(root);\n",
       "  } else {\n",
       "    var attempts = 0;\n",
       "    var timer = setInterval(function(root) {\n",
       "      if (root.Bokeh !== undefined) {\n",
       "        embed_document(root);\n",
       "        clearInterval(timer);\n",
       "      }\n",
       "      attempts++;\n",
       "      if (attempts > 100) {\n",
       "        console.log(\"Bokeh: ERROR: Unable to run BokehJS code because BokehJS library is missing\")\n",
       "        clearInterval(timer);\n",
       "      }\n",
       "    }, 10, root)\n",
       "  }\n",
       "})(window);"
      ],
      "application/vnd.bokehjs_exec.v0+json": ""
     },
     "metadata": {
      "application/vnd.bokehjs_exec.v0+json": {
       "id": "5861c257-b6e9-475d-9faa-4f249b4016ac"
      }
     },
     "output_type": "display_data"
    }
   ],
   "source": [
    "\n",
    "x = [1,2,3,4,5] \n",
    "y = [8,6,5,2,3] \n",
    "plot = figure() \n",
    "plot.line(x, y, line_width=2) \n",
    "plot.circle(x, y, fill_color='white', size=10) \n",
    "output_file('line.html') \n",
    "show(plot)"
   ]
  },
  {
   "cell_type": "markdown",
   "metadata": {},
   "source": [
    "## Patches"
   ]
  },
  {
   "cell_type": "code",
   "execution_count": 6,
   "metadata": {},
   "outputs": [
    {
     "data": {
      "text/html": [
       "\n",
       "\n",
       "\n",
       "\n",
       "\n",
       "\n",
       "  <div class=\"bk-root\" id=\"2d10fa08-56f7-4c6c-bec2-1466203b49d9\"></div>\n"
      ]
     },
     "metadata": {},
     "output_type": "display_data"
    },
    {
     "data": {
      "application/javascript": [
       "(function(root) {\n",
       "  function embed_document(root) {\n",
       "    \n",
       "  var docs_json = {\"497c3249-7aa8-4890-b748-859168897de1\":{\"roots\":{\"references\":[{\"attributes\":{\"fill_color\":{\"field\":\"fill_color\"},\"line_color\":{\"value\":\"white\"},\"xs\":{\"field\":\"xs\"},\"ys\":{\"field\":\"ys\"}},\"id\":\"36cee27e-1255-4fc4-bd86-3406a1884c7c\",\"type\":\"Patches\"},{\"attributes\":{},\"id\":\"e7f70b86-ad39-4155-b2de-4f5e24662550\",\"type\":\"BasicTicker\"},{\"attributes\":{},\"id\":\"35253a49-539a-4309-838a-e68680dd00c2\",\"type\":\"BasicTicker\"},{\"attributes\":{\"formatter\":{\"id\":\"50430d5b-6364-41ee-a949-7fa2a0f54c41\",\"type\":\"BasicTickFormatter\"},\"plot\":{\"id\":\"3ab1cf23-7c65-4c4d-88b1-0f4548ade8cd\",\"subtype\":\"Figure\",\"type\":\"Plot\"},\"ticker\":{\"id\":\"e7f70b86-ad39-4155-b2de-4f5e24662550\",\"type\":\"BasicTicker\"}},\"id\":\"1f52d408-b8d9-48e8-bf56-ad0cb172885b\",\"type\":\"LinearAxis\"},{\"attributes\":{},\"id\":\"f3f5519a-0881-4167-859e-e2ff6f1af63f\",\"type\":\"SaveTool\"},{\"attributes\":{\"bottom_units\":\"screen\",\"fill_alpha\":{\"value\":0.5},\"fill_color\":{\"value\":\"lightgrey\"},\"left_units\":\"screen\",\"level\":\"overlay\",\"line_alpha\":{\"value\":1.0},\"line_color\":{\"value\":\"black\"},\"line_dash\":[4,4],\"line_width\":{\"value\":2},\"plot\":null,\"render_mode\":\"css\",\"right_units\":\"screen\",\"top_units\":\"screen\"},\"id\":\"1fc9a0e0-0cbf-4c82-8336-498141956a8f\",\"type\":\"BoxAnnotation\"},{\"attributes\":{\"callback\":null},\"id\":\"674c86cf-2bf2-4ae5-bda0-95e64ce9f8a0\",\"type\":\"DataRange1d\"},{\"attributes\":{},\"id\":\"28834ad7-dd7d-4fad-9295-44747a281bb4\",\"type\":\"BasicTickFormatter\"},{\"attributes\":{\"plot\":null,\"text\":\"\"},\"id\":\"9ddafdc8-aefb-4c6e-8601-dc729db78b3c\",\"type\":\"Title\"},{\"attributes\":{},\"id\":\"5c6ce358-344d-4602-bf88-c9b31ae0eea2\",\"type\":\"ResetTool\"},{\"attributes\":{\"dimension\":1,\"plot\":{\"id\":\"3ab1cf23-7c65-4c4d-88b1-0f4548ade8cd\",\"subtype\":\"Figure\",\"type\":\"Plot\"},\"ticker\":{\"id\":\"35253a49-539a-4309-838a-e68680dd00c2\",\"type\":\"BasicTicker\"}},\"id\":\"d35200cf-29c3-4573-a31c-1024994329be\",\"type\":\"Grid\"},{\"attributes\":{\"callback\":null},\"id\":\"3e74d5d7-4c26-4630-a7db-3f8138ed4cc2\",\"type\":\"DataRange1d\"},{\"attributes\":{\"data_source\":{\"id\":\"399d10e8-a945-4055-96a6-f36a118c336f\",\"type\":\"ColumnDataSource\"},\"glyph\":{\"id\":\"36cee27e-1255-4fc4-bd86-3406a1884c7c\",\"type\":\"Patches\"},\"hover_glyph\":null,\"muted_glyph\":null,\"nonselection_glyph\":{\"id\":\"fa21c64c-45e0-4483-95ba-affe0b524466\",\"type\":\"Patches\"},\"selection_glyph\":null,\"view\":{\"id\":\"18457374-3f8b-4751-b0a2-2535f88df00a\",\"type\":\"CDSView\"}},\"id\":\"724afcc2-8b81-4b69-a622-742515372965\",\"type\":\"GlyphRenderer\"},{\"attributes\":{\"callback\":null,\"data\":{\"fill_color\":[\"red\",\"blue\",\"green\"],\"xs\":[[1,1,2,2],[2,2,4],[2,2,3,3]],\"ys\":[[2,5,5,2],[3,5,5],[2,3,4,2]]},\"selected\":{\"id\":\"fc110add-47f6-41ff-8550-898ce1198c18\",\"type\":\"Selection\"},\"selection_policy\":{\"id\":\"64c3ec0d-33aa-4c2d-befb-77e89d2441a1\",\"type\":\"UnionRenderers\"}},\"id\":\"399d10e8-a945-4055-96a6-f36a118c336f\",\"type\":\"ColumnDataSource\"},{\"attributes\":{\"below\":[{\"id\":\"1f52d408-b8d9-48e8-bf56-ad0cb172885b\",\"type\":\"LinearAxis\"}],\"left\":[{\"id\":\"b0b2afb7-ab5c-4414-bbcb-8fe9dbe0c492\",\"type\":\"LinearAxis\"}],\"renderers\":[{\"id\":\"1f52d408-b8d9-48e8-bf56-ad0cb172885b\",\"type\":\"LinearAxis\"},{\"id\":\"ccde1316-530a-4ce5-b555-7186fbf90600\",\"type\":\"Grid\"},{\"id\":\"b0b2afb7-ab5c-4414-bbcb-8fe9dbe0c492\",\"type\":\"LinearAxis\"},{\"id\":\"d35200cf-29c3-4573-a31c-1024994329be\",\"type\":\"Grid\"},{\"id\":\"1fc9a0e0-0cbf-4c82-8336-498141956a8f\",\"type\":\"BoxAnnotation\"},{\"id\":\"724afcc2-8b81-4b69-a622-742515372965\",\"type\":\"GlyphRenderer\"}],\"title\":{\"id\":\"9ddafdc8-aefb-4c6e-8601-dc729db78b3c\",\"type\":\"Title\"},\"toolbar\":{\"id\":\"78350006-e1c5-4a4e-9d6e-1e3999998f96\",\"type\":\"Toolbar\"},\"x_range\":{\"id\":\"674c86cf-2bf2-4ae5-bda0-95e64ce9f8a0\",\"type\":\"DataRange1d\"},\"x_scale\":{\"id\":\"422dc519-3461-4d86-b27d-023d667afc07\",\"type\":\"LinearScale\"},\"y_range\":{\"id\":\"3e74d5d7-4c26-4630-a7db-3f8138ed4cc2\",\"type\":\"DataRange1d\"},\"y_scale\":{\"id\":\"1bb30353-bbba-464f-a250-d6f963149b80\",\"type\":\"LinearScale\"}},\"id\":\"3ab1cf23-7c65-4c4d-88b1-0f4548ade8cd\",\"subtype\":\"Figure\",\"type\":\"Plot\"},{\"attributes\":{\"active_drag\":\"auto\",\"active_inspect\":\"auto\",\"active_multi\":null,\"active_scroll\":\"auto\",\"active_tap\":\"auto\",\"tools\":[{\"id\":\"2e49fead-5702-458a-8df8-a8e79174c7d4\",\"type\":\"PanTool\"},{\"id\":\"0547d9a2-0d42-4e22-8ae5-00adf8374189\",\"type\":\"WheelZoomTool\"},{\"id\":\"4bac3516-e3b5-44fc-9c3b-d477985c38d3\",\"type\":\"BoxZoomTool\"},{\"id\":\"f3f5519a-0881-4167-859e-e2ff6f1af63f\",\"type\":\"SaveTool\"},{\"id\":\"5c6ce358-344d-4602-bf88-c9b31ae0eea2\",\"type\":\"ResetTool\"},{\"id\":\"19580077-12ea-4043-a005-79a9cfb6f08c\",\"type\":\"HelpTool\"}]},\"id\":\"78350006-e1c5-4a4e-9d6e-1e3999998f96\",\"type\":\"Toolbar\"},{\"attributes\":{},\"id\":\"0547d9a2-0d42-4e22-8ae5-00adf8374189\",\"type\":\"WheelZoomTool\"},{\"attributes\":{\"plot\":{\"id\":\"3ab1cf23-7c65-4c4d-88b1-0f4548ade8cd\",\"subtype\":\"Figure\",\"type\":\"Plot\"},\"ticker\":{\"id\":\"e7f70b86-ad39-4155-b2de-4f5e24662550\",\"type\":\"BasicTicker\"}},\"id\":\"ccde1316-530a-4ce5-b555-7186fbf90600\",\"type\":\"Grid\"},{\"attributes\":{},\"id\":\"fc110add-47f6-41ff-8550-898ce1198c18\",\"type\":\"Selection\"},{\"attributes\":{},\"id\":\"422dc519-3461-4d86-b27d-023d667afc07\",\"type\":\"LinearScale\"},{\"attributes\":{},\"id\":\"64c3ec0d-33aa-4c2d-befb-77e89d2441a1\",\"type\":\"UnionRenderers\"},{\"attributes\":{},\"id\":\"1bb30353-bbba-464f-a250-d6f963149b80\",\"type\":\"LinearScale\"},{\"attributes\":{},\"id\":\"50430d5b-6364-41ee-a949-7fa2a0f54c41\",\"type\":\"BasicTickFormatter\"},{\"attributes\":{\"overlay\":{\"id\":\"1fc9a0e0-0cbf-4c82-8336-498141956a8f\",\"type\":\"BoxAnnotation\"}},\"id\":\"4bac3516-e3b5-44fc-9c3b-d477985c38d3\",\"type\":\"BoxZoomTool\"},{\"attributes\":{\"source\":{\"id\":\"399d10e8-a945-4055-96a6-f36a118c336f\",\"type\":\"ColumnDataSource\"}},\"id\":\"18457374-3f8b-4751-b0a2-2535f88df00a\",\"type\":\"CDSView\"},{\"attributes\":{},\"id\":\"19580077-12ea-4043-a005-79a9cfb6f08c\",\"type\":\"HelpTool\"},{\"attributes\":{\"fill_alpha\":{\"value\":0.1},\"fill_color\":{\"value\":\"#1f77b4\"},\"line_alpha\":{\"value\":0.1},\"line_color\":{\"value\":\"#1f77b4\"},\"xs\":{\"field\":\"xs\"},\"ys\":{\"field\":\"ys\"}},\"id\":\"fa21c64c-45e0-4483-95ba-affe0b524466\",\"type\":\"Patches\"},{\"attributes\":{\"formatter\":{\"id\":\"28834ad7-dd7d-4fad-9295-44747a281bb4\",\"type\":\"BasicTickFormatter\"},\"plot\":{\"id\":\"3ab1cf23-7c65-4c4d-88b1-0f4548ade8cd\",\"subtype\":\"Figure\",\"type\":\"Plot\"},\"ticker\":{\"id\":\"35253a49-539a-4309-838a-e68680dd00c2\",\"type\":\"BasicTicker\"}},\"id\":\"b0b2afb7-ab5c-4414-bbcb-8fe9dbe0c492\",\"type\":\"LinearAxis\"},{\"attributes\":{},\"id\":\"2e49fead-5702-458a-8df8-a8e79174c7d4\",\"type\":\"PanTool\"}],\"root_ids\":[\"3ab1cf23-7c65-4c4d-88b1-0f4548ade8cd\"]},\"title\":\"Bokeh Application\",\"version\":\"0.13.0\"}};\n",
       "  var render_items = [{\"docid\":\"497c3249-7aa8-4890-b748-859168897de1\",\"roots\":{\"3ab1cf23-7c65-4c4d-88b1-0f4548ade8cd\":\"2d10fa08-56f7-4c6c-bec2-1466203b49d9\"}}];\n",
       "  root.Bokeh.embed.embed_items_notebook(docs_json, render_items);\n",
       "\n",
       "  }\n",
       "  if (root.Bokeh !== undefined) {\n",
       "    embed_document(root);\n",
       "  } else {\n",
       "    var attempts = 0;\n",
       "    var timer = setInterval(function(root) {\n",
       "      if (root.Bokeh !== undefined) {\n",
       "        embed_document(root);\n",
       "        clearInterval(timer);\n",
       "      }\n",
       "      attempts++;\n",
       "      if (attempts > 100) {\n",
       "        console.log(\"Bokeh: ERROR: Unable to run BokehJS code because BokehJS library is missing\")\n",
       "        clearInterval(timer);\n",
       "      }\n",
       "    }, 10, root)\n",
       "  }\n",
       "})(window);"
      ],
      "application/vnd.bokehjs_exec.v0+json": ""
     },
     "metadata": {
      "application/vnd.bokehjs_exec.v0+json": {
       "id": "3ab1cf23-7c65-4c4d-88b1-0f4548ade8cd"
      }
     },
     "output_type": "display_data"
    }
   ],
   "source": [
    "xs = [ [1,1,2,2], [2,2,4], [2,2,3,3] ] \n",
    "ys = [ [2,5,5,2], [3,5,5], [2,3,4,2] ] \n",
    "plot = figure() \n",
    "plot.patches(xs, ys,   fill_color=  ['red', 'blue','green'],                  \n",
    "                                        line_color='white') \n",
    "output_file('patches.html') \n",
    "show(plot)"
   ]
  },
  {
   "cell_type": "markdown",
   "metadata": {},
   "source": [
    "## Plotting data from Pandas DataFrames"
   ]
  },
  {
   "cell_type": "markdown",
   "metadata": {},
   "source": [
    "You can create Bokeh plots from Pandas DataFrames by passing column selections to the glyph functions.\n",
    "\n",
    "Bokeh can plot floating point numbers, integers, and datetime data types. In this example, you will read a CSV file containing information on 392 automobiles manufactured in the US, Europe and Asia from 1970 to 1982.\n",
    "\n",
    "The CSV file is provided for you as 'auto.csv'.\n",
    "\n",
    "Your job is to plot miles-per-gallon (mpg) vs horsepower (hp) by passing Pandas column selections into the p.circle() function. Additionally, each glyph will be colored according to values in the color column."
   ]
  },
  {
   "cell_type": "code",
   "execution_count": 7,
   "metadata": {
    "scrolled": true
   },
   "outputs": [
    {
     "data": {
      "text/html": [
       "\n",
       "\n",
       "\n",
       "\n",
       "\n",
       "\n",
       "  <div class=\"bk-root\" id=\"6eb9de7f-5078-4214-a8f3-9965c804e943\"></div>\n"
      ]
     },
     "metadata": {},
     "output_type": "display_data"
    },
    {
     "data": {
      "application/javascript": [
       "(function(root) {\n",
       "  function embed_document(root) {\n",
       "    \n",
       "  var docs_json = {\"1c75f9c2-5bdd-482c-bdf3-9f9f2cfee79b\":{\"roots\":{\"references\":[{\"attributes\":{\"plot\":null,\"text\":\"\"},\"id\":\"f2541061-4ef6-48b5-8579-014028ed0724\",\"type\":\"Title\"},{\"attributes\":{},\"id\":\"8c72aac5-1c85-4f19-997c-db83f28d03f1\",\"type\":\"UnionRenderers\"},{\"attributes\":{\"fill_color\":{\"field\":\"fill_color\"},\"line_color\":{\"field\":\"line_color\"},\"size\":{\"units\":\"screen\",\"value\":10},\"x\":{\"field\":\"x\"},\"y\":{\"field\":\"y\"}},\"id\":\"4600fc50-518f-49cf-bc73-05235dcf97bf\",\"type\":\"Circle\"},{\"attributes\":{\"active_drag\":\"auto\",\"active_inspect\":\"auto\",\"active_multi\":null,\"active_scroll\":\"auto\",\"active_tap\":\"auto\",\"tools\":[{\"id\":\"0b62cef0-6e09-4578-84ff-e23340de684c\",\"type\":\"PanTool\"},{\"id\":\"4bd3774c-7832-4339-bdb8-f2bdcebf2602\",\"type\":\"WheelZoomTool\"},{\"id\":\"e7816901-5f22-49b9-bc54-8c65532cdb18\",\"type\":\"BoxZoomTool\"},{\"id\":\"ae37e7a0-6e4c-420f-a63a-0e4d9f3c4c4e\",\"type\":\"SaveTool\"},{\"id\":\"bffa8a39-6eb1-4ab2-b210-ab392c9d2be5\",\"type\":\"ResetTool\"},{\"id\":\"0fdd3761-e29f-4a94-9753-698afcc5e5ac\",\"type\":\"HelpTool\"}]},\"id\":\"955dbcc2-9797-4f55-b024-cfba099ea453\",\"type\":\"Toolbar\"},{\"attributes\":{\"below\":[{\"id\":\"39e698ba-02d9-44fc-96fd-c61e021c1711\",\"type\":\"LinearAxis\"}],\"left\":[{\"id\":\"3f9e3843-c50c-4a59-84fd-517435e434b2\",\"type\":\"LinearAxis\"}],\"renderers\":[{\"id\":\"39e698ba-02d9-44fc-96fd-c61e021c1711\",\"type\":\"LinearAxis\"},{\"id\":\"930449da-1672-42eb-bbbd-db8ecf36b1c6\",\"type\":\"Grid\"},{\"id\":\"3f9e3843-c50c-4a59-84fd-517435e434b2\",\"type\":\"LinearAxis\"},{\"id\":\"74553a48-07ef-4a48-9d28-97eda6895006\",\"type\":\"Grid\"},{\"id\":\"a4bbb505-a79a-4de6-9a3e-9d19b51c6ed6\",\"type\":\"BoxAnnotation\"},{\"id\":\"c6df220f-ad64-44e3-ab45-371ce2cc9210\",\"type\":\"GlyphRenderer\"}],\"title\":{\"id\":\"f2541061-4ef6-48b5-8579-014028ed0724\",\"type\":\"Title\"},\"toolbar\":{\"id\":\"955dbcc2-9797-4f55-b024-cfba099ea453\",\"type\":\"Toolbar\"},\"x_range\":{\"id\":\"c1d3364b-b412-4a04-9fc7-5b4ea7198e05\",\"type\":\"DataRange1d\"},\"x_scale\":{\"id\":\"2a7023bd-6608-437e-8527-059b6b5f8aec\",\"type\":\"LinearScale\"},\"y_range\":{\"id\":\"81318e70-aabb-45e7-b431-3392437f00f6\",\"type\":\"DataRange1d\"},\"y_scale\":{\"id\":\"2e6b42a0-11bb-41a8-98ae-6ad4cbd7922e\",\"type\":\"LinearScale\"}},\"id\":\"7c2a42fd-d193-4f08-843b-f777c0b433c8\",\"subtype\":\"Figure\",\"type\":\"Plot\"},{\"attributes\":{},\"id\":\"6c118471-b123-4974-a9a2-36dc0320b9ef\",\"type\":\"BasicTickFormatter\"},{\"attributes\":{\"callback\":null,\"data\":{\"fill_color\":[\"blue\",\"blue\",\"red\",\"blue\",\"green\",\"red\",\"red\",\"green\",\"blue\",\"blue\",\"green\",\"blue\",\"blue\",\"blue\",\"blue\",\"blue\",\"green\",\"blue\",\"red\",\"red\",\"blue\",\"blue\",\"blue\",\"blue\",\"blue\",\"green\",\"red\",\"red\",\"blue\",\"red\",\"red\",\"blue\",\"blue\",\"blue\",\"green\",\"green\",\"blue\",\"blue\",\"blue\",\"blue\",\"red\",\"blue\",\"blue\",\"blue\",\"blue\",\"red\",\"red\",\"blue\",\"blue\",\"blue\",\"blue\",\"blue\",\"red\",\"blue\",\"green\",\"blue\",\"blue\",\"blue\",\"blue\",\"red\",\"red\",\"blue\",\"blue\",\"blue\",\"blue\",\"blue\",\"blue\",\"blue\",\"blue\",\"blue\",\"blue\",\"green\",\"blue\",\"blue\",\"red\",\"blue\",\"blue\",\"blue\",\"blue\",\"green\",\"green\",\"green\",\"green\",\"blue\",\"blue\",\"green\",\"blue\",\"blue\",\"red\",\"blue\",\"blue\",\"blue\",\"blue\",\"red\",\"red\",\"blue\",\"red\",\"blue\",\"blue\",\"blue\",\"green\",\"green\",\"blue\",\"blue\",\"green\",\"green\",\"blue\",\"blue\",\"red\",\"green\",\"green\",\"blue\",\"blue\",\"blue\",\"green\",\"blue\",\"red\",\"blue\",\"blue\",\"blue\",\"green\",\"red\",\"blue\",\"green\",\"blue\",\"green\",\"green\",\"blue\",\"blue\",\"blue\",\"blue\",\"blue\",\"green\",\"blue\",\"blue\",\"red\",\"blue\",\"green\",\"blue\",\"blue\",\"green\",\"blue\",\"blue\",\"blue\",\"blue\",\"red\",\"green\",\"blue\",\"blue\",\"green\",\"blue\",\"blue\",\"green\",\"red\",\"blue\",\"blue\",\"blue\",\"red\",\"red\",\"blue\",\"red\",\"blue\",\"blue\",\"green\",\"green\",\"green\",\"blue\",\"red\",\"blue\",\"red\",\"blue\",\"red\",\"blue\",\"blue\",\"blue\",\"blue\",\"blue\",\"green\",\"blue\",\"blue\",\"blue\",\"green\",\"blue\",\"green\",\"blue\",\"blue\",\"green\",\"blue\",\"red\",\"green\",\"blue\",\"green\",\"blue\",\"blue\",\"blue\",\"blue\",\"blue\",\"blue\",\"red\",\"blue\",\"blue\",\"green\",\"blue\",\"red\",\"red\",\"red\",\"blue\",\"blue\",\"blue\",\"blue\",\"red\",\"red\",\"red\",\"blue\",\"blue\",\"red\",\"red\",\"red\",\"blue\",\"blue\",\"blue\",\"blue\",\"blue\",\"red\",\"blue\",\"blue\",\"blue\",\"red\",\"blue\",\"blue\",\"blue\",\"blue\",\"green\",\"blue\",\"blue\",\"blue\",\"blue\",\"blue\",\"red\",\"green\",\"green\",\"red\",\"blue\",\"red\",\"blue\",\"blue\",\"blue\",\"red\",\"red\",\"blue\",\"blue\",\"red\",\"blue\",\"red\",\"blue\",\"red\",\"blue\",\"green\",\"red\",\"blue\",\"blue\",\"blue\",\"green\",\"blue\",\"blue\",\"green\",\"blue\",\"blue\",\"blue\",\"blue\",\"blue\",\"blue\",\"blue\",\"green\",\"blue\",\"red\",\"blue\",\"red\",\"green\",\"blue\",\"blue\",\"red\",\"red\",\"blue\",\"blue\",\"red\",\"green\",\"green\",\"blue\",\"blue\",\"red\",\"blue\",\"blue\",\"blue\",\"blue\",\"red\",\"blue\",\"green\",\"red\",\"red\",\"green\",\"blue\",\"blue\",\"green\",\"blue\",\"green\",\"blue\",\"blue\",\"green\",\"blue\",\"blue\",\"green\",\"blue\",\"blue\",\"blue\",\"blue\",\"blue\",\"blue\",\"green\",\"blue\",\"blue\",\"red\",\"blue\",\"red\",\"blue\",\"blue\",\"blue\",\"red\",\"blue\",\"red\",\"green\",\"blue\",\"blue\",\"blue\",\"blue\",\"red\",\"blue\",\"blue\",\"blue\",\"blue\",\"blue\",\"blue\",\"blue\",\"blue\",\"blue\",\"blue\",\"blue\",\"blue\",\"blue\",\"blue\",\"blue\",\"blue\",\"green\",\"green\",\"red\",\"green\",\"red\",\"blue\",\"red\",\"blue\",\"blue\",\"green\",\"green\",\"blue\",\"green\",\"blue\",\"red\",\"blue\",\"blue\",\"red\",\"red\",\"blue\",\"blue\",\"blue\",\"blue\",\"blue\",\"green\",\"green\",\"blue\",\"blue\",\"blue\",\"green\",\"blue\",\"red\",\"red\",\"red\",\"red\",\"blue\",\"blue\",\"red\",\"blue\",\"blue\"],\"line_color\":[\"blue\",\"blue\",\"red\",\"blue\",\"green\",\"red\",\"red\",\"green\",\"blue\",\"blue\",\"green\",\"blue\",\"blue\",\"blue\",\"blue\",\"blue\",\"green\",\"blue\",\"red\",\"red\",\"blue\",\"blue\",\"blue\",\"blue\",\"blue\",\"green\",\"red\",\"red\",\"blue\",\"red\",\"red\",\"blue\",\"blue\",\"blue\",\"green\",\"green\",\"blue\",\"blue\",\"blue\",\"blue\",\"red\",\"blue\",\"blue\",\"blue\",\"blue\",\"red\",\"red\",\"blue\",\"blue\",\"blue\",\"blue\",\"blue\",\"red\",\"blue\",\"green\",\"blue\",\"blue\",\"blue\",\"blue\",\"red\",\"red\",\"blue\",\"blue\",\"blue\",\"blue\",\"blue\",\"blue\",\"blue\",\"blue\",\"blue\",\"blue\",\"green\",\"blue\",\"blue\",\"red\",\"blue\",\"blue\",\"blue\",\"blue\",\"green\",\"green\",\"green\",\"green\",\"blue\",\"blue\",\"green\",\"blue\",\"blue\",\"red\",\"blue\",\"blue\",\"blue\",\"blue\",\"red\",\"red\",\"blue\",\"red\",\"blue\",\"blue\",\"blue\",\"green\",\"green\",\"blue\",\"blue\",\"green\",\"green\",\"blue\",\"blue\",\"red\",\"green\",\"green\",\"blue\",\"blue\",\"blue\",\"green\",\"blue\",\"red\",\"blue\",\"blue\",\"blue\",\"green\",\"red\",\"blue\",\"green\",\"blue\",\"green\",\"green\",\"blue\",\"blue\",\"blue\",\"blue\",\"blue\",\"green\",\"blue\",\"blue\",\"red\",\"blue\",\"green\",\"blue\",\"blue\",\"green\",\"blue\",\"blue\",\"blue\",\"blue\",\"red\",\"green\",\"blue\",\"blue\",\"green\",\"blue\",\"blue\",\"green\",\"red\",\"blue\",\"blue\",\"blue\",\"red\",\"red\",\"blue\",\"red\",\"blue\",\"blue\",\"green\",\"green\",\"green\",\"blue\",\"red\",\"blue\",\"red\",\"blue\",\"red\",\"blue\",\"blue\",\"blue\",\"blue\",\"blue\",\"green\",\"blue\",\"blue\",\"blue\",\"green\",\"blue\",\"green\",\"blue\",\"blue\",\"green\",\"blue\",\"red\",\"green\",\"blue\",\"green\",\"blue\",\"blue\",\"blue\",\"blue\",\"blue\",\"blue\",\"red\",\"blue\",\"blue\",\"green\",\"blue\",\"red\",\"red\",\"red\",\"blue\",\"blue\",\"blue\",\"blue\",\"red\",\"red\",\"red\",\"blue\",\"blue\",\"red\",\"red\",\"red\",\"blue\",\"blue\",\"blue\",\"blue\",\"blue\",\"red\",\"blue\",\"blue\",\"blue\",\"red\",\"blue\",\"blue\",\"blue\",\"blue\",\"green\",\"blue\",\"blue\",\"blue\",\"blue\",\"blue\",\"red\",\"green\",\"green\",\"red\",\"blue\",\"red\",\"blue\",\"blue\",\"blue\",\"red\",\"red\",\"blue\",\"blue\",\"red\",\"blue\",\"red\",\"blue\",\"red\",\"blue\",\"green\",\"red\",\"blue\",\"blue\",\"blue\",\"green\",\"blue\",\"blue\",\"green\",\"blue\",\"blue\",\"blue\",\"blue\",\"blue\",\"blue\",\"blue\",\"green\",\"blue\",\"red\",\"blue\",\"red\",\"green\",\"blue\",\"blue\",\"red\",\"red\",\"blue\",\"blue\",\"red\",\"green\",\"green\",\"blue\",\"blue\",\"red\",\"blue\",\"blue\",\"blue\",\"blue\",\"red\",\"blue\",\"green\",\"red\",\"red\",\"green\",\"blue\",\"blue\",\"green\",\"blue\",\"green\",\"blue\",\"blue\",\"green\",\"blue\",\"blue\",\"green\",\"blue\",\"blue\",\"blue\",\"blue\",\"blue\",\"blue\",\"green\",\"blue\",\"blue\",\"red\",\"blue\",\"red\",\"blue\",\"blue\",\"blue\",\"red\",\"blue\",\"red\",\"green\",\"blue\",\"blue\",\"blue\",\"blue\",\"red\",\"blue\",\"blue\",\"blue\",\"blue\",\"blue\",\"blue\",\"blue\",\"blue\",\"blue\",\"blue\",\"blue\",\"blue\",\"blue\",\"blue\",\"blue\",\"blue\",\"green\",\"green\",\"red\",\"green\",\"red\",\"blue\",\"red\",\"blue\",\"blue\",\"green\",\"green\",\"blue\",\"green\",\"blue\",\"red\",\"blue\",\"blue\",\"red\",\"red\",\"blue\",\"blue\",\"blue\",\"blue\",\"blue\",\"green\",\"green\",\"blue\",\"blue\",\"blue\",\"green\",\"blue\",\"red\",\"red\",\"red\",\"red\",\"blue\",\"blue\",\"red\",\"blue\",\"blue\"],\"x\":[88,193,60,98,78,100,75,76,130,140,52,88,84,148,150,130,58,82,65,110,95,110,140,170,78,90,96,95,110,75,132,150,83,85,86,75,140,139,70,52,60,84,138,180,65,67,97,150,70,100,180,129,95,90,83,75,100,85,112,67,65,88,100,75,100,70,145,110,210,80,145,69,150,198,120,92,90,115,95,75,76,67,71,115,84,91,150,215,67,175,60,175,110,95,68,150,67,95,110,105,102,110,89,66,88,75,78,105,70,103,60,150,72,170,90,110,58,152,145,139,83,69,150,67,80,71,46,105,90,110,175,80,74,150,150,65,100,48,105,90,48,105,105,88,100,75,113,190,92,80,165,180,71,97,72,105,90,75,88,155,68,90,84,87,112,87,125,108,142,97,105,75,137,150,88,145,63,95,140,88,85,70,85,115,86,79,120,120,65,110,220,115,170,100,90,225,85,65,97,90,90,49,110,70,92,53,100,190,63,90,67,65,75,100,110,60,93,88,150,100,150,88,225,68,70,208,105,74,90,110,72,97,88,88,129,85,86,150,70,48,77,65,175,90,150,110,130,53,65,158,95,61,215,100,145,68,150,88,67,105,175,160,74,135,100,67,198,180,215,100,225,155,170,81,85,95,80,92,70,149,84,97,52,72,85,52,95,71,140,100,96,150,75,107,110,75,97,133,70,67,112,145,115,98,70,78,230,63,76,105,95,62,165,165,160,190,95,180,78,120,80,75,68,67,95,140,110,72,150,95,54,153,130,170,86,97,90,145,86,79,165,83,64,92,72,140,150,96,150,80,130,100,125,90,94,76,90,150,97,85,81,78,46,84,70,153,116,100,167,88,88,88,200,125,92,110,69,67,90,150,90,71,105,62,88,122,65,88,90,68,110,88],\"y\":{\"__ndarray__\":\"AAAAAAAAMkAAAAAAAAAiQM3MzMzMDEJAAAAAAACAMkBmZmZmZiZBQDMzMzMzc0BAmpmZmZkZQEAAAAAAAAA2QAAAAAAAAC5AAAAAAAAAMUAAAAAAAABGQAAAAAAAgDhAAAAAAAAAQEAAAAAAAAAsQAAAAAAAAC5AAAAAAAAAKkAAAAAAAABCQAAAAAAAAD9AAAAAAAAAQEAAAAAAAIA1QAAAAAAAADNAAAAAAAAAMUAAAAAAAAAwQAAAAAAAAC5AAAAAAAAAN0AAAAAAAAA6QAAAAAAAAEBAAAAAAAAAOEAAAAAAAAA1QM3MzMzMTD9AmpmZmZlZQEAAAAAAAAAuQAAAAAAAADdAmpmZmZmZMUAAAAAAAAA8QAAAAAAAADhAAAAAAAAALECamZmZmRkyQAAAAAAAAEJAAAAAAAAAPUDNzMzMzIxBQAAAAAAAAEJAAAAAAACAMEAAAAAAAAAwQGZmZmZm5j1AAAAAAAAAP0AzMzMzMzM7QAAAAAAAACxAzczMzMwMQEAAAAAAAAAuQAAAAAAAAChAmpmZmZmZMUAAAAAAAAA5QGZmZmZmZjxAAAAAAAAAPUBmZmZmZuY+QAAAAAAAADRAzczMzMzMNEAAAAAAAAA2QAAAAAAAAENAAAAAAAAAP0AAAAAAAAAzQAAAAAAAADBAAAAAAAAAOUAAAAAAAAA2QAAAAAAAADpAAAAAAAAAKkBmZmZmZuYzQAAAAAAAACZAAAAAAAAAPEAAAAAAAAAvQAAAAAAAADpAAAAAAAAALEAAAAAAAAAoQDMzMzMzMzhAAAAAAAAAOUAAAAAAAIA2QM3MzMzMzDpAAAAAAAAAN0AAAAAAAAA6QDMzMzMzsz5AAAAAAAAAP0AzMzMzMzM7QAAAAAAAgDVAAAAAAAAAPUAAAAAAAAA0QAAAAAAAACpAAAAAAAAALEAAAAAAAABDQAAAAAAAACpAAAAAAACAOEAAAAAAAAAqQAAAAAAAADlAAAAAAAAAOEDNzMzMzAxBQAAAAAAAACpAzczMzMxMRkAAAAAAAIA0QAAAAAAAADJAMzMzMzMzN0AAAAAAAAA0QAAAAAAAADhAAAAAAACAOUDNzMzMzAxCQAAAAAAAADdAAAAAAAAAOEAAAAAAAAAyQJqZmZmZmTpAAAAAAAAAQEDNzMzMzEw0QAAAAAAAADtAAAAAAAAAMUAAAAAAAAA1QAAAAAAAACpAAAAAAAAAOEAAAAAAAAAxQM3MzMzMjENAAAAAAAAALUAAAAAAAAAqQDMzMzMzMzRAAAAAAAAAO0AAAAAAAIBBQAAAAAAAAC5AMzMzMzMzQkAAAAAAAAA+QGZmZmZm5j9AAAAAAAAAOkAAAAAAAAAwQAAAAAAAADRAmpmZmZmZMkAAAAAAAAAsQAAAAAAAADlAAAAAAACAQEAAAAAAAAAsQAAAAAAAgDJAmpmZmZmZQkAAAAAAAAAyQGZmZmZmJkZAAAAAAAAAMkAAAAAAAAA8QDMzMzMzs0VAmpmZmZmZNEAzMzMzMzMzQGZmZmZmZjpAAAAAAAAAMkAAAAAAAAA8QAAAAAAAADpAAAAAAAAAKkDNzMzMzMw5QJqZmZmZGTxAAAAAAAAAKkAAAAAAAIAwQAAAAAAAgD9AAAAAAAAAOEAAAAAAAAAuQAAAAAAAADJAAAAAAADAQEAzMzMzMzNAQAAAAAAAADtAAAAAAAAAKkAAAAAAAAA/QAAAAAAAADxAMzMzMzMzO0AAAAAAAAA1QAAAAAAAADNAAAAAAAAAOUAAAAAAAAA3QAAAAAAAADNAAAAAAAAAL0BmZmZmZuY3QAAAAAAAADZAAAAAAAAAPUAAAAAAAAAsQAAAAAAAAC5AAAAAAAAAO0AAAAAAAAAuQAAAAAAAgD5AAAAAAAAAOUAAAAAAAIAxQAAAAAAAAEFAAAAAAAAAQ0AAAAAAAAA+QM3MzMzMzDNAAAAAAAAAOUAAAAAAAAA1QAAAAAAAADpAAAAAAACAMECamZmZmRkyQM3MzMzMTEdAAAAAAACANUAAAAAAAAAsQJqZmZmZmTVAAAAAAAAAL0AAAAAAAIA0QGZmZmZm5jdAAAAAAAAAKEAzMzMzMzM0QDMzMzMzM0FAAAAAAAAAN0DNzMzMzEw4QAAAAAAAADNAAAAAAAAAPUAAAAAAAIA3QAAAAAAAAEFAAAAAAACAQkAAAAAAAIBAQAAAAAAAADJAAAAAAAAALkCamZmZmVlBQGZmZmZmZjNAAAAAAAAAQEDNzMzMzAxBQJqZmZmZ2UBAAAAAAAAANEAAAAAAAAAuQM3MzMzMDENAAAAAAAAAOkAAAAAAAAA7QAAAAAAAADBAAAAAAAAAMUAAAAAAAAAqQAAAAAAAADxAAAAAAAAALEAAAAAAAIA/QAAAAAAAQEFAAAAAAAAAJkAAAAAAAAAwQJqZmZmZmT9AmpmZmZkZM0AAAAAAAIAyQAAAAAAAAC5AAAAAAAAAMkAAAAAAAIBBQDMzMzMzMzRAAAAAAAAAKkAAAAAAAAA/QAAAAAAAADZAAAAAAAAAJkAAAAAAAMBAQM3MzMzMjEVAZmZmZmZmOUBmZmZmZmZEQAAAAAAAACxAzczMzMzMPUAAAAAAAAAwQJqZmZmZmTRAAAAAAAAAMkAAAAAAAIBAQM3MzMzMzD9AAAAAAAAAKkAAAAAAAAA0QAAAAAAAAEBAAAAAAAAAKkAzMzMzM7M3QDMzMzMzMzNAAAAAAACAQkAAAAAAAAAyQAAAAAAAADNAZmZmZmYmQEAAAAAAAAAyQAAAAAAAACpAAAAAAAAAKEAAAAAAAABCQDMzMzMzMzJAAAAAAAAAM0AAAAAAAAA+QAAAAAAAAC5AAAAAAAAAJkAAAAAAAAAkQAAAAAAAADBAAAAAAAAALEBmZmZmZuYwQAAAAAAAACpAAAAAAAAAOUAAAAAAAAA1QJqZmZmZGTVAAAAAAAAAOkAAAAAAAAA8QAAAAAAAAD1AAAAAAAAAMECamZmZmZk6QAAAAAAAADNAZmZmZmZmQEAAAAAAAAA2QAAAAAAAADNAAAAAAAAAP0AAAAAAAAA3QAAAAAAAgD1AAAAAAACAMUAAAAAAAAAzQAAAAAAAADhAAAAAAAAALEAAAAAAAAA8QAAAAAAAADVAZmZmZmZmNkAAAAAAAABCQAAAAAAAADJAMzMzMzMzMEAzMzMzM7NDQAAAAAAAAD5AAAAAAAAAMkAAAAAAAIAxQM3MzMzMzDxAAAAAAAAANkCamZmZmRlBQAAAAAAAgD5AAAAAAAAAMEAAAAAAAABDQAAAAAAAwERAZmZmZmbmO0AAAAAAAAA2QM3MzMzMzD1AMzMzMzOzMUAAAAAAAAAuQAAAAAAAACxAAAAAAAAAL0AAAAAAAIAxQAAAAAAAAChAAAAAAAAAPUAAAAAAAAAvQJqZmZmZ2UFAAAAAAAAAOkAAAAAAAAA+QGZmZmZm5kBAAAAAAAAAMkAAAAAAAAAqQAAAAAAAADRAMzMzMzMzQEAAAAAAAAAwQAAAAAAAgDtAAAAAAAAAN0AAAAAAAAAsQAAAAAAAADFAAAAAAAAAMEAAAAAAAAA3QAAAAAAAADhAAAAAAAAAO0AAAAAAAAAuQAAAAAAAADtAAAAAAAAAPEAAAAAAAAAsQAAAAAAAwEBAAAAAAACAQ0AAAAAAAAA4QAAAAAAAgDpAZmZmZmZmM0AAAAAAAAAuQAAAAAAAgDlAAAAAAAAALEBmZmZmZmY7QAAAAAAAACpAAAAAAAAAM0AAAAAAAAAxQAAAAAAAADxAAAAAAAAANkAAAAAAAAA+QAAAAAAAADJAAAAAAAAALEAAAAAAAAA2QM3MzMzMzDdAAAAAAAAAOEAAAAAAAAA6QAAAAAAAADpAAAAAAAAAPkAAAAAAAAA9QAAAAAAAACxAZmZmZmZmOUAAAAAAAAAzQAAAAAAAAChAAAAAAAAANEAAAAAAAAA7QM3MzMzMTDZAAAAAAAAAJEAzMzMzMzMzQAAAAAAAADpAAAAAAAAAMEBmZmZmZqZCQAAAAAAAADpAMzMzMzMzNEAAAAAAAAAqQAAAAAAAADVAAAAAAAAAOUAAAAAAAIA0QJqZmZmZ2UJAAAAAAAAAQkAAAAAAAAA0QAAAAAAAgEJAAAAAAAAAMkAAAAAAAAA7QAAAAAAAgD1AAAAAAACAMUCamZmZmRk5QA==\",\"dtype\":\"float64\",\"shape\":[392]}},\"selected\":{\"id\":\"f9d16ec1-6228-41ba-ba5d-622510c79c42\",\"type\":\"Selection\"},\"selection_policy\":{\"id\":\"8c72aac5-1c85-4f19-997c-db83f28d03f1\",\"type\":\"UnionRenderers\"}},\"id\":\"2631f5cb-8648-47ee-8b1e-4a8b23c4b0d7\",\"type\":\"ColumnDataSource\"},{\"attributes\":{\"data_source\":{\"id\":\"2631f5cb-8648-47ee-8b1e-4a8b23c4b0d7\",\"type\":\"ColumnDataSource\"},\"glyph\":{\"id\":\"4600fc50-518f-49cf-bc73-05235dcf97bf\",\"type\":\"Circle\"},\"hover_glyph\":null,\"muted_glyph\":null,\"nonselection_glyph\":{\"id\":\"547d46ae-0f9e-4956-b763-179f0d4dd72b\",\"type\":\"Circle\"},\"selection_glyph\":null,\"view\":{\"id\":\"fe764e53-3625-4db3-8ab9-a0506dde6a91\",\"type\":\"CDSView\"}},\"id\":\"c6df220f-ad64-44e3-ab45-371ce2cc9210\",\"type\":\"GlyphRenderer\"},{\"attributes\":{},\"id\":\"0b62cef0-6e09-4578-84ff-e23340de684c\",\"type\":\"PanTool\"},{\"attributes\":{\"fill_alpha\":{\"value\":0.1},\"fill_color\":{\"value\":\"#1f77b4\"},\"line_alpha\":{\"value\":0.1},\"line_color\":{\"value\":\"#1f77b4\"},\"size\":{\"units\":\"screen\",\"value\":10},\"x\":{\"field\":\"x\"},\"y\":{\"field\":\"y\"}},\"id\":\"547d46ae-0f9e-4956-b763-179f0d4dd72b\",\"type\":\"Circle\"},{\"attributes\":{},\"id\":\"4bd3774c-7832-4339-bdb8-f2bdcebf2602\",\"type\":\"WheelZoomTool\"},{\"attributes\":{\"overlay\":{\"id\":\"a4bbb505-a79a-4de6-9a3e-9d19b51c6ed6\",\"type\":\"BoxAnnotation\"}},\"id\":\"e7816901-5f22-49b9-bc54-8c65532cdb18\",\"type\":\"BoxZoomTool\"},{\"attributes\":{\"callback\":null},\"id\":\"81318e70-aabb-45e7-b431-3392437f00f6\",\"type\":\"DataRange1d\"},{\"attributes\":{},\"id\":\"ae37e7a0-6e4c-420f-a63a-0e4d9f3c4c4e\",\"type\":\"SaveTool\"},{\"attributes\":{},\"id\":\"2a7023bd-6608-437e-8527-059b6b5f8aec\",\"type\":\"LinearScale\"},{\"attributes\":{},\"id\":\"bffa8a39-6eb1-4ab2-b210-ab392c9d2be5\",\"type\":\"ResetTool\"},{\"attributes\":{},\"id\":\"2e6b42a0-11bb-41a8-98ae-6ad4cbd7922e\",\"type\":\"LinearScale\"},{\"attributes\":{},\"id\":\"7550d699-f830-48f8-8480-475feb17d9a3\",\"type\":\"BasicTicker\"},{\"attributes\":{},\"id\":\"0fdd3761-e29f-4a94-9753-698afcc5e5ac\",\"type\":\"HelpTool\"},{\"attributes\":{\"plot\":{\"id\":\"7c2a42fd-d193-4f08-843b-f777c0b433c8\",\"subtype\":\"Figure\",\"type\":\"Plot\"},\"ticker\":{\"id\":\"f098de08-1c5d-4fba-9168-cee7b1406204\",\"type\":\"BasicTicker\"}},\"id\":\"930449da-1672-42eb-bbbd-db8ecf36b1c6\",\"type\":\"Grid\"},{\"attributes\":{\"bottom_units\":\"screen\",\"fill_alpha\":{\"value\":0.5},\"fill_color\":{\"value\":\"lightgrey\"},\"left_units\":\"screen\",\"level\":\"overlay\",\"line_alpha\":{\"value\":1.0},\"line_color\":{\"value\":\"black\"},\"line_dash\":[4,4],\"line_width\":{\"value\":2},\"plot\":null,\"render_mode\":\"css\",\"right_units\":\"screen\",\"top_units\":\"screen\"},\"id\":\"a4bbb505-a79a-4de6-9a3e-9d19b51c6ed6\",\"type\":\"BoxAnnotation\"},{\"attributes\":{\"axis_label\":\"HP\",\"formatter\":{\"id\":\"cdad3ce1-1208-4640-83e0-91b4939e9aca\",\"type\":\"BasicTickFormatter\"},\"plot\":{\"id\":\"7c2a42fd-d193-4f08-843b-f777c0b433c8\",\"subtype\":\"Figure\",\"type\":\"Plot\"},\"ticker\":{\"id\":\"f098de08-1c5d-4fba-9168-cee7b1406204\",\"type\":\"BasicTicker\"}},\"id\":\"39e698ba-02d9-44fc-96fd-c61e021c1711\",\"type\":\"LinearAxis\"},{\"attributes\":{},\"id\":\"cdad3ce1-1208-4640-83e0-91b4939e9aca\",\"type\":\"BasicTickFormatter\"},{\"attributes\":{},\"id\":\"f098de08-1c5d-4fba-9168-cee7b1406204\",\"type\":\"BasicTicker\"},{\"attributes\":{\"source\":{\"id\":\"2631f5cb-8648-47ee-8b1e-4a8b23c4b0d7\",\"type\":\"ColumnDataSource\"}},\"id\":\"fe764e53-3625-4db3-8ab9-a0506dde6a91\",\"type\":\"CDSView\"},{\"attributes\":{\"axis_label\":\"MPG\",\"formatter\":{\"id\":\"6c118471-b123-4974-a9a2-36dc0320b9ef\",\"type\":\"BasicTickFormatter\"},\"plot\":{\"id\":\"7c2a42fd-d193-4f08-843b-f777c0b433c8\",\"subtype\":\"Figure\",\"type\":\"Plot\"},\"ticker\":{\"id\":\"7550d699-f830-48f8-8480-475feb17d9a3\",\"type\":\"BasicTicker\"}},\"id\":\"3f9e3843-c50c-4a59-84fd-517435e434b2\",\"type\":\"LinearAxis\"},{\"attributes\":{},\"id\":\"f9d16ec1-6228-41ba-ba5d-622510c79c42\",\"type\":\"Selection\"},{\"attributes\":{\"dimension\":1,\"plot\":{\"id\":\"7c2a42fd-d193-4f08-843b-f777c0b433c8\",\"subtype\":\"Figure\",\"type\":\"Plot\"},\"ticker\":{\"id\":\"7550d699-f830-48f8-8480-475feb17d9a3\",\"type\":\"BasicTicker\"}},\"id\":\"74553a48-07ef-4a48-9d28-97eda6895006\",\"type\":\"Grid\"},{\"attributes\":{\"callback\":null},\"id\":\"c1d3364b-b412-4a04-9fc7-5b4ea7198e05\",\"type\":\"DataRange1d\"}],\"root_ids\":[\"7c2a42fd-d193-4f08-843b-f777c0b433c8\"]},\"title\":\"Bokeh Application\",\"version\":\"0.13.0\"}};\n",
       "  var render_items = [{\"docid\":\"1c75f9c2-5bdd-482c-bdf3-9f9f2cfee79b\",\"roots\":{\"7c2a42fd-d193-4f08-843b-f777c0b433c8\":\"6eb9de7f-5078-4214-a8f3-9965c804e943\"}}];\n",
       "  root.Bokeh.embed.embed_items_notebook(docs_json, render_items);\n",
       "\n",
       "  }\n",
       "  if (root.Bokeh !== undefined) {\n",
       "    embed_document(root);\n",
       "  } else {\n",
       "    var attempts = 0;\n",
       "    var timer = setInterval(function(root) {\n",
       "      if (root.Bokeh !== undefined) {\n",
       "        embed_document(root);\n",
       "        clearInterval(timer);\n",
       "      }\n",
       "      attempts++;\n",
       "      if (attempts > 100) {\n",
       "        console.log(\"Bokeh: ERROR: Unable to run BokehJS code because BokehJS library is missing\")\n",
       "        clearInterval(timer);\n",
       "      }\n",
       "    }, 10, root)\n",
       "  }\n",
       "})(window);"
      ],
      "application/vnd.bokehjs_exec.v0+json": ""
     },
     "metadata": {
      "application/vnd.bokehjs_exec.v0+json": {
       "id": "7c2a42fd-d193-4f08-843b-f777c0b433c8"
      }
     },
     "output_type": "display_data"
    }
   ],
   "source": [
    "# Read in the CSV file: df\n",
    "df = pd.read_csv('auto-mpg.csv')\n",
    "\n",
    "# Import figure from bokeh.plotting\n",
    "from bokeh.plotting import figure\n",
    "\n",
    "# Create the figure: p\n",
    "p = figure(x_axis_label='HP', y_axis_label='MPG')\n",
    "\n",
    "# Plot mpg vs hp by color\n",
    "p.circle(df['hp'], df['mpg'], color=df['color'], size=10)\n",
    "\n",
    "# Specify the name of the output file and show the result\n",
    "output_file('auto-df.html')\n",
    "show(p)"
   ]
  },
  {
   "cell_type": "markdown",
   "metadata": {},
   "source": [
    "## The Bokeh ColumnDataSource "
   ]
  },
  {
   "cell_type": "markdown",
   "metadata": {},
   "source": [
    "You can create a ColumnDataSource object directly from a Pandas DataFrame by passing the DataFrame to the class initializer.\n",
    "\n",
    "In this exercise, we have imported pandas as pd and read in a data set containing all Olympic medals awarded in the 100 meter sprint from 1896 to 2012. A color column has been added indicating the CSS colorname we wish to use in the plot for every data point.\n",
    "\n",
    "Your job is to import the ColumnDataSource class, create a new ColumnDataSource object from the DataFrame df, and plot circle glyphs with 'Year' on the x-axis and 'Time' on the y-axis. Color each glyph by the color column."
   ]
  },
  {
   "cell_type": "code",
   "execution_count": 8,
   "metadata": {},
   "outputs": [
    {
     "data": {
      "text/html": [
       "<div>\n",
       "<style scoped>\n",
       "    .dataframe tbody tr th:only-of-type {\n",
       "        vertical-align: middle;\n",
       "    }\n",
       "\n",
       "    .dataframe tbody tr th {\n",
       "        vertical-align: top;\n",
       "    }\n",
       "\n",
       "    .dataframe thead th {\n",
       "        text-align: right;\n",
       "    }\n",
       "</style>\n",
       "<table border=\"1\" class=\"dataframe\">\n",
       "  <thead>\n",
       "    <tr style=\"text-align: right;\">\n",
       "      <th></th>\n",
       "      <th>Name</th>\n",
       "      <th>Country</th>\n",
       "      <th>Medal</th>\n",
       "      <th>Time</th>\n",
       "      <th>Year</th>\n",
       "      <th>color</th>\n",
       "    </tr>\n",
       "  </thead>\n",
       "  <tbody>\n",
       "    <tr>\n",
       "      <th>0</th>\n",
       "      <td>Usain Bolt</td>\n",
       "      <td>JAM</td>\n",
       "      <td>GOLD</td>\n",
       "      <td>9.63</td>\n",
       "      <td>2012</td>\n",
       "      <td>goldenrod</td>\n",
       "    </tr>\n",
       "    <tr>\n",
       "      <th>1</th>\n",
       "      <td>Yohan Blake</td>\n",
       "      <td>JAM</td>\n",
       "      <td>SILVER</td>\n",
       "      <td>9.75</td>\n",
       "      <td>2012</td>\n",
       "      <td>silver</td>\n",
       "    </tr>\n",
       "    <tr>\n",
       "      <th>2</th>\n",
       "      <td>Justin Gatlin</td>\n",
       "      <td>USA</td>\n",
       "      <td>BRONZE</td>\n",
       "      <td>9.79</td>\n",
       "      <td>2012</td>\n",
       "      <td>saddlebrown</td>\n",
       "    </tr>\n",
       "    <tr>\n",
       "      <th>3</th>\n",
       "      <td>Usain Bolt</td>\n",
       "      <td>JAM</td>\n",
       "      <td>GOLD</td>\n",
       "      <td>9.69</td>\n",
       "      <td>2008</td>\n",
       "      <td>goldenrod</td>\n",
       "    </tr>\n",
       "    <tr>\n",
       "      <th>4</th>\n",
       "      <td>Richard Thompson</td>\n",
       "      <td>TRI</td>\n",
       "      <td>SILVER</td>\n",
       "      <td>9.89</td>\n",
       "      <td>2008</td>\n",
       "      <td>silver</td>\n",
       "    </tr>\n",
       "  </tbody>\n",
       "</table>\n",
       "</div>"
      ],
      "text/plain": [
       "               Name Country   Medal  Time  Year        color\n",
       "0        Usain Bolt     JAM    GOLD  9.63  2012    goldenrod\n",
       "1       Yohan Blake     JAM  SILVER  9.75  2012       silver\n",
       "2     Justin Gatlin     USA  BRONZE  9.79  2012  saddlebrown\n",
       "3        Usain Bolt     JAM    GOLD  9.69  2008    goldenrod\n",
       "4  Richard Thompson     TRI  SILVER  9.89  2008       silver"
      ]
     },
     "execution_count": 8,
     "metadata": {},
     "output_type": "execute_result"
    }
   ],
   "source": [
    "df2 = pd.read_csv('sprint.csv')\n",
    "df2.head()"
   ]
  },
  {
   "cell_type": "code",
   "execution_count": 9,
   "metadata": {
    "scrolled": false
   },
   "outputs": [
    {
     "data": {
      "text/html": [
       "\n",
       "\n",
       "\n",
       "\n",
       "\n",
       "\n",
       "  <div class=\"bk-root\" id=\"f09d0593-f041-4231-b2a3-59c93bf0caeb\"></div>\n"
      ]
     },
     "metadata": {},
     "output_type": "display_data"
    },
    {
     "data": {
      "application/javascript": [
       "(function(root) {\n",
       "  function embed_document(root) {\n",
       "    \n",
       "  var docs_json = {\"8995a347-b685-435c-a720-c0a5a356f82d\":{\"roots\":{\"references\":[{\"attributes\":{},\"id\":\"dd66974f-3cf0-4ea4-b884-4012dea63881\",\"type\":\"ResetTool\"},{\"attributes\":{},\"id\":\"18247b0b-23e5-4c23-a156-8488d89632da\",\"type\":\"HelpTool\"},{\"attributes\":{\"axis_label\":\"Year\",\"formatter\":{\"id\":\"b99a9998-92a8-44c9-a884-193f90b4f2eb\",\"type\":\"BasicTickFormatter\"},\"plot\":{\"id\":\"fd5d6625-a8d6-4678-b84e-2977abeb3784\",\"subtype\":\"Figure\",\"type\":\"Plot\"},\"ticker\":{\"id\":\"35dacd15-9c65-4f3c-8c6f-f351417a47d5\",\"type\":\"BasicTicker\"}},\"id\":\"75e9008e-0b50-4d49-88c7-f1a34a5becf3\",\"type\":\"LinearAxis\"},{\"attributes\":{\"bottom_units\":\"screen\",\"fill_alpha\":{\"value\":0.5},\"fill_color\":{\"value\":\"lightgrey\"},\"left_units\":\"screen\",\"level\":\"overlay\",\"line_alpha\":{\"value\":1.0},\"line_color\":{\"value\":\"black\"},\"line_dash\":[4,4],\"line_width\":{\"value\":2},\"plot\":null,\"render_mode\":\"css\",\"right_units\":\"screen\",\"top_units\":\"screen\"},\"id\":\"1ac46bd4-423e-42bd-b3d6-a0b5a3cfc5fb\",\"type\":\"BoxAnnotation\"},{\"attributes\":{},\"id\":\"7fc0f6f4-156e-400d-9e2b-c83264fa7b9b\",\"type\":\"LinearScale\"},{\"attributes\":{\"callback\":null},\"id\":\"dec65dea-874e-477b-8937-a65c87638a2f\",\"type\":\"DataRange1d\"},{\"attributes\":{},\"id\":\"b99a9998-92a8-44c9-a884-193f90b4f2eb\",\"type\":\"BasicTickFormatter\"},{\"attributes\":{\"data_source\":{\"id\":\"d1a648a1-817d-4db5-a298-25b0e841f3df\",\"type\":\"ColumnDataSource\"},\"glyph\":{\"id\":\"bffbd0c6-12c3-44f4-b740-f19d0a1a271a\",\"type\":\"Circle\"},\"hover_glyph\":null,\"muted_glyph\":null,\"nonselection_glyph\":{\"id\":\"b049069f-2bd1-40e5-8386-f86ed65c0bb4\",\"type\":\"Circle\"},\"selection_glyph\":null,\"view\":{\"id\":\"7f7e09cd-769f-4dfe-a7de-e83db53f0d6e\",\"type\":\"CDSView\"}},\"id\":\"848392f1-73c2-498b-8ca9-ce0f18cea436\",\"type\":\"GlyphRenderer\"},{\"attributes\":{},\"id\":\"2112a4ea-959f-4fb3-be5a-822f94e28376\",\"type\":\"BasicTickFormatter\"},{\"attributes\":{\"plot\":{\"id\":\"fd5d6625-a8d6-4678-b84e-2977abeb3784\",\"subtype\":\"Figure\",\"type\":\"Plot\"},\"ticker\":{\"id\":\"35dacd15-9c65-4f3c-8c6f-f351417a47d5\",\"type\":\"BasicTicker\"}},\"id\":\"1b15dd1c-3096-411c-8f2f-491812fc97bb\",\"type\":\"Grid\"},{\"attributes\":{},\"id\":\"35dacd15-9c65-4f3c-8c6f-f351417a47d5\",\"type\":\"BasicTicker\"},{\"attributes\":{\"axis_label\":\"Time\",\"formatter\":{\"id\":\"2112a4ea-959f-4fb3-be5a-822f94e28376\",\"type\":\"BasicTickFormatter\"},\"plot\":{\"id\":\"fd5d6625-a8d6-4678-b84e-2977abeb3784\",\"subtype\":\"Figure\",\"type\":\"Plot\"},\"ticker\":{\"id\":\"b248aa8c-673b-4d98-872f-90082dc55d1d\",\"type\":\"BasicTicker\"}},\"id\":\"b3b0dc92-efff-43d6-9a70-596bae2edb12\",\"type\":\"LinearAxis\"},{\"attributes\":{},\"id\":\"c28cdba3-1791-4c74-a7f8-2b55aada8535\",\"type\":\"Selection\"},{\"attributes\":{},\"id\":\"b248aa8c-673b-4d98-872f-90082dc55d1d\",\"type\":\"BasicTicker\"},{\"attributes\":{\"fill_color\":{\"field\":\"color\"},\"line_color\":{\"field\":\"color\"},\"size\":{\"units\":\"screen\",\"value\":8},\"x\":{\"field\":\"Year\"},\"y\":{\"field\":\"Time\"}},\"id\":\"bffbd0c6-12c3-44f4-b740-f19d0a1a271a\",\"type\":\"Circle\"},{\"attributes\":{\"dimension\":1,\"plot\":{\"id\":\"fd5d6625-a8d6-4678-b84e-2977abeb3784\",\"subtype\":\"Figure\",\"type\":\"Plot\"},\"ticker\":{\"id\":\"b248aa8c-673b-4d98-872f-90082dc55d1d\",\"type\":\"BasicTicker\"}},\"id\":\"2328cf7c-35b9-4cb5-930e-5f4c54e9ef50\",\"type\":\"Grid\"},{\"attributes\":{\"callback\":null,\"data\":{\"Country\":[\"JAM\",\"JAM\",\"USA\",\"JAM\",\"TRI\",\"USA\",\"USA\",\"POR\",\"USA\",\"USA\",\"TRI\",\"BAR\",\"CAN\",\"NAM\",\"TRI\",\"GBR\",\"NAM\",\"USA\",\"USA\",\"GBR\",\"USA\",\"USA\",\"USA\",\"CAN\",\"GBR\",\"CUB\",\"BUL\",\"TRI\",\"JAM\",\"URS\",\"URS\",\"USA\",\"JAM\",\"USA\",\"JAM\",\"USA\",\"USA\",\"CUB\",\"CAN\",\"EUA\",\"USA\",\"GBR\",\"USA\",\"USA\",\"AUS\",\"USA\",\"JAM\",\"GBR\",\"USA\",\"USA\",\"PAN\",\"USA\",\"USA\",\"NED\",\"USA\",\"USA\",\"GER\",\"CAN\",\"GBR\",\"GER\",\"GBR\",\"USA\",\"NZL\",\"USA\",\"USA\",\"GBR\",\"USA\",\"USA\",\"USA\",\"RSA\",\"USA\",\"CAN\",\"USA\",\"USA\",\"AUS\",\"USA\",\"USA\",\"USA\",\"USA\",\"USA\",\"AUS\",\"USA\",\"GER\",\"HUN\",\"USA\"],\"Medal\":[\"GOLD\",\"SILVER\",\"BRONZE\",\"GOLD\",\"SILVER\",\"BRONZE\",\"GOLD\",\"SILVER\",\"BRONZE\",\"GOLD\",\"SILVER\",\"BRONZE\",\"GOLD\",\"SILVER\",\"BRONZE\",\"GOLD\",\"SILVER\",\"BRONZE\",\"GOLD\",\"SILVER\",\"BRONZE\",\"GOLD\",\"SILVER\",\"BRONZE\",\"GOLD\",\"SILVER\",\"BRONZE\",\"GOLD\",\"SILVER\",\"BRONZE\",\"GOLD\",\"SILVER\",\"BRONZE\",\"GOLD\",\"SILVER\",\"BRONZE\",\"GOLD\",\"SILVER\",\"BRONZE\",\"GOLD\",\"SILVER\",\"BRONZE\",\"GOLD\",\"SILVER\",\"BRONZE\",\"GOLD\",\"SILVER\",\"BRONZE\",\"GOLD\",\"SILVER\",\"BRONZE\",\"GOLD\",\"SILVER\",\"BRONZE\",\"GOLD\",\"SILVER\",\"BRONZE\",\"GOLD\",\"SILVER\",\"BRONZE\",\"GOLD\",\"SILVER\",\"BRONZE\",\"GOLD\",\"SILVER\",\"BRONZE\",\"GOLD\",\"SILVER\",\"BRONZE\",\"GOLD\",\"SILVER\",\"BRONZE\",\"GOLD\",\"SILVER\",\"BRONZE\",\"GOLD\",\"SILVER\",\"BRONZE\",\"GOLD\",\"SILVER\",\"BRONZE\",\"GOLD\",\"SILVER\",\"BRONZE\",\"BRONZE\"],\"Name\":[\"Usain Bolt\",\"Yohan Blake\",\"Justin Gatlin\",\"Usain Bolt\",\"Richard Thompson\",\"Walter Dix\",\"Justin Gatlin\",\"Francis Obikwelu\",\"Maurice Greene\",\"Maurice Greene\",\"Ato Boldon\",\"Obadele Thompson\",\"Donovan Bailey\",\"Frankie Fredericks\",\"Ato Boldon\",\"Linford Christie\",\"Frankie Fredericks\",\"Dennis Mitchell\",\"Carl Lewis\",\"Linford Christie\",\"Calvin Smith\",\"Carl Lewis\",\"Sam Graddy\",\"Ben Johnson\",\"Allan Wells\",\"Silvio Leonard Tartabull\",\"Petar Petrov\",\"Hasely Crawford\",\"Donald Quarrie\",\"Valery Borzov\",\"Valery Borzov\",\"Robert Taylor\",\"Lennox Miller\",\"Jim Hines\",\"Lennox Miller\",\"Charles Greene\",\"Bob Hayes\",\"Enrique Figuerola Camue\",\"Harry Jerome\",\"Armin Hary\",\"David Sime\",\"Peter Radford\",\"Bobby Joe Morrow\",\"W. Thane Baker\",\"Hector Hogan\",\"Lindy Remigino\",\"Herbert McKenley\",\"E. McDonald Bailey\",\"W. Harrison Dillard\",\"H. Norwood \\\"Barney\\\" Ewell\",\"Lloyd LaBeach\",\"Jesse Owens\",\"Ralph Metcalfe\",\"Martinus Osendarp\",\"T. \\\"Eddie\\\" Tolan\",\"Ralph Metcalfe\",\"Arthur Jonath\",\"Percy Williams\",\"John \\\"Jack\\\" London\",\"Georg Lammers\",\"Harold Abrahams\",\"Jackson Scholz\",\"Arthur Porritt\",\"Charles Paddock\",\"Morris Kirksey\",\"Harry Edward\",\"Ralph Craig\",\"Alvah Meyer\",\"Donald Lippincott\",\"Reginald Walker\",\"James Rector\",\"Robert Kerr\",\"Charles \\\"Archie\\\" Hahn\",\"Fay Moulton\",\"Nigel Barker\",\"Charles \\\"Archie\\\" Hahn\",\"Nathaniel Cartmell\",\"Bill Hogenson\",\"Frank Jarvis\",\"J. Walter Tewksbury\",\"Stanley Rowley\",\"Thomas Burke\",\"Fritz Hofmann\",\"Alojz Sokol\",\"Francis Lane\"],\"Time\":{\"__ndarray__\":\"w/UoXI9CI0AAAAAAAIAjQBSuR+F6lCNA4XoUrkdhI0BI4XoUrscjQFK4HoXr0SNAMzMzMzOzI0C4HoXrUbgjQD0K16NwvSNAPQrXo3C9I0B7FK5H4fojQBSuR+F6FCRArkfhehSuI0BI4XoUrscjQM3MzMzMzCNA7FG4HoXrI0AK16NwPQokQBSuR+F6FCRA16NwPQrXI0BxPQrXo/AjQHsUrkfh+iNAexSuR+H6I0DhehSuR2EkQHE9CtejcCRAAAAAAACAJEAAAAAAAIAkQEjhehSuxyRAH4XrUbgeJEApXI/C9SgkQEjhehSuRyRASOF6FK5HJEB7FK5H4XokQClcj8L1qCRAZmZmZmbmI0AUrkfhehQkQKRwPQrXIyRAAAAAAAAAJEBmZmZmZmYkQGZmZmZmZiRAZmZmZmZmJEBmZmZmZmYkQJqZmZmZmSRAAAAAAAAAJUAAAAAAAAAlQDMzMzMzMyVAzczMzMzMJEDNzMzMzMwkQM3MzMzMzCRAmpmZmZmZJEDNzMzMzMwkQM3MzMzMzCRAmpmZmZmZJEDNzMzMzMwkQAAAAAAAACVAmpmZmZmZJECamZmZmZkkQM3MzMzMzCRAmpmZmZmZJUDNzMzMzMwlQM3MzMzMzCVAMzMzMzMzJUCamZmZmZklQM3MzMzMzCVAmpmZmZmZJUDNzMzMzMwlQM3MzMzMzCVAmpmZmZmZJUDNzMzMzMwlQM3MzMzMzCVAmpmZmZmZJUAAAAAAAAAmQAAAAAAAACZAZmZmZmZmJkCamZmZmZkmQJqZmZmZmSZAAAAAAAAAJkBmZmZmZmYmQGZmZmZmZiZAAAAAAAAAJkAzMzMzMzMmQGZmZmZmZiZAAAAAAAAAKEBmZmZmZmYoQDMzMzMzMylAMzMzMzMzKUA=\",\"dtype\":\"float64\",\"shape\":[85]},\"Year\":[2012,2012,2012,2008,2008,2008,2004,2004,2004,2000,2000,2000,1996,1996,1996,1992,1992,1992,1988,1988,1988,1984,1984,1984,1980,1980,1980,1976,1976,1976,1972,1972,1972,1968,1968,1968,1964,1964,1964,1960,1960,1960,1956,1956,1956,1952,1952,1952,1948,1948,1948,1936,1936,1936,1932,1932,1932,1928,1928,1928,1924,1924,1924,1920,1920,1920,1912,1912,1912,1908,1908,1908,1906,1906,1906,1904,1904,1904,1900,1900,1900,1896,1896,1896,1896],\"color\":[\"goldenrod\",\"silver\",\"saddlebrown\",\"goldenrod\",\"silver\",\"saddlebrown\",\"goldenrod\",\"silver\",\"saddlebrown\",\"goldenrod\",\"silver\",\"saddlebrown\",\"goldenrod\",\"silver\",\"saddlebrown\",\"goldenrod\",\"silver\",\"saddlebrown\",\"goldenrod\",\"silver\",\"saddlebrown\",\"goldenrod\",\"silver\",\"saddlebrown\",\"goldenrod\",\"silver\",\"saddlebrown\",\"goldenrod\",\"silver\",\"saddlebrown\",\"goldenrod\",\"silver\",\"saddlebrown\",\"goldenrod\",\"silver\",\"saddlebrown\",\"goldenrod\",\"silver\",\"saddlebrown\",\"goldenrod\",\"silver\",\"saddlebrown\",\"goldenrod\",\"silver\",\"saddlebrown\",\"goldenrod\",\"silver\",\"saddlebrown\",\"goldenrod\",\"silver\",\"saddlebrown\",\"goldenrod\",\"silver\",\"saddlebrown\",\"goldenrod\",\"silver\",\"saddlebrown\",\"goldenrod\",\"silver\",\"saddlebrown\",\"goldenrod\",\"silver\",\"saddlebrown\",\"goldenrod\",\"silver\",\"saddlebrown\",\"goldenrod\",\"silver\",\"saddlebrown\",\"goldenrod\",\"silver\",\"saddlebrown\",\"goldenrod\",\"silver\",\"saddlebrown\",\"goldenrod\",\"silver\",\"saddlebrown\",\"goldenrod\",\"silver\",\"saddlebrown\",\"goldenrod\",\"silver\",\"saddlebrown\",\"saddlebrown\"],\"index\":[0,1,2,3,4,5,6,7,8,9,10,11,12,13,14,15,16,17,18,19,20,21,22,23,24,25,26,27,28,29,30,31,32,33,34,35,36,37,38,39,40,41,42,43,44,45,46,47,48,49,50,51,52,53,54,55,56,57,58,59,60,61,62,63,64,65,66,67,68,69,70,71,72,73,74,75,76,77,78,79,80,81,82,83,84]},\"selected\":{\"id\":\"c28cdba3-1791-4c74-a7f8-2b55aada8535\",\"type\":\"Selection\"},\"selection_policy\":{\"id\":\"df0d5e33-62f1-4c03-a627-7800493267a5\",\"type\":\"UnionRenderers\"}},\"id\":\"d1a648a1-817d-4db5-a298-25b0e841f3df\",\"type\":\"ColumnDataSource\"},{\"attributes\":{\"source\":{\"id\":\"d1a648a1-817d-4db5-a298-25b0e841f3df\",\"type\":\"ColumnDataSource\"}},\"id\":\"7f7e09cd-769f-4dfe-a7de-e83db53f0d6e\",\"type\":\"CDSView\"},{\"attributes\":{\"below\":[{\"id\":\"75e9008e-0b50-4d49-88c7-f1a34a5becf3\",\"type\":\"LinearAxis\"}],\"left\":[{\"id\":\"b3b0dc92-efff-43d6-9a70-596bae2edb12\",\"type\":\"LinearAxis\"}],\"renderers\":[{\"id\":\"75e9008e-0b50-4d49-88c7-f1a34a5becf3\",\"type\":\"LinearAxis\"},{\"id\":\"1b15dd1c-3096-411c-8f2f-491812fc97bb\",\"type\":\"Grid\"},{\"id\":\"b3b0dc92-efff-43d6-9a70-596bae2edb12\",\"type\":\"LinearAxis\"},{\"id\":\"2328cf7c-35b9-4cb5-930e-5f4c54e9ef50\",\"type\":\"Grid\"},{\"id\":\"1ac46bd4-423e-42bd-b3d6-a0b5a3cfc5fb\",\"type\":\"BoxAnnotation\"},{\"id\":\"848392f1-73c2-498b-8ca9-ce0f18cea436\",\"type\":\"GlyphRenderer\"}],\"title\":{\"id\":\"2e0f12c9-0350-47a0-806e-62b389ac2295\",\"type\":\"Title\"},\"toolbar\":{\"id\":\"ca785ce1-66ab-4594-8c35-4eabd6b9b2c4\",\"type\":\"Toolbar\"},\"x_range\":{\"id\":\"1090b672-7199-4864-8bf0-b353fbed83f9\",\"type\":\"DataRange1d\"},\"x_scale\":{\"id\":\"7fc0f6f4-156e-400d-9e2b-c83264fa7b9b\",\"type\":\"LinearScale\"},\"y_range\":{\"id\":\"dec65dea-874e-477b-8937-a65c87638a2f\",\"type\":\"DataRange1d\"},\"y_scale\":{\"id\":\"b3abe362-0f2f-4861-aa39-d99e4a91d214\",\"type\":\"LinearScale\"}},\"id\":\"fd5d6625-a8d6-4678-b84e-2977abeb3784\",\"subtype\":\"Figure\",\"type\":\"Plot\"},{\"attributes\":{\"fill_alpha\":{\"value\":0.1},\"fill_color\":{\"value\":\"#1f77b4\"},\"line_alpha\":{\"value\":0.1},\"line_color\":{\"value\":\"#1f77b4\"},\"size\":{\"units\":\"screen\",\"value\":8},\"x\":{\"field\":\"Year\"},\"y\":{\"field\":\"Time\"}},\"id\":\"b049069f-2bd1-40e5-8386-f86ed65c0bb4\",\"type\":\"Circle\"},{\"attributes\":{\"callback\":null},\"id\":\"1090b672-7199-4864-8bf0-b353fbed83f9\",\"type\":\"DataRange1d\"},{\"attributes\":{},\"id\":\"7d3febf7-a11e-48f0-8416-5e1dad0957d9\",\"type\":\"PanTool\"},{\"attributes\":{\"active_drag\":\"auto\",\"active_inspect\":\"auto\",\"active_multi\":null,\"active_scroll\":\"auto\",\"active_tap\":\"auto\",\"tools\":[{\"id\":\"7d3febf7-a11e-48f0-8416-5e1dad0957d9\",\"type\":\"PanTool\"},{\"id\":\"802a2101-f0e5-4b70-8bb7-353d31626bbf\",\"type\":\"WheelZoomTool\"},{\"id\":\"e802426a-8a69-46f4-80cf-fb750ca3ddd1\",\"type\":\"BoxZoomTool\"},{\"id\":\"fc8b268b-bd4e-403c-8273-bdf390742f4f\",\"type\":\"SaveTool\"},{\"id\":\"dd66974f-3cf0-4ea4-b884-4012dea63881\",\"type\":\"ResetTool\"},{\"id\":\"18247b0b-23e5-4c23-a156-8488d89632da\",\"type\":\"HelpTool\"}]},\"id\":\"ca785ce1-66ab-4594-8c35-4eabd6b9b2c4\",\"type\":\"Toolbar\"},{\"attributes\":{},\"id\":\"b3abe362-0f2f-4861-aa39-d99e4a91d214\",\"type\":\"LinearScale\"},{\"attributes\":{},\"id\":\"df0d5e33-62f1-4c03-a627-7800493267a5\",\"type\":\"UnionRenderers\"},{\"attributes\":{},\"id\":\"802a2101-f0e5-4b70-8bb7-353d31626bbf\",\"type\":\"WheelZoomTool\"},{\"attributes\":{\"overlay\":{\"id\":\"1ac46bd4-423e-42bd-b3d6-a0b5a3cfc5fb\",\"type\":\"BoxAnnotation\"}},\"id\":\"e802426a-8a69-46f4-80cf-fb750ca3ddd1\",\"type\":\"BoxZoomTool\"},{\"attributes\":{},\"id\":\"fc8b268b-bd4e-403c-8273-bdf390742f4f\",\"type\":\"SaveTool\"},{\"attributes\":{\"plot\":null,\"text\":\"\"},\"id\":\"2e0f12c9-0350-47a0-806e-62b389ac2295\",\"type\":\"Title\"}],\"root_ids\":[\"fd5d6625-a8d6-4678-b84e-2977abeb3784\"]},\"title\":\"Bokeh Application\",\"version\":\"0.13.0\"}};\n",
       "  var render_items = [{\"docid\":\"8995a347-b685-435c-a720-c0a5a356f82d\",\"roots\":{\"fd5d6625-a8d6-4678-b84e-2977abeb3784\":\"f09d0593-f041-4231-b2a3-59c93bf0caeb\"}}];\n",
       "  root.Bokeh.embed.embed_items_notebook(docs_json, render_items);\n",
       "\n",
       "  }\n",
       "  if (root.Bokeh !== undefined) {\n",
       "    embed_document(root);\n",
       "  } else {\n",
       "    var attempts = 0;\n",
       "    var timer = setInterval(function(root) {\n",
       "      if (root.Bokeh !== undefined) {\n",
       "        embed_document(root);\n",
       "        clearInterval(timer);\n",
       "      }\n",
       "      attempts++;\n",
       "      if (attempts > 100) {\n",
       "        console.log(\"Bokeh: ERROR: Unable to run BokehJS code because BokehJS library is missing\")\n",
       "        clearInterval(timer);\n",
       "      }\n",
       "    }, 10, root)\n",
       "  }\n",
       "})(window);"
      ],
      "application/vnd.bokehjs_exec.v0+json": ""
     },
     "metadata": {
      "application/vnd.bokehjs_exec.v0+json": {
       "id": "fd5d6625-a8d6-4678-b84e-2977abeb3784"
      }
     },
     "output_type": "display_data"
    }
   ],
   "source": [
    "# Import the ColumnDataSource class from bokeh.plotting\n",
    "from bokeh.plotting import ColumnDataSource\n",
    "\n",
    "# Create a ColumnDataSource: source\n",
    "source = ColumnDataSource(df2)\n",
    "\n",
    "p=figure(x_axis_label='Year', y_axis_label='Time')\n",
    "# Add circle glyphs to the figure p\n",
    "p.circle(x='Year', y='Time', color='color', size=8, source=source)\n",
    "\n",
    "# Specify the name of the output file and show the result\n",
    "output_file('sprint.html')\n",
    "show(p)\n"
   ]
  },
  {
   "cell_type": "markdown",
   "metadata": {},
   "source": [
    "## Selection and non-selection glyphs"
   ]
  },
  {
   "cell_type": "markdown",
   "metadata": {},
   "source": [
    "In this exercise, you're going to add the box_select tool to a figure and change the selected and non-selected circle glyph properties so that selected glyphs are red and non-selected glyphs are transparent blue.\n",
    "\n",
    "You'll use the ColumnDataSource object of the Olympic Sprint dataset you made in the last exercise. It is provided to you with the name source.\n",
    "\n",
    "After you have created the figure, be sure to experiment with the Box Select tool you added! As in previous exercises, you may have to scroll down to view the lower portion of the figure."
   ]
  },
  {
   "cell_type": "code",
   "execution_count": 10,
   "metadata": {
    "scrolled": false
   },
   "outputs": [
    {
     "data": {
      "text/html": [
       "\n",
       "\n",
       "\n",
       "\n",
       "\n",
       "\n",
       "  <div class=\"bk-root\" id=\"5753b78c-2f3e-4ab4-83f1-7782fe44cdbd\"></div>\n"
      ]
     },
     "metadata": {},
     "output_type": "display_data"
    },
    {
     "data": {
      "application/javascript": [
       "(function(root) {\n",
       "  function embed_document(root) {\n",
       "    \n",
       "  var docs_json = {\"5c5c6ad1-d8af-445d-bf26-eee6174b7d3a\":{\"roots\":{\"references\":[{\"attributes\":{\"fill_alpha\":{\"value\":0.1},\"fill_color\":{\"value\":\"#1f77b4\"},\"line_alpha\":{\"value\":0.1},\"line_color\":{\"value\":\"#1f77b4\"},\"x\":{\"field\":\"Year\"},\"y\":{\"field\":\"Time\"}},\"id\":\"22e74895-41c7-4d0e-b969-03e8fff00e95\",\"type\":\"Circle\"},{\"attributes\":{\"data_source\":{\"id\":\"d1a648a1-817d-4db5-a298-25b0e841f3df\",\"type\":\"ColumnDataSource\"},\"glyph\":{\"id\":\"523f2012-e5ba-4f17-b449-1dffa8052d4c\",\"type\":\"Circle\"},\"hover_glyph\":null,\"muted_glyph\":null,\"nonselection_glyph\":{\"id\":\"22e74895-41c7-4d0e-b969-03e8fff00e95\",\"type\":\"Circle\"},\"selection_glyph\":{\"id\":\"0baecf04-91a5-44f6-b302-bf029c4ac705\",\"type\":\"Circle\"},\"view\":{\"id\":\"a9f24428-ca68-4225-a8a0-35100d5064de\",\"type\":\"CDSView\"}},\"id\":\"3ff6f235-c40c-478e-8974-1cf9b5175efe\",\"type\":\"GlyphRenderer\"},{\"attributes\":{\"fill_color\":{\"value\":\"red\"},\"line_color\":{\"value\":\"red\"},\"x\":{\"field\":\"Year\"},\"y\":{\"field\":\"Time\"}},\"id\":\"0baecf04-91a5-44f6-b302-bf029c4ac705\",\"type\":\"Circle\"},{\"attributes\":{\"fill_color\":{\"value\":\"#1f77b4\"},\"line_color\":{\"value\":\"#1f77b4\"},\"x\":{\"field\":\"Year\"},\"y\":{\"field\":\"Time\"}},\"id\":\"523f2012-e5ba-4f17-b449-1dffa8052d4c\",\"type\":\"Circle\"},{\"attributes\":{\"source\":{\"id\":\"d1a648a1-817d-4db5-a298-25b0e841f3df\",\"type\":\"ColumnDataSource\"}},\"id\":\"a9f24428-ca68-4225-a8a0-35100d5064de\",\"type\":\"CDSView\"},{\"attributes\":{\"axis_label\":\"Year\",\"formatter\":{\"id\":\"aeb3e77e-f819-48d2-a63a-ab2e667b6ed6\",\"type\":\"BasicTickFormatter\"},\"plot\":{\"id\":\"5519809e-8d82-4bff-9222-2c8907c5c0a7\",\"subtype\":\"Figure\",\"type\":\"Plot\"},\"ticker\":{\"id\":\"304c0948-9873-4edb-a2e3-35cd25787f4c\",\"type\":\"BasicTicker\"}},\"id\":\"4437cb34-f69a-4a2e-9614-d088756a8c81\",\"type\":\"LinearAxis\"},{\"attributes\":{},\"id\":\"c28cdba3-1791-4c74-a7f8-2b55aada8535\",\"type\":\"Selection\"},{\"attributes\":{\"dimension\":1,\"plot\":{\"id\":\"5519809e-8d82-4bff-9222-2c8907c5c0a7\",\"subtype\":\"Figure\",\"type\":\"Plot\"},\"ticker\":{\"id\":\"26863c90-87ce-4f2e-919a-f94331fa22ea\",\"type\":\"BasicTicker\"}},\"id\":\"821d97e6-046c-492e-9b7d-eaba8e48caf8\",\"type\":\"Grid\"},{\"attributes\":{\"bottom_units\":\"screen\",\"fill_alpha\":{\"value\":0.5},\"fill_color\":{\"value\":\"lightgrey\"},\"left_units\":\"screen\",\"level\":\"overlay\",\"line_alpha\":{\"value\":1.0},\"line_color\":{\"value\":\"black\"},\"line_dash\":[4,4],\"line_width\":{\"value\":2},\"plot\":null,\"render_mode\":\"css\",\"right_units\":\"screen\",\"top_units\":\"screen\"},\"id\":\"ede56154-ea35-4b44-b1d6-86f1722e2d7f\",\"type\":\"BoxAnnotation\"},{\"attributes\":{\"callback\":null,\"data\":{\"Country\":[\"JAM\",\"JAM\",\"USA\",\"JAM\",\"TRI\",\"USA\",\"USA\",\"POR\",\"USA\",\"USA\",\"TRI\",\"BAR\",\"CAN\",\"NAM\",\"TRI\",\"GBR\",\"NAM\",\"USA\",\"USA\",\"GBR\",\"USA\",\"USA\",\"USA\",\"CAN\",\"GBR\",\"CUB\",\"BUL\",\"TRI\",\"JAM\",\"URS\",\"URS\",\"USA\",\"JAM\",\"USA\",\"JAM\",\"USA\",\"USA\",\"CUB\",\"CAN\",\"EUA\",\"USA\",\"GBR\",\"USA\",\"USA\",\"AUS\",\"USA\",\"JAM\",\"GBR\",\"USA\",\"USA\",\"PAN\",\"USA\",\"USA\",\"NED\",\"USA\",\"USA\",\"GER\",\"CAN\",\"GBR\",\"GER\",\"GBR\",\"USA\",\"NZL\",\"USA\",\"USA\",\"GBR\",\"USA\",\"USA\",\"USA\",\"RSA\",\"USA\",\"CAN\",\"USA\",\"USA\",\"AUS\",\"USA\",\"USA\",\"USA\",\"USA\",\"USA\",\"AUS\",\"USA\",\"GER\",\"HUN\",\"USA\"],\"Medal\":[\"GOLD\",\"SILVER\",\"BRONZE\",\"GOLD\",\"SILVER\",\"BRONZE\",\"GOLD\",\"SILVER\",\"BRONZE\",\"GOLD\",\"SILVER\",\"BRONZE\",\"GOLD\",\"SILVER\",\"BRONZE\",\"GOLD\",\"SILVER\",\"BRONZE\",\"GOLD\",\"SILVER\",\"BRONZE\",\"GOLD\",\"SILVER\",\"BRONZE\",\"GOLD\",\"SILVER\",\"BRONZE\",\"GOLD\",\"SILVER\",\"BRONZE\",\"GOLD\",\"SILVER\",\"BRONZE\",\"GOLD\",\"SILVER\",\"BRONZE\",\"GOLD\",\"SILVER\",\"BRONZE\",\"GOLD\",\"SILVER\",\"BRONZE\",\"GOLD\",\"SILVER\",\"BRONZE\",\"GOLD\",\"SILVER\",\"BRONZE\",\"GOLD\",\"SILVER\",\"BRONZE\",\"GOLD\",\"SILVER\",\"BRONZE\",\"GOLD\",\"SILVER\",\"BRONZE\",\"GOLD\",\"SILVER\",\"BRONZE\",\"GOLD\",\"SILVER\",\"BRONZE\",\"GOLD\",\"SILVER\",\"BRONZE\",\"GOLD\",\"SILVER\",\"BRONZE\",\"GOLD\",\"SILVER\",\"BRONZE\",\"GOLD\",\"SILVER\",\"BRONZE\",\"GOLD\",\"SILVER\",\"BRONZE\",\"GOLD\",\"SILVER\",\"BRONZE\",\"GOLD\",\"SILVER\",\"BRONZE\",\"BRONZE\"],\"Name\":[\"Usain Bolt\",\"Yohan Blake\",\"Justin Gatlin\",\"Usain Bolt\",\"Richard Thompson\",\"Walter Dix\",\"Justin Gatlin\",\"Francis Obikwelu\",\"Maurice Greene\",\"Maurice Greene\",\"Ato Boldon\",\"Obadele Thompson\",\"Donovan Bailey\",\"Frankie Fredericks\",\"Ato Boldon\",\"Linford Christie\",\"Frankie Fredericks\",\"Dennis Mitchell\",\"Carl Lewis\",\"Linford Christie\",\"Calvin Smith\",\"Carl Lewis\",\"Sam Graddy\",\"Ben Johnson\",\"Allan Wells\",\"Silvio Leonard Tartabull\",\"Petar Petrov\",\"Hasely Crawford\",\"Donald Quarrie\",\"Valery Borzov\",\"Valery Borzov\",\"Robert Taylor\",\"Lennox Miller\",\"Jim Hines\",\"Lennox Miller\",\"Charles Greene\",\"Bob Hayes\",\"Enrique Figuerola Camue\",\"Harry Jerome\",\"Armin Hary\",\"David Sime\",\"Peter Radford\",\"Bobby Joe Morrow\",\"W. Thane Baker\",\"Hector Hogan\",\"Lindy Remigino\",\"Herbert McKenley\",\"E. McDonald Bailey\",\"W. Harrison Dillard\",\"H. Norwood \\\"Barney\\\" Ewell\",\"Lloyd LaBeach\",\"Jesse Owens\",\"Ralph Metcalfe\",\"Martinus Osendarp\",\"T. \\\"Eddie\\\" Tolan\",\"Ralph Metcalfe\",\"Arthur Jonath\",\"Percy Williams\",\"John \\\"Jack\\\" London\",\"Georg Lammers\",\"Harold Abrahams\",\"Jackson Scholz\",\"Arthur Porritt\",\"Charles Paddock\",\"Morris Kirksey\",\"Harry Edward\",\"Ralph Craig\",\"Alvah Meyer\",\"Donald Lippincott\",\"Reginald Walker\",\"James Rector\",\"Robert Kerr\",\"Charles \\\"Archie\\\" Hahn\",\"Fay Moulton\",\"Nigel Barker\",\"Charles \\\"Archie\\\" Hahn\",\"Nathaniel Cartmell\",\"Bill Hogenson\",\"Frank Jarvis\",\"J. Walter Tewksbury\",\"Stanley Rowley\",\"Thomas Burke\",\"Fritz Hofmann\",\"Alojz Sokol\",\"Francis Lane\"],\"Time\":{\"__ndarray__\":\"w/UoXI9CI0AAAAAAAIAjQBSuR+F6lCNA4XoUrkdhI0BI4XoUrscjQFK4HoXr0SNAMzMzMzOzI0C4HoXrUbgjQD0K16NwvSNAPQrXo3C9I0B7FK5H4fojQBSuR+F6FCRArkfhehSuI0BI4XoUrscjQM3MzMzMzCNA7FG4HoXrI0AK16NwPQokQBSuR+F6FCRA16NwPQrXI0BxPQrXo/AjQHsUrkfh+iNAexSuR+H6I0DhehSuR2EkQHE9CtejcCRAAAAAAACAJEAAAAAAAIAkQEjhehSuxyRAH4XrUbgeJEApXI/C9SgkQEjhehSuRyRASOF6FK5HJEB7FK5H4XokQClcj8L1qCRAZmZmZmbmI0AUrkfhehQkQKRwPQrXIyRAAAAAAAAAJEBmZmZmZmYkQGZmZmZmZiRAZmZmZmZmJEBmZmZmZmYkQJqZmZmZmSRAAAAAAAAAJUAAAAAAAAAlQDMzMzMzMyVAzczMzMzMJEDNzMzMzMwkQM3MzMzMzCRAmpmZmZmZJEDNzMzMzMwkQM3MzMzMzCRAmpmZmZmZJEDNzMzMzMwkQAAAAAAAACVAmpmZmZmZJECamZmZmZkkQM3MzMzMzCRAmpmZmZmZJUDNzMzMzMwlQM3MzMzMzCVAMzMzMzMzJUCamZmZmZklQM3MzMzMzCVAmpmZmZmZJUDNzMzMzMwlQM3MzMzMzCVAmpmZmZmZJUDNzMzMzMwlQM3MzMzMzCVAmpmZmZmZJUAAAAAAAAAmQAAAAAAAACZAZmZmZmZmJkCamZmZmZkmQJqZmZmZmSZAAAAAAAAAJkBmZmZmZmYmQGZmZmZmZiZAAAAAAAAAJkAzMzMzMzMmQGZmZmZmZiZAAAAAAAAAKEBmZmZmZmYoQDMzMzMzMylAMzMzMzMzKUA=\",\"dtype\":\"float64\",\"shape\":[85]},\"Year\":[2012,2012,2012,2008,2008,2008,2004,2004,2004,2000,2000,2000,1996,1996,1996,1992,1992,1992,1988,1988,1988,1984,1984,1984,1980,1980,1980,1976,1976,1976,1972,1972,1972,1968,1968,1968,1964,1964,1964,1960,1960,1960,1956,1956,1956,1952,1952,1952,1948,1948,1948,1936,1936,1936,1932,1932,1932,1928,1928,1928,1924,1924,1924,1920,1920,1920,1912,1912,1912,1908,1908,1908,1906,1906,1906,1904,1904,1904,1900,1900,1900,1896,1896,1896,1896],\"color\":[\"goldenrod\",\"silver\",\"saddlebrown\",\"goldenrod\",\"silver\",\"saddlebrown\",\"goldenrod\",\"silver\",\"saddlebrown\",\"goldenrod\",\"silver\",\"saddlebrown\",\"goldenrod\",\"silver\",\"saddlebrown\",\"goldenrod\",\"silver\",\"saddlebrown\",\"goldenrod\",\"silver\",\"saddlebrown\",\"goldenrod\",\"silver\",\"saddlebrown\",\"goldenrod\",\"silver\",\"saddlebrown\",\"goldenrod\",\"silver\",\"saddlebrown\",\"goldenrod\",\"silver\",\"saddlebrown\",\"goldenrod\",\"silver\",\"saddlebrown\",\"goldenrod\",\"silver\",\"saddlebrown\",\"goldenrod\",\"silver\",\"saddlebrown\",\"goldenrod\",\"silver\",\"saddlebrown\",\"goldenrod\",\"silver\",\"saddlebrown\",\"goldenrod\",\"silver\",\"saddlebrown\",\"goldenrod\",\"silver\",\"saddlebrown\",\"goldenrod\",\"silver\",\"saddlebrown\",\"goldenrod\",\"silver\",\"saddlebrown\",\"goldenrod\",\"silver\",\"saddlebrown\",\"goldenrod\",\"silver\",\"saddlebrown\",\"goldenrod\",\"silver\",\"saddlebrown\",\"goldenrod\",\"silver\",\"saddlebrown\",\"goldenrod\",\"silver\",\"saddlebrown\",\"goldenrod\",\"silver\",\"saddlebrown\",\"goldenrod\",\"silver\",\"saddlebrown\",\"goldenrod\",\"silver\",\"saddlebrown\",\"saddlebrown\"],\"index\":[0,1,2,3,4,5,6,7,8,9,10,11,12,13,14,15,16,17,18,19,20,21,22,23,24,25,26,27,28,29,30,31,32,33,34,35,36,37,38,39,40,41,42,43,44,45,46,47,48,49,50,51,52,53,54,55,56,57,58,59,60,61,62,63,64,65,66,67,68,69,70,71,72,73,74,75,76,77,78,79,80,81,82,83,84]},\"selected\":{\"id\":\"c28cdba3-1791-4c74-a7f8-2b55aada8535\",\"type\":\"Selection\"},\"selection_policy\":{\"id\":\"df0d5e33-62f1-4c03-a627-7800493267a5\",\"type\":\"UnionRenderers\"}},\"id\":\"d1a648a1-817d-4db5-a298-25b0e841f3df\",\"type\":\"ColumnDataSource\"},{\"attributes\":{},\"id\":\"3a474ec5-c3f0-49ef-811f-3f07c499dd23\",\"type\":\"LinearScale\"},{\"attributes\":{},\"id\":\"26863c90-87ce-4f2e-919a-f94331fa22ea\",\"type\":\"BasicTicker\"},{\"attributes\":{},\"id\":\"304c0948-9873-4edb-a2e3-35cd25787f4c\",\"type\":\"BasicTicker\"},{\"attributes\":{},\"id\":\"aeb3e77e-f819-48d2-a63a-ab2e667b6ed6\",\"type\":\"BasicTickFormatter\"},{\"attributes\":{\"active_drag\":\"auto\",\"active_inspect\":\"auto\",\"active_multi\":null,\"active_scroll\":\"auto\",\"active_tap\":\"auto\",\"tools\":[{\"id\":\"f702ed60-af7f-442b-b82a-8c498af0a3ea\",\"type\":\"BoxSelectTool\"},{\"id\":\"ad6e981b-92fc-44ae-9d0b-d9f6ee33901f\",\"type\":\"LassoSelectTool\"}]},\"id\":\"f0cf4c62-d27c-45a2-8af7-1d6183403995\",\"type\":\"Toolbar\"},{\"attributes\":{},\"id\":\"3e17ae52-8b82-4dcf-9ff5-a77c488bc80d\",\"type\":\"BasicTickFormatter\"},{\"attributes\":{\"plot\":{\"id\":\"5519809e-8d82-4bff-9222-2c8907c5c0a7\",\"subtype\":\"Figure\",\"type\":\"Plot\"},\"ticker\":{\"id\":\"304c0948-9873-4edb-a2e3-35cd25787f4c\",\"type\":\"BasicTicker\"}},\"id\":\"5a516dd7-6f18-4846-8aa7-255b5fe91468\",\"type\":\"Grid\"},{\"attributes\":{\"fill_alpha\":{\"value\":0.5},\"fill_color\":{\"value\":\"lightgrey\"},\"level\":\"overlay\",\"line_alpha\":{\"value\":1.0},\"line_color\":{\"value\":\"black\"},\"line_dash\":[4,4],\"line_width\":{\"value\":2},\"plot\":null,\"xs_units\":\"screen\",\"ys_units\":\"screen\"},\"id\":\"64b3a1ff-9ed4-4be6-8139-e65a7a71b1d1\",\"type\":\"PolyAnnotation\"},{\"attributes\":{\"plot\":null,\"text\":\"\"},\"id\":\"ef7a8cac-52b7-4fd2-a277-3d21327ee58d\",\"type\":\"Title\"},{\"attributes\":{\"callback\":null},\"id\":\"73ebf6e5-1a77-4731-a099-b20b1093661a\",\"type\":\"DataRange1d\"},{\"attributes\":{\"axis_label\":\"Time\",\"formatter\":{\"id\":\"3e17ae52-8b82-4dcf-9ff5-a77c488bc80d\",\"type\":\"BasicTickFormatter\"},\"plot\":{\"id\":\"5519809e-8d82-4bff-9222-2c8907c5c0a7\",\"subtype\":\"Figure\",\"type\":\"Plot\"},\"ticker\":{\"id\":\"26863c90-87ce-4f2e-919a-f94331fa22ea\",\"type\":\"BasicTicker\"}},\"id\":\"741cb47b-02dd-4292-86b3-52091073d468\",\"type\":\"LinearAxis\"},{\"attributes\":{},\"id\":\"df0d5e33-62f1-4c03-a627-7800493267a5\",\"type\":\"UnionRenderers\"},{\"attributes\":{\"below\":[{\"id\":\"4437cb34-f69a-4a2e-9614-d088756a8c81\",\"type\":\"LinearAxis\"}],\"left\":[{\"id\":\"741cb47b-02dd-4292-86b3-52091073d468\",\"type\":\"LinearAxis\"}],\"renderers\":[{\"id\":\"4437cb34-f69a-4a2e-9614-d088756a8c81\",\"type\":\"LinearAxis\"},{\"id\":\"5a516dd7-6f18-4846-8aa7-255b5fe91468\",\"type\":\"Grid\"},{\"id\":\"741cb47b-02dd-4292-86b3-52091073d468\",\"type\":\"LinearAxis\"},{\"id\":\"821d97e6-046c-492e-9b7d-eaba8e48caf8\",\"type\":\"Grid\"},{\"id\":\"ede56154-ea35-4b44-b1d6-86f1722e2d7f\",\"type\":\"BoxAnnotation\"},{\"id\":\"64b3a1ff-9ed4-4be6-8139-e65a7a71b1d1\",\"type\":\"PolyAnnotation\"},{\"id\":\"3ff6f235-c40c-478e-8974-1cf9b5175efe\",\"type\":\"GlyphRenderer\"}],\"title\":{\"id\":\"ef7a8cac-52b7-4fd2-a277-3d21327ee58d\",\"type\":\"Title\"},\"toolbar\":{\"id\":\"f0cf4c62-d27c-45a2-8af7-1d6183403995\",\"type\":\"Toolbar\"},\"x_range\":{\"id\":\"e7723118-7aab-429c-81e7-2fbdf97ccde5\",\"type\":\"DataRange1d\"},\"x_scale\":{\"id\":\"e676d978-5659-40dc-baba-fc31e02469e8\",\"type\":\"LinearScale\"},\"y_range\":{\"id\":\"73ebf6e5-1a77-4731-a099-b20b1093661a\",\"type\":\"DataRange1d\"},\"y_scale\":{\"id\":\"3a474ec5-c3f0-49ef-811f-3f07c499dd23\",\"type\":\"LinearScale\"}},\"id\":\"5519809e-8d82-4bff-9222-2c8907c5c0a7\",\"subtype\":\"Figure\",\"type\":\"Plot\"},{\"attributes\":{\"callback\":null},\"id\":\"e7723118-7aab-429c-81e7-2fbdf97ccde5\",\"type\":\"DataRange1d\"},{\"attributes\":{\"callback\":null,\"overlay\":{\"id\":\"64b3a1ff-9ed4-4be6-8139-e65a7a71b1d1\",\"type\":\"PolyAnnotation\"}},\"id\":\"ad6e981b-92fc-44ae-9d0b-d9f6ee33901f\",\"type\":\"LassoSelectTool\"},{\"attributes\":{\"callback\":null,\"overlay\":{\"id\":\"ede56154-ea35-4b44-b1d6-86f1722e2d7f\",\"type\":\"BoxAnnotation\"}},\"id\":\"f702ed60-af7f-442b-b82a-8c498af0a3ea\",\"type\":\"BoxSelectTool\"},{\"attributes\":{},\"id\":\"e676d978-5659-40dc-baba-fc31e02469e8\",\"type\":\"LinearScale\"}],\"root_ids\":[\"5519809e-8d82-4bff-9222-2c8907c5c0a7\"]},\"title\":\"Bokeh Application\",\"version\":\"0.13.0\"}};\n",
       "  var render_items = [{\"docid\":\"5c5c6ad1-d8af-445d-bf26-eee6174b7d3a\",\"roots\":{\"5519809e-8d82-4bff-9222-2c8907c5c0a7\":\"5753b78c-2f3e-4ab4-83f1-7782fe44cdbd\"}}];\n",
       "  root.Bokeh.embed.embed_items_notebook(docs_json, render_items);\n",
       "\n",
       "  }\n",
       "  if (root.Bokeh !== undefined) {\n",
       "    embed_document(root);\n",
       "  } else {\n",
       "    var attempts = 0;\n",
       "    var timer = setInterval(function(root) {\n",
       "      if (root.Bokeh !== undefined) {\n",
       "        embed_document(root);\n",
       "        clearInterval(timer);\n",
       "      }\n",
       "      attempts++;\n",
       "      if (attempts > 100) {\n",
       "        console.log(\"Bokeh: ERROR: Unable to run BokehJS code because BokehJS library is missing\")\n",
       "        clearInterval(timer);\n",
       "      }\n",
       "    }, 10, root)\n",
       "  }\n",
       "})(window);"
      ],
      "application/vnd.bokehjs_exec.v0+json": ""
     },
     "metadata": {
      "application/vnd.bokehjs_exec.v0+json": {
       "id": "5519809e-8d82-4bff-9222-2c8907c5c0a7"
      }
     },
     "output_type": "display_data"
    }
   ],
   "source": [
    "# Create a figure with the \"box_select\" tool: p\n",
    "p = figure(x_axis_label='Year', y_axis_label='Time', tools='box_select, lasso_select')\n",
    "\n",
    "# Add circle glyphs to the figure p with the selected and non-selected properties\n",
    "p.circle(x='Year', y='Time', selection_color='red', nonselection_alpha=0.1, source=source)\n",
    "\n",
    "# Specify the name of the output file and show the result\n",
    "output_file('selection_glyph.html')\n",
    "show(p)"
   ]
  },
  {
   "cell_type": "markdown",
   "metadata": {},
   "source": [
    "## Hover glyphs"
   ]
  },
  {
   "cell_type": "markdown",
   "metadata": {},
   "source": [
    "Now let's practice using and customizing the hover tool.\n",
    "\n",
    "In this exercise, you're going to plot the blood glucose levels for an unknown patient. The blood glucose levels were recorded every 5 minutes on October 7th starting at 3 minutes past midnight.\n",
    "\n",
    "The date and time of each measurement are provided to you as x and the blood glucose levels in mg/dL are provided as y.\n",
    "\n",
    "A bokeh figure is also provided in the workspace as p.\n",
    "\n",
    "Your job is to add a circle glyph that will appear red when the mouse is hovered near the data points. You will also add a customized hover tool object to the plot.\n",
    "\n",
    "When you're done, play around with the hover tool you just created! Notice how the points where your mouse hovers over turn red."
   ]
  },
  {
   "cell_type": "code",
   "execution_count": 15,
   "metadata": {
    "scrolled": true
   },
   "outputs": [
    {
     "name": "stdout",
     "output_type": "stream",
     "text": [
      "                      isig  glucose\n",
      "datetime                           \n",
      "2010-10-07 00:03:00  22.10      150\n",
      "2010-10-07 00:08:00  21.46      152\n",
      "2010-10-07 00:13:00  21.06      149\n",
      "2010-10-07 00:18:00  20.96      147\n",
      "2010-10-07 00:23:00  21.52      148\n"
     ]
    },
    {
     "data": {
      "text/plain": [
       "isig       float64\n",
       "glucose      int64\n",
       "dtype: object"
      ]
     },
     "execution_count": 15,
     "metadata": {},
     "output_type": "execute_result"
    }
   ],
   "source": [
    "df3 = pd.read_csv('glucose.csv', parse_dates=True, index_col='datetime')\n",
    "print(df3.head())\n",
    "df3.dtypes"
   ]
  },
  {
   "cell_type": "code",
   "execution_count": 21,
   "metadata": {
    "scrolled": false
   },
   "outputs": [
    {
     "data": {
      "text/html": [
       "\n",
       "\n",
       "\n",
       "\n",
       "\n",
       "\n",
       "  <div class=\"bk-root\" id=\"d949499f-cd66-4644-b5ac-38c168517c07\"></div>\n"
      ]
     },
     "metadata": {},
     "output_type": "display_data"
    },
    {
     "data": {
      "application/javascript": [
       "(function(root) {\n",
       "  function embed_document(root) {\n",
       "    \n",
       "  var docs_json = {\"20fb8822-2d09-4aa0-a991-b2394cd1908e\":{\"roots\":{\"references\":[{\"attributes\":{},\"id\":\"ccc7b449-cb88-4f53-bb8d-09ba2522385c\",\"type\":\"CrosshairTool\"},{\"attributes\":{\"plot\":{\"id\":\"80f5589d-e209-44c9-a407-add5a3489d8f\",\"subtype\":\"Figure\",\"type\":\"Plot\"},\"ticker\":{\"id\":\"4f91e2ae-9cc5-4b4a-a3ce-dc51c8be0fc4\",\"type\":\"DatetimeTicker\"}},\"id\":\"cb4f25b9-971c-4962-bf20-d2e6d690b57b\",\"type\":\"Grid\"},{\"attributes\":{},\"id\":\"e5f16f55-03f8-46d7-8dda-ec63d8d93efc\",\"type\":\"BasicTickFormatter\"},{\"attributes\":{\"fill_alpha\":{\"value\":0.1},\"fill_color\":{\"value\":\"#1f77b4\"},\"line_alpha\":{\"value\":0.1},\"line_color\":{\"value\":\"#1f77b4\"},\"size\":{\"units\":\"screen\",\"value\":10},\"x\":{\"field\":\"x\"},\"y\":{\"field\":\"y\"}},\"id\":\"ae3af2df-39a1-45c6-b1bc-a3c695aa2f86\",\"type\":\"Circle\"},{\"attributes\":{},\"id\":\"ca54ca3f-2456-4c86-8c3a-42374010294f\",\"type\":\"BasicTicker\"},{\"attributes\":{\"axis_label\":\"Time of Day\",\"formatter\":{\"id\":\"0c649cf8-c0eb-4bdf-a880-be62de31a5ef\",\"type\":\"DatetimeTickFormatter\"},\"plot\":{\"id\":\"80f5589d-e209-44c9-a407-add5a3489d8f\",\"subtype\":\"Figure\",\"type\":\"Plot\"},\"ticker\":{\"id\":\"4f91e2ae-9cc5-4b4a-a3ce-dc51c8be0fc4\",\"type\":\"DatetimeTicker\"}},\"id\":\"6588b63b-6d20-43e8-ba81-0c8818b358f4\",\"type\":\"DatetimeAxis\"},{\"attributes\":{\"fill_alpha\":{\"value\":0.5},\"fill_color\":{\"value\":\"firebrick\"},\"line_alpha\":{\"value\":0.5},\"line_color\":{\"value\":\"white\"},\"size\":{\"units\":\"screen\",\"value\":10},\"x\":{\"field\":\"x\"},\"y\":{\"field\":\"y\"}},\"id\":\"f3d3fc5f-2fb6-4b48-b9a3-add37bd39a88\",\"type\":\"Circle\"},{\"attributes\":{\"callback\":null},\"id\":\"8b839f21-a974-401e-b632-7bafbea13665\",\"type\":\"DataRange1d\"},{\"attributes\":{\"callback\":null,\"mode\":\"vline\",\"renderers\":\"auto\",\"tooltips\":null},\"id\":\"59d55be7-8cc2-499e-8797-32eb242e8d13\",\"type\":\"HoverTool\"},{\"attributes\":{\"days\":[1,4,7,10,13,16,19,22,25,28]},\"id\":\"a8a46e6f-1980-44ef-9b9d-986fe6c59a7a\",\"type\":\"DaysTicker\"},{\"attributes\":{},\"id\":\"830c7c50-45db-4d15-baee-58a041f545b6\",\"type\":\"Selection\"},{\"attributes\":{},\"id\":\"2983634f-a0f6-4caf-9c31-15ecb292bdf4\",\"type\":\"YearsTicker\"},{\"attributes\":{\"days\":[1,8,15,22]},\"id\":\"7e7647d3-76f5-4786-a357-40f10a6d615d\",\"type\":\"DaysTicker\"},{\"attributes\":{\"base\":24,\"mantissas\":[1,2,4,6,8,12],\"max_interval\":43200000.0,\"min_interval\":3600000.0,\"num_minor_ticks\":0},\"id\":\"4eeadcfd-b0ad-4c93-a1d5-6c397818b64f\",\"type\":\"AdaptiveTicker\"},{\"attributes\":{\"months\":[0,2,4,6,8,10]},\"id\":\"c395d6f2-916b-4576-b1d1-315653141d6a\",\"type\":\"MonthsTicker\"},{\"attributes\":{\"axis_label\":\"Blood Glucose\",\"formatter\":{\"id\":\"e5f16f55-03f8-46d7-8dda-ec63d8d93efc\",\"type\":\"BasicTickFormatter\"},\"plot\":{\"id\":\"80f5589d-e209-44c9-a407-add5a3489d8f\",\"subtype\":\"Figure\",\"type\":\"Plot\"},\"ticker\":{\"id\":\"ca54ca3f-2456-4c86-8c3a-42374010294f\",\"type\":\"BasicTicker\"}},\"id\":\"b74593f1-14fe-48f7-a374-e9f02491d5b5\",\"type\":\"LinearAxis\"},{\"attributes\":{\"num_minor_ticks\":5,\"tickers\":[{\"id\":\"c86443b0-79bb-40d8-9d66-b1d0c6206789\",\"type\":\"AdaptiveTicker\"},{\"id\":\"329b1892-fb9f-4ccc-ae56-b9c8790c525f\",\"type\":\"AdaptiveTicker\"},{\"id\":\"4eeadcfd-b0ad-4c93-a1d5-6c397818b64f\",\"type\":\"AdaptiveTicker\"},{\"id\":\"dc31cc5a-5d9d-4236-b68d-390fc8687b03\",\"type\":\"DaysTicker\"},{\"id\":\"a8a46e6f-1980-44ef-9b9d-986fe6c59a7a\",\"type\":\"DaysTicker\"},{\"id\":\"7e7647d3-76f5-4786-a357-40f10a6d615d\",\"type\":\"DaysTicker\"},{\"id\":\"ff019b1b-db98-45e5-9ceb-ab12110e88e2\",\"type\":\"DaysTicker\"},{\"id\":\"5664a560-edc0-411c-a64e-1ea7606a7417\",\"type\":\"MonthsTicker\"},{\"id\":\"c395d6f2-916b-4576-b1d1-315653141d6a\",\"type\":\"MonthsTicker\"},{\"id\":\"a6ac80c9-04f3-4451-805c-8eb56ab9b0bc\",\"type\":\"MonthsTicker\"},{\"id\":\"e875bb09-2c7d-4fed-8578-f9f958aae858\",\"type\":\"MonthsTicker\"},{\"id\":\"2983634f-a0f6-4caf-9c31-15ecb292bdf4\",\"type\":\"YearsTicker\"}]},\"id\":\"4f91e2ae-9cc5-4b4a-a3ce-dc51c8be0fc4\",\"type\":\"DatetimeTicker\"},{\"attributes\":{\"mantissas\":[1,2,5],\"max_interval\":500.0,\"num_minor_ticks\":0},\"id\":\"c86443b0-79bb-40d8-9d66-b1d0c6206789\",\"type\":\"AdaptiveTicker\"},{\"attributes\":{},\"id\":\"05ad7af3-c6ae-4319-b0f6-ac9371daea93\",\"type\":\"LinearScale\"},{\"attributes\":{},\"id\":\"53a18f53-6906-4979-9d2c-9da466cc0552\",\"type\":\"UnionRenderers\"},{\"attributes\":{\"data_source\":{\"id\":\"a77b61fb-b843-4e59-9aa7-fb4c8b849259\",\"type\":\"ColumnDataSource\"},\"glyph\":{\"id\":\"ccb21995-d4b5-46e4-ac66-c04bc174dd7d\",\"type\":\"Circle\"},\"hover_glyph\":{\"id\":\"f3d3fc5f-2fb6-4b48-b9a3-add37bd39a88\",\"type\":\"Circle\"},\"muted_glyph\":null,\"nonselection_glyph\":{\"id\":\"ae3af2df-39a1-45c6-b1bc-a3c695aa2f86\",\"type\":\"Circle\"},\"selection_glyph\":null,\"view\":{\"id\":\"2eff5183-4ef9-4b7d-a5bc-e14d990951f9\",\"type\":\"CDSView\"}},\"id\":\"d30ff14c-93a1-4f0d-a61b-5bfc0e662d83\",\"type\":\"GlyphRenderer\"},{\"attributes\":{\"active_drag\":\"auto\",\"active_inspect\":\"auto\",\"active_multi\":null,\"active_scroll\":\"auto\",\"active_tap\":\"auto\",\"tools\":[{\"id\":\"59d55be7-8cc2-499e-8797-32eb242e8d13\",\"type\":\"HoverTool\"},{\"id\":\"ccc7b449-cb88-4f53-bb8d-09ba2522385c\",\"type\":\"CrosshairTool\"},{\"id\":\"00012242-e23d-4fd0-bb79-9f7222863920\",\"type\":\"HoverTool\"}]},\"id\":\"16745ace-568d-40f1-a7e8-3901e80cca7f\",\"type\":\"Toolbar\"},{\"attributes\":{\"callback\":null,\"mode\":\"vline\",\"renderers\":\"auto\",\"tooltips\":null},\"id\":\"00012242-e23d-4fd0-bb79-9f7222863920\",\"type\":\"HoverTool\"},{\"attributes\":{\"days\":[1,2,3,4,5,6,7,8,9,10,11,12,13,14,15,16,17,18,19,20,21,22,23,24,25,26,27,28,29,30,31]},\"id\":\"dc31cc5a-5d9d-4236-b68d-390fc8687b03\",\"type\":\"DaysTicker\"},{\"attributes\":{},\"id\":\"83a4c386-c99f-4f45-bf8f-d8168cd8edf9\",\"type\":\"LinearScale\"},{\"attributes\":{\"callback\":null},\"id\":\"3249f6c6-3c20-423c-b7a4-5ed3974ec3f7\",\"type\":\"DataRange1d\"},{\"attributes\":{\"plot\":null,\"text\":\"\"},\"id\":\"1a740756-300b-49fb-a1fc-584d2b3c7310\",\"type\":\"Title\"},{\"attributes\":{\"below\":[{\"id\":\"6588b63b-6d20-43e8-ba81-0c8818b358f4\",\"type\":\"DatetimeAxis\"}],\"left\":[{\"id\":\"b74593f1-14fe-48f7-a374-e9f02491d5b5\",\"type\":\"LinearAxis\"}],\"renderers\":[{\"id\":\"6588b63b-6d20-43e8-ba81-0c8818b358f4\",\"type\":\"DatetimeAxis\"},{\"id\":\"cb4f25b9-971c-4962-bf20-d2e6d690b57b\",\"type\":\"Grid\"},{\"id\":\"b74593f1-14fe-48f7-a374-e9f02491d5b5\",\"type\":\"LinearAxis\"},{\"id\":\"8314d4eb-a763-4b3a-a688-92117e94ad8a\",\"type\":\"Grid\"},{\"id\":\"d30ff14c-93a1-4f0d-a61b-5bfc0e662d83\",\"type\":\"GlyphRenderer\"}],\"title\":{\"id\":\"1a740756-300b-49fb-a1fc-584d2b3c7310\",\"type\":\"Title\"},\"toolbar\":{\"id\":\"16745ace-568d-40f1-a7e8-3901e80cca7f\",\"type\":\"Toolbar\"},\"x_range\":{\"id\":\"8b839f21-a974-401e-b632-7bafbea13665\",\"type\":\"DataRange1d\"},\"x_scale\":{\"id\":\"83a4c386-c99f-4f45-bf8f-d8168cd8edf9\",\"type\":\"LinearScale\"},\"y_range\":{\"id\":\"3249f6c6-3c20-423c-b7a4-5ed3974ec3f7\",\"type\":\"DataRange1d\"},\"y_scale\":{\"id\":\"05ad7af3-c6ae-4319-b0f6-ac9371daea93\",\"type\":\"LinearScale\"}},\"id\":\"80f5589d-e209-44c9-a407-add5a3489d8f\",\"subtype\":\"Figure\",\"type\":\"Plot\"},{\"attributes\":{\"dimension\":1,\"plot\":{\"id\":\"80f5589d-e209-44c9-a407-add5a3489d8f\",\"subtype\":\"Figure\",\"type\":\"Plot\"},\"ticker\":{\"id\":\"ca54ca3f-2456-4c86-8c3a-42374010294f\",\"type\":\"BasicTicker\"}},\"id\":\"8314d4eb-a763-4b3a-a688-92117e94ad8a\",\"type\":\"Grid\"},{\"attributes\":{\"source\":{\"id\":\"a77b61fb-b843-4e59-9aa7-fb4c8b849259\",\"type\":\"ColumnDataSource\"}},\"id\":\"2eff5183-4ef9-4b7d-a5bc-e14d990951f9\",\"type\":\"CDSView\"},{\"attributes\":{\"fill_alpha\":{\"value\":0.1},\"fill_color\":{\"value\":\"grey\"},\"line_alpha\":{\"value\":0.1},\"line_color\":{\"value\":null},\"size\":{\"units\":\"screen\",\"value\":10},\"x\":{\"field\":\"x\"},\"y\":{\"field\":\"y\"}},\"id\":\"ccb21995-d4b5-46e4-ac66-c04bc174dd7d\",\"type\":\"Circle\"},{\"attributes\":{\"callback\":null,\"data\":{\"x\":{\"__ndarray__\":\"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\",\"dtype\":\"float64\",\"shape\":[288]},\"y\":[150,152,149,147,148,150,152,152,152,151,151,150,149,147,146,143,140,138,136,137,138,140,138,135,132,130,129,129,129,130,130,129,128,128,128,129,129,128,127,126,125,125,125,125,124,124,121,120,120,123,124,123,122,120,115,113,114,114,115,116,115,112,111,111,109,108,107,107,110,113,114,115,115,115,114,113,113,116,119,120,121,121,122,123,124,125,126,126,126,126,126,127,127,125,122,118,115,111,112,115,117,120,124,127,131,137,143,148,153,159,166,172,178,184,191,199,206,212,217,223,229,232,233,235,237,240,241,243,246,247,246,243,240,234,229,225,221,217,216,215,215,215,212,208,203,199,196,194,190,185,180,177,163,158,152,149,153,163,174,182,188,192,195,197,201,204,205,203,199,195,189,184,176,169,162,150,138,128,119,110,100,90,80,73,68,64,63,63,66,68,70,71,72,74,80,94,116,141,164,183,198,210,220,228,233,237,241,247,252,256,260,259,258,256,251,245,238,234,227,221,215,208,207,207,203,201,201,199,179,176,171,163,152,137,119,98,77,61,50,45,47,59,71,86,99,109,116,117,115,111,107,102,96,91,90,94,97,97,95,92,87,84,84,83,84,86,86,86,84,82,82,81,81,82,84,87,89,91,92,94,93,93,94,96,100,101,99,97]},\"selected\":{\"id\":\"830c7c50-45db-4d15-baee-58a041f545b6\",\"type\":\"Selection\"},\"selection_policy\":{\"id\":\"53a18f53-6906-4979-9d2c-9da466cc0552\",\"type\":\"UnionRenderers\"}},\"id\":\"a77b61fb-b843-4e59-9aa7-fb4c8b849259\",\"type\":\"ColumnDataSource\"},{\"attributes\":{\"days\":[1,15]},\"id\":\"ff019b1b-db98-45e5-9ceb-ab12110e88e2\",\"type\":\"DaysTicker\"},{\"attributes\":{\"months\":[0,6]},\"id\":\"e875bb09-2c7d-4fed-8578-f9f958aae858\",\"type\":\"MonthsTicker\"},{\"attributes\":{\"months\":[0,4,8]},\"id\":\"a6ac80c9-04f3-4451-805c-8eb56ab9b0bc\",\"type\":\"MonthsTicker\"},{\"attributes\":{},\"id\":\"0c649cf8-c0eb-4bdf-a880-be62de31a5ef\",\"type\":\"DatetimeTickFormatter\"},{\"attributes\":{\"months\":[0,1,2,3,4,5,6,7,8,9,10,11]},\"id\":\"5664a560-edc0-411c-a64e-1ea7606a7417\",\"type\":\"MonthsTicker\"},{\"attributes\":{\"base\":60,\"mantissas\":[1,2,5,10,15,20,30],\"max_interval\":1800000.0,\"min_interval\":1000.0,\"num_minor_ticks\":0},\"id\":\"329b1892-fb9f-4ccc-ae56-b9c8790c525f\",\"type\":\"AdaptiveTicker\"}],\"root_ids\":[\"80f5589d-e209-44c9-a407-add5a3489d8f\"]},\"title\":\"Bokeh Application\",\"version\":\"0.13.0\"}};\n",
       "  var render_items = [{\"docid\":\"20fb8822-2d09-4aa0-a991-b2394cd1908e\",\"roots\":{\"80f5589d-e209-44c9-a407-add5a3489d8f\":\"d949499f-cd66-4644-b5ac-38c168517c07\"}}];\n",
       "  root.Bokeh.embed.embed_items_notebook(docs_json, render_items);\n",
       "\n",
       "  }\n",
       "  if (root.Bokeh !== undefined) {\n",
       "    embed_document(root);\n",
       "  } else {\n",
       "    var attempts = 0;\n",
       "    var timer = setInterval(function(root) {\n",
       "      if (root.Bokeh !== undefined) {\n",
       "        embed_document(root);\n",
       "        clearInterval(timer);\n",
       "      }\n",
       "      attempts++;\n",
       "      if (attempts > 100) {\n",
       "        console.log(\"Bokeh: ERROR: Unable to run BokehJS code because BokehJS library is missing\")\n",
       "        clearInterval(timer);\n",
       "      }\n",
       "    }, 10, root)\n",
       "  }\n",
       "})(window);"
      ],
      "application/vnd.bokehjs_exec.v0+json": ""
     },
     "metadata": {
      "application/vnd.bokehjs_exec.v0+json": {
       "id": "80f5589d-e209-44c9-a407-add5a3489d8f"
      }
     },
     "output_type": "display_data"
    }
   ],
   "source": [
    "# import the HoverTool\n",
    "from bokeh.models import HoverTool\n",
    "\n",
    "\n",
    "hover = HoverTool(tooltips=None, mode='vline')\n",
    "\n",
    "p2 = figure(x_axis_type='datetime', x_axis_label='Time of Day', y_axis_label='Blood Glucose', tools=[hover, 'crosshair'])\n",
    "\n",
    "# Add circle glyphs to figure p\n",
    "p2.circle(df3.index, df3.glucose, size=10, \n",
    "         fill_color='grey', alpha=0.1, line_color=None,\n",
    "         hover_fill_color='firebrick', hover_alpha=0.5,\n",
    "         hover_line_color='white')\n",
    "\n",
    "# Create a HoverTool: hover\n",
    "hover = HoverTool(tooltips=None, mode='vline')\n",
    "\n",
    "# Add the hover tool to the figure p\n",
    "p2.add_tools(hover)\n",
    "\n",
    "# Specify the name of the output file and show the result\n",
    "output_file('hover_glyph.html')\n",
    "show(p2)"
   ]
  },
  {
   "cell_type": "markdown",
   "metadata": {},
   "source": []
  },
  {
   "cell_type": "markdown",
   "metadata": {},
   "source": []
  },
  {
   "cell_type": "markdown",
   "metadata": {},
   "source": [
    "## Colormapping"
   ]
  },
  {
   "cell_type": "markdown",
   "metadata": {},
   "source": [
    "The final glyph customization we'll practice is using the CategoricalColorMapper to color each glyph by a categorical property.\n",
    "\n",
    "Here, you're going to use the automobile dataset to plot miles-per-gallon vs weight and color each circle glyph by the region where the automobile was manufactured.\n",
    "\n",
    "The origin column will be used in the ColorMapper to color automobiles manufactured in the US as blue, Europe as red and Asia as green.\n",
    "\n",
    "The automobile data set is provided to you as a Pandas DataFrame called df. The figure is provided for you as p."
   ]
  },
  {
   "cell_type": "code",
   "execution_count": 23,
   "metadata": {
    "scrolled": false
   },
   "outputs": [
    {
     "data": {
      "text/html": [
       "\n",
       "\n",
       "\n",
       "\n",
       "\n",
       "\n",
       "  <div class=\"bk-root\" id=\"3d1c5d59-5ff8-40bf-85e1-c634af24f706\"></div>\n"
      ]
     },
     "metadata": {},
     "output_type": "display_data"
    },
    {
     "data": {
      "application/javascript": [
       "(function(root) {\n",
       "  function embed_document(root) {\n",
       "    \n",
       "  var docs_json = {\"924b3af0-4f5d-4b49-ac67-ef87d59658e8\":{\"roots\":{\"references\":[{\"attributes\":{\"fill_alpha\":{\"value\":0.1},\"fill_color\":{\"value\":\"#1f77b4\"},\"line_alpha\":{\"value\":0.1},\"line_color\":{\"value\":\"#1f77b4\"},\"x\":{\"field\":\"weight\"},\"y\":{\"field\":\"mpg\"}},\"id\":\"727fdd40-85dc-48a8-812a-c72722255ce0\",\"type\":\"Circle\"},{\"attributes\":{\"bottom_units\":\"screen\",\"fill_alpha\":{\"value\":0.5},\"fill_color\":{\"value\":\"lightgrey\"},\"left_units\":\"screen\",\"level\":\"overlay\",\"line_alpha\":{\"value\":1.0},\"line_color\":{\"value\":\"black\"},\"line_dash\":[4,4],\"line_width\":{\"value\":2},\"plot\":null,\"render_mode\":\"css\",\"right_units\":\"screen\",\"top_units\":\"screen\"},\"id\":\"41838000-ed5e-4bef-bc08-300bbe9b788f\",\"type\":\"BoxAnnotation\"},{\"attributes\":{},\"id\":\"3e975bcb-343d-442a-ac90-1974816df436\",\"type\":\"BasicTicker\"},{\"attributes\":{},\"id\":\"d9cad7a6-e8a6-4d87-bac3-e7ee3e9efadf\",\"type\":\"LinearScale\"},{\"attributes\":{\"source\":{\"id\":\"441a0da8-655e-4338-af0b-459185048580\",\"type\":\"ColumnDataSource\"}},\"id\":\"b80cdbff-9f33-4a0d-84d5-98e0f66b94e3\",\"type\":\"CDSView\"},{\"attributes\":{\"dimension\":1,\"plot\":{\"id\":\"68ad5825-ee2e-499e-988c-949c825ddd75\",\"subtype\":\"Figure\",\"type\":\"Plot\"},\"ticker\":{\"id\":\"3e975bcb-343d-442a-ac90-1974816df436\",\"type\":\"BasicTicker\"}},\"id\":\"3f57e139-48eb-43d8-824f-5dcf98afdd37\",\"type\":\"Grid\"},{\"attributes\":{},\"id\":\"bd9eabaa-3656-4152-a769-245557181861\",\"type\":\"HelpTool\"},{\"attributes\":{},\"id\":\"a97b33a7-c135-4156-8c3f-cc0e7c9bd226\",\"type\":\"WheelZoomTool\"},{\"attributes\":{},\"id\":\"658c199a-2b25-47d8-94a9-ca103a495c9d\",\"type\":\"Selection\"},{\"attributes\":{\"overlay\":{\"id\":\"41838000-ed5e-4bef-bc08-300bbe9b788f\",\"type\":\"BoxAnnotation\"}},\"id\":\"534436c2-fe4e-4fab-95d2-3f64da14dbb0\",\"type\":\"BoxZoomTool\"},{\"attributes\":{\"factors\":[\"Europe\",\"Asia\",\"US\"],\"palette\":[\"red\",\"green\",\"blue\"]},\"id\":\"d2849ee6-a04c-42fe-864d-c1c51ca8609d\",\"type\":\"CategoricalColorMapper\"},{\"attributes\":{\"callback\":null},\"id\":\"28dd677a-2d52-40f9-acaf-c797b0f05316\",\"type\":\"DataRange1d\"},{\"attributes\":{\"callback\":null,\"data\":{\"accel\":{\"__ndarray__\":\"AAAAAAAALUAAAAAAAIAyQGZmZmZmZjBAAAAAAAAAM0CamZmZmZkvQJqZmZmZmS1AZmZmZmZmLkAAAAAAAAAyQM3MzMzMzC1AAAAAAAAAJUCamZmZmZk4QAAAAAAAADBAMzMzMzMzJ0AAAAAAAAArQAAAAAAAACNAAAAAAAAALECamZmZmZkyQGZmZmZmZjNAAAAAAAAANUAAAAAAAAArQAAAAAAAADBAAAAAAAAANUAAAAAAAAAsQAAAAAAAACRAAAAAAACAMkAAAAAAAAAvQM3MzMzMzCtAAAAAAAAALkAAAAAAAAAuQAAAAAAAgDFAzczMzMzMJkAAAAAAAAApQAAAAAAAADFAmpmZmZmZMEAAAAAAAAAvQAAAAAAAAC9AAAAAAAAAMEBmZmZmZmYmQM3MzMzMTDFAMzMzMzMzNkCamZmZmRkwQAAAAAAAACpAZmZmZmZmKkAzMzMzMzMmQDMzMzMzszRAAAAAAAAAM0BmZmZmZmYtQAAAAAAAACtAAAAAAAAAL0AAAAAAAAAxQAAAAAAAACdAzczMzMzMKkAAAAAAAAAsQAAAAAAAADBAAAAAAACAMEAAAAAAAAAtQAAAAAAAADBAMzMzMzOzMEBmZmZmZmYtQAAAAAAAAC5AAAAAAAAAM0AAAAAAAAAvQAAAAAAAADFAAAAAAAAAMUDNzMzMzMwuQAAAAAAAgDRAAAAAAAAAKEAAAAAAAAAvQAAAAAAAACtAAAAAAAAALkBmZmZmZmYrQAAAAAAAADJAAAAAAAAALUAAAAAAAAAnQJqZmZmZmStAzczMzMzMLUCamZmZmZkxQM3MzMzMzClAAAAAAAAAMEAAAAAAAAAsQJqZmZmZmTNAAAAAAAAAMEDNzMzMzMw4QM3MzMzMzC5AAAAAAAAAMEAAAAAAAAAsQAAAAAAAAC1AAAAAAAAAIUAzMzMzMzMwQAAAAAAAAChAmpmZmZkZNkAAAAAAAAAqQGZmZmZmZjBAAAAAAAAAL0AAAAAAAAAwQAAAAAAAAChAmpmZmZmZK0AzMzMzMzMyQAAAAAAAACtAMzMzMzOzMEBmZmZmZmYvQAAAAAAAACxAmpmZmZmZL0DNzMzMzMwsQAAAAAAAADFAAAAAAAAAL0AAAAAAAAA1QAAAAAAAADNAAAAAAAAAMUDNzMzMzMwvQAAAAAAAADNAAAAAAAAAJ0AAAAAAAIAzQAAAAAAAAChAAAAAAAAALUAAAAAAAAAzQGZmZmZm5jBAmpmZmZmZKUAAAAAAAAAqQJqZmZmZmSlAmpmZmZmZLkAAAAAAAAAyQAAAAAAAAClAZmZmZmbmM0CamZmZmZktQAAAAAAAACxAAAAAAACANEAAAAAAAAAvQAAAAAAAgDNAMzMzMzOzMkAAAAAAAAAnQAAAAAAAADFAZmZmZmZmLEAAAAAAAAAqQAAAAAAAACpAZmZmZmZmMEAAAAAAAAAvQDMzMzMzszVAAAAAAAAAMEAAAAAAAAAvQDMzMzMzszdAmpmZmZmZL0AzMzMzMzMzQJqZmZmZGTJAAAAAAAAAMEBmZmZmZmYwQAAAAAAAAClAAAAAAAAAKUDNzMzMzMwsQGZmZmZmZjRAAAAAAAAAKEAzMzMzMzMoQM3MzMzMzC1AAAAAAAAALkAAAAAAAIAzQAAAAAAAgDBAZmZmZmZmKkDNzMzMzMwwQAAAAAAAAC1AAAAAAAAAK0CamZmZmZkxQAAAAAAAgDBAZmZmZmZmL0AAAAAAAIAzQAAAAAAAAC9AAAAAAACAMUBmZmZmZmYxQAAAAAAAAC9AmpmZmZmZLEDNzMzMzMwtQAAAAAAAAC1AAAAAAAAAMEAAAAAAAAAtQAAAAAAAACZAmpmZmZmZMkAAAAAAAAAsQAAAAAAAADFAAAAAAACAMUAAAAAAAAAqQAAAAAAAADJAAAAAAAAAMUAAAAAAAIAzQDMzMzMzMzJAAAAAAAAAK0AAAAAAAIAwQDMzMzMzszFAMzMzMzOzMEAzMzMzMzMuQGZmZmZm5jFAmpmZmZmZKUAAAAAAAAAiQGZmZmZmZi9AzczMzMzMJkAzMzMzMzMxQDMzMzMzMzZAAAAAAAAAJkCamZmZmZkvQDMzMzMzMzBAAAAAAAAALUCamZmZmRk0QAAAAAAAADFAAAAAAACAM0AzMzMzMzMpQGZmZmZm5jBAAAAAAAAALkAAAAAAAIAxQAAAAAAAAC5AAAAAAAAAIUDNzMzMzMwtQDMzMzMzMzFAZmZmZmZmL0BmZmZmZmYuQM3MzMzMzCxAMzMzMzOzMUAAAAAAAAAzQM3MzMzMzDJAAAAAAAAAL0AAAAAAAIAwQAAAAAAAAC1AAAAAAAAAL0BmZmZmZmYqQJqZmZmZmTNAAAAAAAAAJEAAAAAAAIAyQM3MzMzMzC1AAAAAAAAAJkAAAAAAAIAyQM3MzMzMTDJAMzMzMzOzMkAzMzMzMzMwQAAAAAAAADVAAAAAAAAAL0AzMzMzMzMuQJqZmZmZGTFAAAAAAAAAKEAzMzMzMzMwQAAAAAAAADBAAAAAAAAALEDNzMzMzMwwQAAAAAAAgDVAmpmZmZkZNEAzMzMzMzMzQAAAAAAAAChAAAAAAAAAL0AAAAAAAAAqQJqZmZmZmTBAAAAAAAAAKEBmZmZmZmYxQDMzMzMzMzNAAAAAAAAAKkAAAAAAAIAwQAAAAAAAADNAAAAAAAAAJkAAAAAAAAApQGZmZmZmZipAMzMzMzMzMkAAAAAAAAAmQGZmZmZm5jVAzczMzMzMMUAAAAAAAIAwQAAAAAAAACZAAAAAAAAAK0CamZmZmZkuQGZmZmZmZi5AAAAAAAAAKkDNzMzMzMw1QAAAAAAAACRAAAAAAAAAJkAAAAAAAAAsQAAAAAAAADJAAAAAAAAAJEDNzMzMzMwtQAAAAAAAACpAZmZmZmbmMEAAAAAAAAAwQJqZmZmZmS1AAAAAAACAMEAAAAAAAAAxQAAAAAAAACxAAAAAAAAALUBmZmZmZmYwQAAAAAAAACtAZmZmZmZmM0AAAAAAAAAzQAAAAAAAgDJAAAAAAACAMEAAAAAAAAAuQGZmZmZmZihAZmZmZmZmK0AAAAAAAAAuQAAAAAAAACtAAAAAAAAAL0AAAAAAAAAtQAAAAAAAACxAmpmZmZmZL0AAAAAAAAAtQAAAAAAAAC1AmpmZmZmZL0CamZmZmZkyQGZmZmZmZjBAAAAAAAAALUAAAAAAAAApQJqZmZmZmSZAAAAAAAAALUBmZmZmZmYqQDMzMzMzMyxAAAAAAAAAI0BmZmZmZmYtQGZmZmZmZi1AzczMzMzMLEAAAAAAAAAvQJqZmZmZmS5AzczMzMzMKkAAAAAAAAAnQAAAAAAAACBAZmZmZmZmKEDNzMzMzMwxQAAAAAAAAClAAAAAAAAALUDNzMzMzMwrQM3MzMzMzCxAMzMzMzMzMkAAAAAAAIAwQAAAAAAAADJAAAAAAAAAM0AAAAAAAAAwQAAAAAAAACtAAAAAAAAAMUAAAAAAAAAoQGZmZmZmZixAAAAAAACAN0AAAAAAAAAqQM3MzMzMzC5AAAAAAAAAJ0AAAAAAAAAsQAAAAAAAADFAAAAAAAAAMkAAAAAAAAAqQDMzMzMzMy9AmpmZmZmZMkAAAAAAAAAoQM3MzMzMzC9AZmZmZmZmMEBmZmZmZmYwQDMzMzMzMytAZmZmZmZmKkAAAAAAAAArQAAAAAAAAC9AAAAAAAAAJ0AAAAAAAAAuQAAAAAAAAC5AMzMzMzOzMUAzMzMzMzMrQAAAAAAAACxAAAAAAACAMEAAAAAAAAAtQAAAAAAAACtAAAAAAAAALEAAAAAAAAAtQJqZmZmZmTFAmpmZmZmZMUAAAAAAAAAtQAAAAAAAADVAzczMzMzMKUBmZmZmZmYsQAAAAAAAACtAMzMzMzMzKUAAAAAAAAAwQAAAAAAAAClAAAAAAAAAM0AAAAAAAAAtQM3MzMzMTDFAAAAAAAAALkAAAAAAAAAuQAAAAAAAAC1AAAAAAAAAMkBmZmZmZmYtQAAAAAAAAC9AMzMzMzMzMkAAAAAAAAAsQAAAAAAAAC5AAAAAAACAMEBmZmZmZuYwQM3MzMzMTDFAAAAAAAAALUAAAAAAAAArQGZmZmZmZjNAAAAAAACAMEDNzMzMzEwxQJqZmZmZmTBAZmZmZmZmMEDNzMzMzMwuQA==\",\"dtype\":\"float64\",\"shape\":[392]},\"color\":[\"blue\",\"blue\",\"red\",\"blue\",\"green\",\"red\",\"red\",\"green\",\"blue\",\"blue\",\"green\",\"blue\",\"blue\",\"blue\",\"blue\",\"blue\",\"green\",\"blue\",\"red\",\"red\",\"blue\",\"blue\",\"blue\",\"blue\",\"blue\",\"green\",\"red\",\"red\",\"blue\",\"red\",\"red\",\"blue\",\"blue\",\"blue\",\"green\",\"green\",\"blue\",\"blue\",\"blue\",\"blue\",\"red\",\"blue\",\"blue\",\"blue\",\"blue\",\"red\",\"red\",\"blue\",\"blue\",\"blue\",\"blue\",\"blue\",\"red\",\"blue\",\"green\",\"blue\",\"blue\",\"blue\",\"blue\",\"red\",\"red\",\"blue\",\"blue\",\"blue\",\"blue\",\"blue\",\"blue\",\"blue\",\"blue\",\"blue\",\"blue\",\"green\",\"blue\",\"blue\",\"red\",\"blue\",\"blue\",\"blue\",\"blue\",\"green\",\"green\",\"green\",\"green\",\"blue\",\"blue\",\"green\",\"blue\",\"blue\",\"red\",\"blue\",\"blue\",\"blue\",\"blue\",\"red\",\"red\",\"blue\",\"red\",\"blue\",\"blue\",\"blue\",\"green\",\"green\",\"blue\",\"blue\",\"green\",\"green\",\"blue\",\"blue\",\"red\",\"green\",\"green\",\"blue\",\"blue\",\"blue\",\"green\",\"blue\",\"red\",\"blue\",\"blue\",\"blue\",\"green\",\"red\",\"blue\",\"green\",\"blue\",\"green\",\"green\",\"blue\",\"blue\",\"blue\",\"blue\",\"blue\",\"green\",\"blue\",\"blue\",\"red\",\"blue\",\"green\",\"blue\",\"blue\",\"green\",\"blue\",\"blue\",\"blue\",\"blue\",\"red\",\"green\",\"blue\",\"blue\",\"green\",\"blue\",\"blue\",\"green\",\"red\",\"blue\",\"blue\",\"blue\",\"red\",\"red\",\"blue\",\"red\",\"blue\",\"blue\",\"green\",\"green\",\"green\",\"blue\",\"red\",\"blue\",\"red\",\"blue\",\"red\",\"blue\",\"blue\",\"blue\",\"blue\",\"blue\",\"green\",\"blue\",\"blue\",\"blue\",\"green\",\"blue\",\"green\",\"blue\",\"blue\",\"green\",\"blue\",\"red\",\"green\",\"blue\",\"green\",\"blue\",\"blue\",\"blue\",\"blue\",\"blue\",\"blue\",\"red\",\"blue\",\"blue\",\"green\",\"blue\",\"red\",\"red\",\"red\",\"blue\",\"blue\",\"blue\",\"blue\",\"red\",\"red\",\"red\",\"blue\",\"blue\",\"red\",\"red\",\"red\",\"blue\",\"blue\",\"blue\",\"blue\",\"blue\",\"red\",\"blue\",\"blue\",\"blue\",\"red\",\"blue\",\"blue\",\"blue\",\"blue\",\"green\",\"blue\",\"blue\",\"blue\",\"blue\",\"blue\",\"red\",\"green\",\"green\",\"red\",\"blue\",\"red\",\"blue\",\"blue\",\"blue\",\"red\",\"red\",\"blue\",\"blue\",\"red\",\"blue\",\"red\",\"blue\",\"red\",\"blue\",\"green\",\"red\",\"blue\",\"blue\",\"blue\",\"green\",\"blue\",\"blue\",\"green\",\"blue\",\"blue\",\"blue\",\"blue\",\"blue\",\"blue\",\"blue\",\"green\",\"blue\",\"red\",\"blue\",\"red\",\"green\",\"blue\",\"blue\",\"red\",\"red\",\"blue\",\"blue\",\"red\",\"green\",\"green\",\"blue\",\"blue\",\"red\",\"blue\",\"blue\",\"blue\",\"blue\",\"red\",\"blue\",\"green\",\"red\",\"red\",\"green\",\"blue\",\"blue\",\"green\",\"blue\",\"green\",\"blue\",\"blue\",\"green\",\"blue\",\"blue\",\"green\",\"blue\",\"blue\",\"blue\",\"blue\",\"blue\",\"blue\",\"green\",\"blue\",\"blue\",\"red\",\"blue\",\"red\",\"blue\",\"blue\",\"blue\",\"red\",\"blue\",\"red\",\"green\",\"blue\",\"blue\",\"blue\",\"blue\",\"red\",\"blue\",\"blue\",\"blue\",\"blue\",\"blue\",\"blue\",\"blue\",\"blue\",\"blue\",\"blue\",\"blue\",\"blue\",\"blue\",\"blue\",\"blue\",\"blue\",\"green\",\"green\",\"red\",\"green\",\"red\",\"blue\",\"red\",\"blue\",\"blue\",\"green\",\"green\",\"blue\",\"green\",\"blue\",\"red\",\"blue\",\"blue\",\"red\",\"red\",\"blue\",\"blue\",\"blue\",\"blue\",\"blue\",\"green\",\"green\",\"blue\",\"blue\",\"blue\",\"green\",\"blue\",\"red\",\"red\",\"red\",\"red\",\"blue\",\"blue\",\"red\",\"blue\",\"blue\"],\"cyl\":[6,8,4,6,4,4,4,4,8,8,4,4,4,8,8,8,4,4,4,3,6,6,8,8,4,4,4,4,6,4,6,8,4,6,4,4,8,8,4,4,4,4,8,8,4,4,4,8,4,6,8,8,4,4,4,4,6,6,6,4,4,6,6,4,6,4,8,8,8,4,8,4,8,8,6,4,6,6,6,4,6,4,4,6,4,4,8,8,4,8,4,8,6,4,4,8,4,6,6,4,4,4,4,4,4,4,6,8,4,5,4,8,4,8,4,8,4,8,8,8,4,4,8,5,4,4,4,6,4,6,8,4,4,8,8,4,6,4,6,4,4,6,6,4,6,4,4,8,4,4,8,8,4,4,6,6,4,4,4,8,4,4,4,4,4,4,8,6,8,4,6,4,8,8,4,8,4,4,8,4,6,4,6,4,4,4,6,6,4,4,8,4,8,6,8,8,6,4,4,4,6,4,6,4,4,4,6,8,4,6,4,4,4,6,6,4,4,4,8,6,8,4,8,4,4,8,6,4,6,6,6,6,4,6,8,4,4,8,4,4,5,4,8,4,8,6,8,4,4,8,6,4,8,3,8,4,8,4,4,6,8,8,4,8,6,4,8,8,8,6,8,8,8,4,6,4,4,4,4,8,4,3,4,4,4,4,4,4,8,6,4,8,4,6,6,4,6,6,4,4,4,8,6,4,4,4,8,4,4,4,6,4,6,8,8,8,6,8,4,8,4,4,4,4,6,8,8,4,8,4,4,8,8,8,4,4,4,8,4,4,8,4,4,4,4,8,8,4,8,4,8,6,6,4,4,4,3,8,6,4,6,4,4,4,4,8,6,6,8,4,4,4,8,8,4,6,4,4,6,8,6,4,6,4,4,6,4,6,4,4,6,4],\"displ\":{\"__ndarray__\":\"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\",\"dtype\":\"float64\",\"shape\":[392]},\"hp\":[88,193,60,98,78,100,75,76,130,140,52,88,84,148,150,130,58,82,65,110,95,110,140,170,78,90,96,95,110,75,132,150,83,85,86,75,140,139,70,52,60,84,138,180,65,67,97,150,70,100,180,129,95,90,83,75,100,85,112,67,65,88,100,75,100,70,145,110,210,80,145,69,150,198,120,92,90,115,95,75,76,67,71,115,84,91,150,215,67,175,60,175,110,95,68,150,67,95,110,105,102,110,89,66,88,75,78,105,70,103,60,150,72,170,90,110,58,152,145,139,83,69,150,67,80,71,46,105,90,110,175,80,74,150,150,65,100,48,105,90,48,105,105,88,100,75,113,190,92,80,165,180,71,97,72,105,90,75,88,155,68,90,84,87,112,87,125,108,142,97,105,75,137,150,88,145,63,95,140,88,85,70,85,115,86,79,120,120,65,110,220,115,170,100,90,225,85,65,97,90,90,49,110,70,92,53,100,190,63,90,67,65,75,100,110,60,93,88,150,100,150,88,225,68,70,208,105,74,90,110,72,97,88,88,129,85,86,150,70,48,77,65,175,90,150,110,130,53,65,158,95,61,215,100,145,68,150,88,67,105,175,160,74,135,100,67,198,180,215,100,225,155,170,81,85,95,80,92,70,149,84,97,52,72,85,52,95,71,140,100,96,150,75,107,110,75,97,133,70,67,112,145,115,98,70,78,230,63,76,105,95,62,165,165,160,190,95,180,78,120,80,75,68,67,95,140,110,72,150,95,54,153,130,170,86,97,90,145,86,79,165,83,64,92,72,140,150,96,150,80,130,100,125,90,94,76,90,150,97,85,81,78,46,84,70,153,116,100,167,88,88,88,200,125,92,110,69,67,90,150,90,71,105,62,88,122,65,88,90,68,110,88],\"index\":[0,1,2,3,4,5,6,7,8,9,10,11,12,13,14,15,16,17,18,19,20,21,22,23,24,25,26,27,28,29,30,31,32,33,34,35,36,37,38,39,40,41,42,43,44,45,46,47,48,49,50,51,52,53,54,55,56,57,58,59,60,61,62,63,64,65,66,67,68,69,70,71,72,73,74,75,76,77,78,79,80,81,82,83,84,85,86,87,88,89,90,91,92,93,94,95,96,97,98,99,100,101,102,103,104,105,106,107,108,109,110,111,112,113,114,115,116,117,118,119,120,121,122,123,124,125,126,127,128,129,130,131,132,133,134,135,136,137,138,139,140,141,142,143,144,145,146,147,148,149,150,151,152,153,154,155,156,157,158,159,160,161,162,163,164,165,166,167,168,169,170,171,172,173,174,175,176,177,178,179,180,181,182,183,184,185,186,187,188,189,190,191,192,193,194,195,196,197,198,199,200,201,202,203,204,205,206,207,208,209,210,211,212,213,214,215,216,217,218,219,220,221,222,223,224,225,226,227,228,229,230,231,232,233,234,235,236,237,238,239,240,241,242,243,244,245,246,247,248,249,250,251,252,253,254,255,256,257,258,259,260,261,262,263,264,265,266,267,268,269,270,271,272,273,274,275,276,277,278,279,280,281,282,283,284,285,286,287,288,289,290,291,292,293,294,295,296,297,298,299,300,301,302,303,304,305,306,307,308,309,310,311,312,313,314,315,316,317,318,319,320,321,322,323,324,325,326,327,328,329,330,331,332,333,334,335,336,337,338,339,340,341,342,343,344,345,346,347,348,349,350,351,352,353,354,355,356,357,358,359,360,361,362,363,364,365,366,367,368,369,370,371,372,373,374,375,376,377,378,379,380,381,382,383,384,385,386,387,388,389,390,391],\"mpg\":{\"__ndarray__\":\"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\",\"dtype\":\"float64\",\"shape\":[392]},\"name\":[\"ford mustang\",\"hi 1200d\",\"honda civic cvcc\",\"ford granada\",\"audi 4000\",\"datsun 200sx\",\"toyota corolla\",\"volkswagen 411 (sw)\",\"mercury cougar brougham\",\"ford torino\",\"vw pickup\",\"pontiac sunbird coupe\",\"dodge rampage\",\"ford ltd\",\"chevrolet monte carlo\",\"chevrolet chevelle concours (sw)\",\"renault 5 gtl\",\"chevy s-10\",\"toyota corolla 1200\",\"mazda rx-4\",\"plymouth valiant custom\",\"buick century\",\"ford gran torino\",\"dodge challenger se\",\"pontiac astro\",\"fiat 124 sport coupe\",\"toyota celica gt\",\"toyota corona mark ii\",\"buick skyhawk\",\"mazda 626\",\"datsun 280-zx\",\"amc matador (sw)\",\"ford pinto\",\"chrysler lebaron salon\",\"fiat 131\",\"opel manta\",\"ford gran torino (sw)\",\"ford futura\",\"mercury lynx l\",\"chevrolet chevette\",\"honda civic 1300\",\"dodge charger 2.2\",\"mercury grand marquis\",\"pontiac grand prix lj\",\"ford escort 2h\",\"datsun b210\",\"datsun 510\",\"dodge coronet custom (sw)\",\"chevrolet chevette\",\"chevrolet nova\",\"dodge monaco (sw)\",\"ford ltd landau\",\"toyota corona\",\"buick skylark limited\",\"audi fox\",\"dodge omni\",\"amc gremlin\",\"mercury zephyr\",\"ford granada l\",\"honda civic\",\"toyota corolla 1200\",\"ford torino 500\",\"chevrolet chevelle malibu classic\",\"chevrolet vega\",\"plymouth valiant\",\"plymouth cricket\",\"chevy c10\",\"oldsmobile cutlass salon brougham\",\"dodge d200\",\"dodge colt (sw)\",\"dodge monaco brougham\",\"renault 12 (sw)\",\"plymouth fury gran sedan\",\"mercury marquis brougham\",\"datsun 810 maxima\",\"capri ii\",\"amc hornet\",\"oldsmobile omega brougham\",\"plymouth duster\",\"fiat 124 tc\",\"volvo diesel\",\"fiat x1.9\",\"peugeot 504\",\"pontiac lemans v6\",\"dodge aries se\",\"audi 100ls\",\"buick century luxus (sw)\",\"plymouth fury iii\",\"datsun 310 gx\",\"pontiac safari (sw)\",\"chevrolet woody\",\"buick century 350\",\"buick century limited\",\"toyota corona hardtop\",\"mazda glc 4\",\"chevrolet caprice classic\",\"honda civic 1500 gl\",\"chevrolet malibu\",\"amc hornet sportabout (sw)\",\"plymouth sapporo\",\"volvo 245\",\"saab 99le\",\"ford mustang ii 2+2\",\"ford fiesta\",\"peugeot 504\",\"fiat 128\",\"ford granada ghia\",\"oldsmobile cutlass ls\",\"datsun b-210\",\"audi 5000\",\"volkswagen model 111\",\"amc ambassador sst\",\"chevrolet vega\",\"ford country squire (sw)\",\"audi 100 ls\",\"oldsmobile cutlass supreme\",\"toyota starlet\",\"ford gran torino\",\"chevrolet malibu\",\"mercury monarch ghia\",\"renault 12tl\",\"datsun 1200\",\"dodge coronet custom\",\"audi 5000s (diesel)\",\"buick opel isuzu deluxe\",\"vw rabbit custom\",\"volkswagen 1131 deluxe sedan\",\"plymouth satellite custom\",\"chevrolet vega\",\"dodge aspen\",\"pontiac catalina brougham\",\"dodge colt hardtop\",\"volkswagen jetta\",\"plymouth fury iii\",\"chrysler lebaron town @ country (sw)\",\"datsun 310\",\"amc matador\",\"vw rabbit c (diesel)\",\"chevrolet nova\",\"chevrolet vega 2300\",\"vw dasher (diesel)\",\"buick century special\",\"pontiac phoenix lj\",\"ford fairmont\",\"amc hornet\",\"toyota corolla\",\"bmw 2002\",\"chrysler newport royal\",\"dodge aries wagon (sw)\",\"peugeot 505s turbo diesel\",\"chevrolet impala\",\"cadillac seville\",\"volkswagen scirocco\",\"honda civic\",\"ford maverick\",\"plymouth satellite sebring\",\"pontiac phoenix\",\"toyota corolla\",\"datsun pl510\",\"buick lesabre custom\",\"mazda glc custom\",\"chevrolet citation\",\"plymouth reliant\",\"peugeot 504 (sw)\",\"volvo 144ea\",\"peugeot 504\",\"cadillac eldorado\",\"toyota mark ii\",\"ford country squire (sw)\",\"datsun 200-sx\",\"chevrolet nova\",\"toyota corolla\",\"ford gran torino\",\"dodge dart custom\",\"chevrolet cavalier wagon\",\"chevrolet bel air\",\"chevrolet chevette\",\"saab 99e\",\"chevrolet chevelle malibu classic\",\"chevrolet cavalier 2-door\",\"oldsmobile cutlass ciera (diesel)\",\"peugeot 304\",\"mercury zephyr 6\",\"saab 99le\",\"ford pinto runabout\",\"dodge colt\",\"mercedes-benz 280s\",\"amc concord d/l\",\"mazda glc\",\"bmw 320i\",\"chevrolet impala\",\"saab 99gle\",\"chevrolet monte carlo landau\",\"plymouth volare\",\"oldsmobile cutlass salon brougham\",\"buick electra 225 custom\",\"ford fairmont (auto)\",\"ford escort 4w\",\"toyouta corona mark ii (sw)\",\"amc concord\",\"amc pacer\",\"fiat 128\",\"chevrolet citation\",\"toyota corolla\",\"datsun 510 hatchback\",\"honda civic cvcc\",\"amc gremlin\",\"amc ambassador dpl\",\"plymouth horizon 4\",\"amc concord\",\"honda civic (auto)\",\"maxda glc deluxe\",\"honda prelude\",\"dodge aspen se\",\"amc matador\",\"toyota corolla tercel\",\"subaru\",\"toyota corolla 1600 (sw)\",\"plymouth grand fury\",\"chevrolet chevelle malibu\",\"plymouth volare premier v8\",\"chevrolet cavalier\",\"buick estate wagon (sw)\",\"honda accord cvcc\",\"plymouth horizon tc3\",\"mercury marquis\",\"chevroelt chevelle malibu\",\"mazda 626\",\"dodge aspen\",\"pontiac ventura sj\",\"mercury monarch\",\"amc hornet\",\"triumph tr7 coupe\",\"ford granada gl\",\"ford mustang ii\",\"pontiac j2000 se hatchback\",\"ford pinto (sw)\",\"chevrolet impala\",\"datsun f-10 hatchback\",\"volkswagen rabbit custom diesel\",\"mercedes benz 300d\",\"datsun 210\",\"pontiac catalina\",\"toyota corona liftback\",\"dodge coronet brougham\",\"dodge aspen 6\",\"chevrolet chevelle malibu\",\"honda civic\",\"datsun 210\",\"ford ltd\",\"plymouth duster\",\"datsun 710\",\"chrysler new yorker brougham\",\"mazda rx-7 gs\",\"chevrolet monte carlo landau\",\"mazda glc custom l\",\"plymouth satellite\",\"peugeot 504\",\"subaru\",\"plymouth valiant\",\"amc ambassador brougham\",\"oldsmobile delta 88 royale\",\"volkswagen rabbit l\",\"dodge st. regis\",\"amc gremlin\",\"mercedes-benz 240d\",\"ford galaxie 500\",\"oldsmobile omega\",\"ford f250\",\"chevrolet nova custom\",\"pontiac catalina\",\"buick estate wagon (sw)\",\"plymouth custom suburb\",\"opel 1900\",\"ford maverick\",\"toyota celica gt liftback\",\"ford pinto\",\"datsun 510 (sw)\",\"volkswagen rabbit\",\"ford thunderbird\",\"buick skylark\",\"mazda rx2 coupe\",\"mazda glc deluxe\",\"chevrolet vega (sw)\",\"ford pinto\",\"toyota corona\",\"audi 100ls\",\"volkswagen rabbit\",\"dodge magnum xe\",\"pontiac firebird\",\"toyota corona\",\"amc matador (sw)\",\"dodge colt\",\"mercury capri v6\",\"buick century\",\"honda accord\",\"ford pinto\",\"peugeot 604sl\",\"datsun b210 gx\",\"subaru dl\",\"volvo 145e (sw)\",\"chevrolet caprice classic\",\"chevrolet citation\",\"volvo 244dl\",\"plymouth horizon\",\"volkswagen dasher\",\"pontiac grand prix\",\"plymouth horizon miser\",\"vw rabbit\",\"dodge colt\",\"plymouth duster\",\"vokswagen rabbit\",\"buick regal sport coupe (turbo)\",\"buick skylark 320\",\"plymouth 'cuda 340\",\"chrysler cordoba\",\"amc pacer d/l\",\"oldsmobile vista cruiser\",\"volkswagen rabbit custom\",\"amc matador\",\"dodge colt hatchback custom\",\"toyota corolla liftback\",\"chevrolet chevette\",\"subaru dl\",\"plymouth fury\",\"ford gran torino (sw)\",\"chevrolet monza 2+2\",\"honda accord\",\"amc rebel sst\",\"toyota corona\",\"volkswagen type 3\",\"ford galaxie 500\",\"chevrolet caprice classic\",\"pontiac catalina\",\"mercury capri 2000\",\"datsun 710\",\"pontiac phoenix\",\"chevrolet monte carlo s\",\"ford mustang gl\",\"ford ranger\",\"chevrolet impala\",\"dodge colt m/m\",\"plymouth champ\",\"ford fairmont futura\",\"ford pinto\",\"dodge diplomat\",\"plymouth fury iii\",\"plymouth arrow gs\",\"amc matador\",\"amc spirit dl\",\"ford f108\",\"plymouth volare custom\",\"volvo 264gl\",\"opel 1900\",\"datsun 610\",\"fiat 124b\",\"maxda rx3\",\"plymouth satellite custom (sw)\",\"datsun 810\",\"oldsmobile starfire sx\",\"ford maverick\",\"opel manta\",\"volkswagen super beetle\",\"plymouth reliant\",\"vw rabbit\",\"ford galaxie 500\",\"toyota cressida\",\"amc hornet\",\"ford country\",\"toyota carina\",\"datsun pl510\",\"ford fairmont 4\",\"chevy c20\",\"chevrolet malibu classic (sw)\",\"chrysler lebaron medallion\",\"amc matador\",\"fiat strada custom\",\"volkswagen dasher\",\"amc concord dl 6\",\"dodge d100\",\"amc gremlin\",\"volkswagen dasher\",\"buick skylark\",\"toyota tercel\",\"nissan stanza xe\",\"toyota mark ii\",\"datsun 210 mpg\",\"ford maverick\",\"chevrolet camaro\",\"honda accord lx\",\"chevrolet concours\",\"ford fairmont (man)\"],\"origin\":[\"US\",\"US\",\"Asia\",\"US\",\"Europe\",\"Asia\",\"Asia\",\"Europe\",\"US\",\"US\",\"Europe\",\"US\",\"US\",\"US\",\"US\",\"US\",\"Europe\",\"US\",\"Asia\",\"Asia\",\"US\",\"US\",\"US\",\"US\",\"US\",\"Europe\",\"Asia\",\"Asia\",\"US\",\"Asia\",\"Asia\",\"US\",\"US\",\"US\",\"Europe\",\"Europe\",\"US\",\"US\",\"US\",\"US\",\"Asia\",\"US\",\"US\",\"US\",\"US\",\"Asia\",\"Asia\",\"US\",\"US\",\"US\",\"US\",\"US\",\"Asia\",\"US\",\"Europe\",\"US\",\"US\",\"US\",\"US\",\"Asia\",\"Asia\",\"US\",\"US\",\"US\",\"US\",\"US\",\"US\",\"US\",\"US\",\"US\",\"US\",\"Europe\",\"US\",\"US\",\"Asia\",\"US\",\"US\",\"US\",\"US\",\"Europe\",\"Europe\",\"Europe\",\"Europe\",\"US\",\"US\",\"Europe\",\"US\",\"US\",\"Asia\",\"US\",\"US\",\"US\",\"US\",\"Asia\",\"Asia\",\"US\",\"Asia\",\"US\",\"US\",\"US\",\"Europe\",\"Europe\",\"US\",\"US\",\"Europe\",\"Europe\",\"US\",\"US\",\"Asia\",\"Europe\",\"Europe\",\"US\",\"US\",\"US\",\"Europe\",\"US\",\"Asia\",\"US\",\"US\",\"US\",\"Europe\",\"Asia\",\"US\",\"Europe\",\"US\",\"Europe\",\"Europe\",\"US\",\"US\",\"US\",\"US\",\"US\",\"Europe\",\"US\",\"US\",\"Asia\",\"US\",\"Europe\",\"US\",\"US\",\"Europe\",\"US\",\"US\",\"US\",\"US\",\"Asia\",\"Europe\",\"US\",\"US\",\"Europe\",\"US\",\"US\",\"Europe\",\"Asia\",\"US\",\"US\",\"US\",\"Asia\",\"Asia\",\"US\",\"Asia\",\"US\",\"US\",\"Europe\",\"Europe\",\"Europe\",\"US\",\"Asia\",\"US\",\"Asia\",\"US\",\"Asia\",\"US\",\"US\",\"US\",\"US\",\"US\",\"Europe\",\"US\",\"US\",\"US\",\"Europe\",\"US\",\"Europe\",\"US\",\"US\",\"Europe\",\"US\",\"Asia\",\"Europe\",\"US\",\"Europe\",\"US\",\"US\",\"US\",\"US\",\"US\",\"US\",\"Asia\",\"US\",\"US\",\"Europe\",\"US\",\"Asia\",\"Asia\",\"Asia\",\"US\",\"US\",\"US\",\"US\",\"Asia\",\"Asia\",\"Asia\",\"US\",\"US\",\"Asia\",\"Asia\",\"Asia\",\"US\",\"US\",\"US\",\"US\",\"US\",\"Asia\",\"US\",\"US\",\"US\",\"Asia\",\"US\",\"US\",\"US\",\"US\",\"Europe\",\"US\",\"US\",\"US\",\"US\",\"US\",\"Asia\",\"Europe\",\"Europe\",\"Asia\",\"US\",\"Asia\",\"US\",\"US\",\"US\",\"Asia\",\"Asia\",\"US\",\"US\",\"Asia\",\"US\",\"Asia\",\"US\",\"Asia\",\"US\",\"Europe\",\"Asia\",\"US\",\"US\",\"US\",\"Europe\",\"US\",\"US\",\"Europe\",\"US\",\"US\",\"US\",\"US\",\"US\",\"US\",\"US\",\"Europe\",\"US\",\"Asia\",\"US\",\"Asia\",\"Europe\",\"US\",\"US\",\"Asia\",\"Asia\",\"US\",\"US\",\"Asia\",\"Europe\",\"Europe\",\"US\",\"US\",\"Asia\",\"US\",\"US\",\"US\",\"US\",\"Asia\",\"US\",\"Europe\",\"Asia\",\"Asia\",\"Europe\",\"US\",\"US\",\"Europe\",\"US\",\"Europe\",\"US\",\"US\",\"Europe\",\"US\",\"US\",\"Europe\",\"US\",\"US\",\"US\",\"US\",\"US\",\"US\",\"Europe\",\"US\",\"US\",\"Asia\",\"US\",\"Asia\",\"US\",\"US\",\"US\",\"Asia\",\"US\",\"Asia\",\"Europe\",\"US\",\"US\",\"US\",\"US\",\"Asia\",\"US\",\"US\",\"US\",\"US\",\"US\",\"US\",\"US\",\"US\",\"US\",\"US\",\"US\",\"US\",\"US\",\"US\",\"US\",\"US\",\"Europe\",\"Europe\",\"Asia\",\"Europe\",\"Asia\",\"US\",\"Asia\",\"US\",\"US\",\"Europe\",\"Europe\",\"US\",\"Europe\",\"US\",\"Asia\",\"US\",\"US\",\"Asia\",\"Asia\",\"US\",\"US\",\"US\",\"US\",\"US\",\"Europe\",\"Europe\",\"US\",\"US\",\"US\",\"Europe\",\"US\",\"Asia\",\"Asia\",\"Asia\",\"Asia\",\"US\",\"US\",\"Asia\",\"US\",\"US\"],\"size\":{\"__ndarray__\":\"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\",\"dtype\":\"float64\",\"shape\":[392]},\"weight\":[3139,4732,1800,3525,2188,2615,2265,2511,4295,3449,2130,2740,2295,4657,3761,4098,1825,2720,1836,2720,3264,3907,4141,3563,2592,2265,2665,2372,3039,2542,2910,3892,2639,3465,2464,2158,4638,3205,2125,2035,1760,2370,3955,4220,2380,1950,2300,4457,2120,3336,4955,3725,2228,2670,2219,2230,2914,3070,2835,1965,1773,3302,3781,2542,3233,1955,4055,3365,4382,2164,4140,2189,4237,4952,2930,2572,3085,2700,2904,2246,3160,2000,3190,3245,2525,2582,4699,4312,1995,5140,2164,4100,2945,2278,1985,4464,1850,3155,2962,2745,3150,2660,2755,1800,2957,2108,3574,3725,1990,2830,1834,3672,2401,4746,2430,4060,1755,4215,3988,3570,2202,1613,3777,2950,2155,1925,1835,3439,2408,3620,4464,2126,2190,4096,3940,2019,3288,2085,3459,2264,2335,3380,3535,2870,2945,2155,2234,4422,2620,3230,4274,4380,1990,2489,3158,3613,2556,2350,2130,4502,1970,2678,2490,2979,2868,2672,3900,2930,4054,2405,3353,2171,4042,3399,2640,4440,2051,2375,4215,2395,3015,2074,2990,2671,2226,2255,3820,3410,2110,2600,4354,2795,4165,3430,3420,4951,2965,2045,2506,3003,3211,1867,2725,2245,2434,1795,2789,3850,2215,3210,1965,1975,2210,3651,3730,1968,2391,2100,4498,3329,3940,2605,3086,2045,2150,4633,3897,2635,3381,3645,3432,2774,2500,3060,3169,2575,2395,4997,1945,1985,3530,2110,4385,2711,4190,3360,3504,1795,2020,4363,3102,2003,4735,2420,3425,2025,3436,3270,2065,3121,3821,4456,1980,3830,2634,3250,4341,3664,4615,3278,4425,4360,4654,2220,2587,2515,2451,2288,1937,4335,2635,2330,1985,2408,2310,1649,2694,1825,4080,3282,2702,4257,2125,2472,3415,2205,2984,3410,2070,1985,2933,3880,2595,2945,2200,2190,4278,2125,2144,2800,2833,1845,3445,3693,3609,4325,3193,4499,1940,3962,1915,2265,2155,2145,3785,4294,3221,2290,3433,2560,2254,4129,3840,4668,2220,2545,2735,4082,2790,2625,4209,2075,1875,2865,2565,3735,4135,2300,3672,2670,3870,3630,3140,2123,2379,2065,2124,4077,2815,2855,3012,2300,1950,2385,1937,4154,2900,2901,4906,2279,2130,2890,4376,3605,2585,3632,2130,1963,3265,3755,2648,2223,3425,2050,2160,2807,1975,3021,2950,2135,3520,2720],\"yr\":[71,70,78,77,80,81,80,72,77,70,82,77,82,75,70,72,77,82,74,77,75,75,74,70,75,73,82,70,75,80,80,72,75,81,76,73,74,78,82,76,81,82,79,77,81,74,78,74,80,74,71,79,71,79,74,78,75,78,82,82,71,71,74,74,76,71,76,78,70,72,77,72,73,73,81,76,76,79,73,74,81,74,79,79,82,73,74,70,82,71,76,73,82,72,81,73,80,78,71,78,76,73,77,78,75,74,76,81,76,78,71,72,73,71,70,77,81,76,73,78,76,71,73,80,77,79,70,71,72,78,71,72,81,71,79,80,71,80,75,71,80,78,78,80,73,76,70,72,81,81,72,76,78,74,75,74,79,81,70,72,82,80,81,72,73,70,79,76,79,78,76,75,73,73,82,75,77,70,76,82,82,71,79,75,72,76,76,78,80,77,70,78,77,78,79,73,78,81,72,80,75,73,81,82,80,75,73,70,81,78,82,79,81,76,75,80,74,72,75,71,76,82,70,77,79,72,75,81,80,76,75,70,80,81,75,82,72,73,77,78,79,80,72,80,76,79,70,76,79,73,74,74,73,80,78,82,70,76,81,73,73,72,82,79,71,80,70,73,70,73,70,79,73,76,70,78,74,72,75,77,81,72,78,71,73,74,75,76,78,71,75,74,74,73,81,82,75,78,78,77,72,77,79,75,79,77,73,82,80,80,70,80,78,70,70,77,76,73,77,76,79,77,78,80,75,72,75,80,70,78,72,72,79,75,71,75,82,73,82,82,71,77,81,82,76,78,72,77,73,79,76,77,78,71,73,71,73,72,77,78,76,74,73,81,76,71,81,74,73,73,71,79,70,79,82,74,79,74,79,76,70,75,77,81,82,73,81,73,82,78,77,78]},\"selected\":{\"id\":\"658c199a-2b25-47d8-94a9-ca103a495c9d\",\"type\":\"Selection\"},\"selection_policy\":{\"id\":\"0f0d924c-06c1-492a-8eda-b0aa9a374da9\",\"type\":\"UnionRenderers\"}},\"id\":\"441a0da8-655e-4338-af0b-459185048580\",\"type\":\"ColumnDataSource\"},{\"attributes\":{\"fill_color\":{\"field\":\"origin\",\"transform\":{\"id\":\"d2849ee6-a04c-42fe-864d-c1c51ca8609d\",\"type\":\"CategoricalColorMapper\"}},\"line_color\":{\"field\":\"origin\",\"transform\":{\"id\":\"d2849ee6-a04c-42fe-864d-c1c51ca8609d\",\"type\":\"CategoricalColorMapper\"}},\"x\":{\"field\":\"weight\"},\"y\":{\"field\":\"mpg\"}},\"id\":\"4d1ba7ff-87b3-4cae-b907-1abc939814e6\",\"type\":\"Circle\"},{\"attributes\":{},\"id\":\"60b30f53-eb67-4351-93b6-e2bbd46be82e\",\"type\":\"PanTool\"},{\"attributes\":{\"items\":[{\"id\":\"b8a79710-085d-492f-979a-52be69c7c80c\",\"type\":\"LegendItem\"}],\"plot\":{\"id\":\"68ad5825-ee2e-499e-988c-949c825ddd75\",\"subtype\":\"Figure\",\"type\":\"Plot\"}},\"id\":\"be4649c6-1f2a-453a-b7ba-699520e96d82\",\"type\":\"Legend\"},{\"attributes\":{},\"id\":\"a921cf9b-ae08-4d64-af57-a081a597efd6\",\"type\":\"BasicTickFormatter\"},{\"attributes\":{},\"id\":\"49e88521-e679-40ec-8ff1-31b87c34cdb6\",\"type\":\"ResetTool\"},{\"attributes\":{\"plot\":{\"id\":\"68ad5825-ee2e-499e-988c-949c825ddd75\",\"subtype\":\"Figure\",\"type\":\"Plot\"},\"ticker\":{\"id\":\"e775981f-f3ab-4fe0-8d38-cb5475cbd5d7\",\"type\":\"BasicTicker\"}},\"id\":\"6fa950e4-2fd3-423e-bfef-ee090d54ea0b\",\"type\":\"Grid\"},{\"attributes\":{\"plot\":null,\"text\":\"\"},\"id\":\"8f25893d-3509-4c4f-b2e1-668568ba3a39\",\"type\":\"Title\"},{\"attributes\":{\"axis_label\":\"mpg\",\"formatter\":{\"id\":\"3c4c7957-533c-4c78-8bc9-9529113a7067\",\"type\":\"BasicTickFormatter\"},\"plot\":{\"id\":\"68ad5825-ee2e-499e-988c-949c825ddd75\",\"subtype\":\"Figure\",\"type\":\"Plot\"},\"ticker\":{\"id\":\"3e975bcb-343d-442a-ac90-1974816df436\",\"type\":\"BasicTicker\"}},\"id\":\"a874046e-7ef7-4501-b97f-5967931c69eb\",\"type\":\"LinearAxis\"},{\"attributes\":{},\"id\":\"3c4c7957-533c-4c78-8bc9-9529113a7067\",\"type\":\"BasicTickFormatter\"},{\"attributes\":{},\"id\":\"0f0d924c-06c1-492a-8eda-b0aa9a374da9\",\"type\":\"UnionRenderers\"},{\"attributes\":{},\"id\":\"e775981f-f3ab-4fe0-8d38-cb5475cbd5d7\",\"type\":\"BasicTicker\"},{\"attributes\":{\"axis_label\":\"Weight\",\"formatter\":{\"id\":\"a921cf9b-ae08-4d64-af57-a081a597efd6\",\"type\":\"BasicTickFormatter\"},\"plot\":{\"id\":\"68ad5825-ee2e-499e-988c-949c825ddd75\",\"subtype\":\"Figure\",\"type\":\"Plot\"},\"ticker\":{\"id\":\"e775981f-f3ab-4fe0-8d38-cb5475cbd5d7\",\"type\":\"BasicTicker\"}},\"id\":\"60f34081-8946-483a-a2d7-3e4cac3c6b26\",\"type\":\"LinearAxis\"},{\"attributes\":{\"below\":[{\"id\":\"60f34081-8946-483a-a2d7-3e4cac3c6b26\",\"type\":\"LinearAxis\"}],\"left\":[{\"id\":\"a874046e-7ef7-4501-b97f-5967931c69eb\",\"type\":\"LinearAxis\"}],\"renderers\":[{\"id\":\"60f34081-8946-483a-a2d7-3e4cac3c6b26\",\"type\":\"LinearAxis\"},{\"id\":\"6fa950e4-2fd3-423e-bfef-ee090d54ea0b\",\"type\":\"Grid\"},{\"id\":\"a874046e-7ef7-4501-b97f-5967931c69eb\",\"type\":\"LinearAxis\"},{\"id\":\"3f57e139-48eb-43d8-824f-5dcf98afdd37\",\"type\":\"Grid\"},{\"id\":\"41838000-ed5e-4bef-bc08-300bbe9b788f\",\"type\":\"BoxAnnotation\"},{\"id\":\"be4649c6-1f2a-453a-b7ba-699520e96d82\",\"type\":\"Legend\"},{\"id\":\"339f8f3f-1d41-4844-95fd-3a1f9de3e2b8\",\"type\":\"GlyphRenderer\"}],\"title\":{\"id\":\"8f25893d-3509-4c4f-b2e1-668568ba3a39\",\"type\":\"Title\"},\"toolbar\":{\"id\":\"18626e09-9a0f-496b-abdc-c0d5154f475b\",\"type\":\"Toolbar\"},\"x_range\":{\"id\":\"28dd677a-2d52-40f9-acaf-c797b0f05316\",\"type\":\"DataRange1d\"},\"x_scale\":{\"id\":\"31419a76-6558-4b79-9b00-20d9dd11ec7b\",\"type\":\"LinearScale\"},\"y_range\":{\"id\":\"f4488d50-9444-410c-9e08-209bbc0aae91\",\"type\":\"DataRange1d\"},\"y_scale\":{\"id\":\"d9cad7a6-e8a6-4d87-bac3-e7ee3e9efadf\",\"type\":\"LinearScale\"}},\"id\":\"68ad5825-ee2e-499e-988c-949c825ddd75\",\"subtype\":\"Figure\",\"type\":\"Plot\"},{\"attributes\":{\"active_drag\":\"auto\",\"active_inspect\":\"auto\",\"active_multi\":null,\"active_scroll\":\"auto\",\"active_tap\":\"auto\",\"tools\":[{\"id\":\"60b30f53-eb67-4351-93b6-e2bbd46be82e\",\"type\":\"PanTool\"},{\"id\":\"a97b33a7-c135-4156-8c3f-cc0e7c9bd226\",\"type\":\"WheelZoomTool\"},{\"id\":\"534436c2-fe4e-4fab-95d2-3f64da14dbb0\",\"type\":\"BoxZoomTool\"},{\"id\":\"1feed2bb-dd9f-4755-b1a5-eadb9547eb33\",\"type\":\"SaveTool\"},{\"id\":\"49e88521-e679-40ec-8ff1-31b87c34cdb6\",\"type\":\"ResetTool\"},{\"id\":\"bd9eabaa-3656-4152-a769-245557181861\",\"type\":\"HelpTool\"}]},\"id\":\"18626e09-9a0f-496b-abdc-c0d5154f475b\",\"type\":\"Toolbar\"},{\"attributes\":{},\"id\":\"1feed2bb-dd9f-4755-b1a5-eadb9547eb33\",\"type\":\"SaveTool\"},{\"attributes\":{},\"id\":\"31419a76-6558-4b79-9b00-20d9dd11ec7b\",\"type\":\"LinearScale\"},{\"attributes\":{\"data_source\":{\"id\":\"441a0da8-655e-4338-af0b-459185048580\",\"type\":\"ColumnDataSource\"},\"glyph\":{\"id\":\"4d1ba7ff-87b3-4cae-b907-1abc939814e6\",\"type\":\"Circle\"},\"hover_glyph\":null,\"muted_glyph\":null,\"nonselection_glyph\":{\"id\":\"727fdd40-85dc-48a8-812a-c72722255ce0\",\"type\":\"Circle\"},\"selection_glyph\":null,\"view\":{\"id\":\"b80cdbff-9f33-4a0d-84d5-98e0f66b94e3\",\"type\":\"CDSView\"}},\"id\":\"339f8f3f-1d41-4844-95fd-3a1f9de3e2b8\",\"type\":\"GlyphRenderer\"},{\"attributes\":{\"label\":{\"field\":\"origin\"},\"renderers\":[{\"id\":\"339f8f3f-1d41-4844-95fd-3a1f9de3e2b8\",\"type\":\"GlyphRenderer\"}]},\"id\":\"b8a79710-085d-492f-979a-52be69c7c80c\",\"type\":\"LegendItem\"},{\"attributes\":{\"callback\":null},\"id\":\"f4488d50-9444-410c-9e08-209bbc0aae91\",\"type\":\"DataRange1d\"}],\"root_ids\":[\"68ad5825-ee2e-499e-988c-949c825ddd75\"]},\"title\":\"Bokeh Application\",\"version\":\"0.13.0\"}};\n",
       "  var render_items = [{\"docid\":\"924b3af0-4f5d-4b49-ac67-ef87d59658e8\",\"roots\":{\"68ad5825-ee2e-499e-988c-949c825ddd75\":\"3d1c5d59-5ff8-40bf-85e1-c634af24f706\"}}];\n",
       "  root.Bokeh.embed.embed_items_notebook(docs_json, render_items);\n",
       "\n",
       "  }\n",
       "  if (root.Bokeh !== undefined) {\n",
       "    embed_document(root);\n",
       "  } else {\n",
       "    var attempts = 0;\n",
       "    var timer = setInterval(function(root) {\n",
       "      if (root.Bokeh !== undefined) {\n",
       "        embed_document(root);\n",
       "        clearInterval(timer);\n",
       "      }\n",
       "      attempts++;\n",
       "      if (attempts > 100) {\n",
       "        console.log(\"Bokeh: ERROR: Unable to run BokehJS code because BokehJS library is missing\")\n",
       "        clearInterval(timer);\n",
       "      }\n",
       "    }, 10, root)\n",
       "  }\n",
       "})(window);"
      ],
      "application/vnd.bokehjs_exec.v0+json": ""
     },
     "metadata": {
      "application/vnd.bokehjs_exec.v0+json": {
       "id": "68ad5825-ee2e-499e-988c-949c825ddd75"
      }
     },
     "output_type": "display_data"
    }
   ],
   "source": [
    "from bokeh.models import CategoricalColorMapper\n",
    "\n",
    "# Convert df to a ColumnDataSource: source\n",
    "source = ColumnDataSource(df)\n",
    "\n",
    "# Make a CategoricalColorMapper object: color_mapper\n",
    "color_mapper = CategoricalColorMapper(factors=['Europe', 'Asia', 'US'],\n",
    "                                      palette=['red', 'green', 'blue'])\n",
    "\n",
    "# Add a circle glyph to the figure p\n",
    "p=figure(x_axis_label='Weight', y_axis_label='mpg',)\n",
    "p.circle('weight', 'mpg', source=source,\n",
    "            color=dict(field='origin', transform=color_mapper),\n",
    "            legend='origin')\n",
    "\n",
    "# Specify the name of the output file and show the result\n",
    "output_file('colormap.html')\n",
    "show(p)"
   ]
  }
 ],
 "metadata": {
  "kernelspec": {
   "display_name": "Python 3",
   "language": "python",
   "name": "python3"
  },
  "language_info": {
   "codemirror_mode": {
    "name": "ipython",
    "version": 3
   },
   "file_extension": ".py",
   "mimetype": "text/x-python",
   "name": "python",
   "nbconvert_exporter": "python",
   "pygments_lexer": "ipython3",
   "version": "3.7.0"
  }
 },
 "nbformat": 4,
 "nbformat_minor": 2
}
